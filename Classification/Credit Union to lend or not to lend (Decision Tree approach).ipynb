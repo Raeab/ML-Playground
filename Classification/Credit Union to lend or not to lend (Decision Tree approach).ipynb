{
  "nbformat": 4,
  "nbformat_minor": 0,
  "metadata": {
    "kernelspec": {
      "name": "python3",
      "display_name": "Python 3"
    },
    "colab": {
      "provenance": [],
      "include_colab_link": true
    }
  },
  "cells": [
    {
      "cell_type": "markdown",
      "metadata": {
        "id": "view-in-github",
        "colab_type": "text"
      },
      "source": [
        "<a href=\"https://colab.research.google.com/github/Raeab/ML-Playround/blob/main/Credit_Union_Classification_(Good_Borrower_Bad_Borrower)_ML.ipynb\" target=\"_parent\"><img src=\"https://colab.research.google.com/assets/colab-badge.svg\" alt=\"Open In Colab\"/></a>"
      ]
    },
    {
      "cell_type": "markdown",
      "metadata": {
        "id": "jqm_REd4oouz"
      },
      "source": [
        "## 3.0: Load data and split"
      ]
    },
    {
      "cell_type": "code",
      "source": [
        "# Importing pkgs that will be used\n",
        "import pandas as pd\n",
        "import numpy as np"
      ],
      "metadata": {
        "id": "wXOn52yZ1pFr"
      },
      "execution_count": 1,
      "outputs": []
    },
    {
      "cell_type": "code",
      "metadata": {
        "id": "X6b_BM0Nz9sF",
        "colab": {
          "base_uri": "https://localhost:8080/"
        },
        "outputId": "38492132-5ed5-494d-c496-455c3f4eea2a"
      },
      "source": [
        "# First, we'll read the provided labeled training data\n",
        "df3 = pd.read_csv(\"https://drive.google.com/uc?export=download&id=1wOhyCnvGeY4jplxI8lZ-bbYN3zLtickf\")\n",
        "df3.info()\n",
        "\n",
        "from sklearn.model_selection import train_test_split\n",
        "\n",
        "X = df3.drop('BadCredit', axis=1) \n",
        "y = df3['BadCredit']\n",
        "\n",
        "X_train, X_test, y_train, y_test = train_test_split(X, y, test_size=0.2, random_state=42)"
      ],
      "execution_count": 2,
      "outputs": [
        {
          "output_type": "stream",
          "name": "stdout",
          "text": [
            "<class 'pandas.core.frame.DataFrame'>\n",
            "RangeIndex: 6000 entries, 0 to 5999\n",
            "Data columns (total 17 columns):\n",
            " #   Column             Non-Null Count  Dtype \n",
            "---  ------             --------------  ----- \n",
            " 0   UserID             6000 non-null   object\n",
            " 1   Sex                6000 non-null   object\n",
            " 2   PreviousDefault    6000 non-null   int64 \n",
            " 3   FirstName          6000 non-null   object\n",
            " 4   LastName           6000 non-null   object\n",
            " 5   NumberPets         6000 non-null   int64 \n",
            " 6   PreviousAccounts   6000 non-null   int64 \n",
            " 7   ResidenceDuration  6000 non-null   int64 \n",
            " 8   Street             6000 non-null   object\n",
            " 9   LicensePlate       6000 non-null   object\n",
            " 10  BadCredit          6000 non-null   int64 \n",
            " 11  Amount             6000 non-null   int64 \n",
            " 12  Married            6000 non-null   int64 \n",
            " 13  Duration           6000 non-null   int64 \n",
            " 14  City               6000 non-null   object\n",
            " 15  Purpose            6000 non-null   object\n",
            " 16  DateOfBirth        6000 non-null   object\n",
            "dtypes: int64(8), object(9)\n",
            "memory usage: 797.0+ KB\n"
          ]
        }
      ]
    },
    {
      "cell_type": "markdown",
      "source": [
        "##3.0.1: EDA "
      ],
      "metadata": {
        "id": "oHhblIEqlHWE"
      }
    },
    {
      "cell_type": "code",
      "source": [
        "X_train.columns"
      ],
      "metadata": {
        "id": "seEV3DZMpbbV",
        "colab": {
          "base_uri": "https://localhost:8080/"
        },
        "outputId": "d8002da0-7a9c-4c67-efaa-16cb4f1b8e5e"
      },
      "execution_count": 3,
      "outputs": [
        {
          "output_type": "execute_result",
          "data": {
            "text/plain": [
              "Index(['UserID', 'Sex', 'PreviousDefault', 'FirstName', 'LastName',\n",
              "       'NumberPets', 'PreviousAccounts', 'ResidenceDuration', 'Street',\n",
              "       'LicensePlate', 'Amount', 'Married', 'Duration', 'City', 'Purpose',\n",
              "       'DateOfBirth'],\n",
              "      dtype='object')"
            ]
          },
          "metadata": {},
          "execution_count": 3
        }
      ]
    },
    {
      "cell_type": "code",
      "source": [
        "X_train.shape"
      ],
      "metadata": {
        "id": "03fyNotY7YFd",
        "colab": {
          "base_uri": "https://localhost:8080/"
        },
        "outputId": "a2443d9c-a019-4373-d71f-f9845b07a518"
      },
      "execution_count": 4,
      "outputs": [
        {
          "output_type": "execute_result",
          "data": {
            "text/plain": [
              "(4800, 16)"
            ]
          },
          "metadata": {},
          "execution_count": 4
        }
      ]
    },
    {
      "cell_type": "code",
      "source": [
        "df3.isna().sum() # no missing "
      ],
      "metadata": {
        "id": "0Dem3R5E7YAL",
        "colab": {
          "base_uri": "https://localhost:8080/"
        },
        "outputId": "5a0cee94-9cad-467e-bac6-0ea45c09982a"
      },
      "execution_count": 5,
      "outputs": [
        {
          "output_type": "execute_result",
          "data": {
            "text/plain": [
              "UserID               0\n",
              "Sex                  0\n",
              "PreviousDefault      0\n",
              "FirstName            0\n",
              "LastName             0\n",
              "NumberPets           0\n",
              "PreviousAccounts     0\n",
              "ResidenceDuration    0\n",
              "Street               0\n",
              "LicensePlate         0\n",
              "BadCredit            0\n",
              "Amount               0\n",
              "Married              0\n",
              "Duration             0\n",
              "City                 0\n",
              "Purpose              0\n",
              "DateOfBirth          0\n",
              "dtype: int64"
            ]
          },
          "metadata": {},
          "execution_count": 5
        }
      ]
    },
    {
      "cell_type": "code",
      "source": [
        "print(round(df3.describe(),2))  # look at summary stat of numerical features for better understanding of the dataset.\n",
        "# We can see here some are dummies.  "
      ],
      "metadata": {
        "colab": {
          "base_uri": "https://localhost:8080/"
        },
        "id": "6_X6ST73eXk0",
        "outputId": "f1191a58-9bdb-44f0-c1ee-a8cade45c6d1"
      },
      "execution_count": 6,
      "outputs": [
        {
          "output_type": "stream",
          "name": "stdout",
          "text": [
            "       PreviousDefault  NumberPets  PreviousAccounts  ResidenceDuration  \\\n",
            "count          6000.00     6000.00           6000.00            6000.00   \n",
            "mean              0.02        1.02              1.01               1.99   \n",
            "std               0.14        0.82              1.01               1.39   \n",
            "min               0.00        0.00              0.00               0.00   \n",
            "25%               0.00        0.00              0.00               1.00   \n",
            "50%               0.00        1.00              1.00               2.00   \n",
            "75%               0.00        2.00              2.00               3.00   \n",
            "max               1.00        2.00              6.00               9.00   \n",
            "\n",
            "       BadCredit   Amount  Married  Duration  \n",
            "count    6000.00  6000.00  6000.00   6000.00  \n",
            "mean        0.17  3591.30     0.51     24.15  \n",
            "std         0.38   427.03     0.50      9.43  \n",
            "min         0.00  2158.00     0.00      6.00  \n",
            "25%         0.00  3290.00     0.00     18.00  \n",
            "50%         0.00  3595.00     1.00     24.00  \n",
            "75%         0.00  3902.00     1.00     30.00  \n",
            "max         1.00  4982.00     1.00     36.00  \n"
          ]
        }
      ]
    },
    {
      "cell_type": "code",
      "source": [
        "# Drop the features that are not useful.\n",
        "X_train_ = X_train.drop(['UserID','FirstName','LastName','LicensePlate','Street','NumberPets'], axis =1)  \n",
        "# Drop date of birth since it is not in the right format and it will be transformed at a later step.\n",
        "X_train_r = X_train_.drop(['DateOfBirth'], axis =1) "
      ],
      "metadata": {
        "id": "u8IPEe5IdKeC"
      },
      "execution_count": 7,
      "outputs": []
    },
    {
      "cell_type": "code",
      "source": [
        "# Check the distribution of dummies before one hot encoding.\n",
        "X_train_r['Sex'].value_counts()"
      ],
      "metadata": {
        "id": "RwZMTbsLhSSD",
        "colab": {
          "base_uri": "https://localhost:8080/"
        },
        "outputId": "dada14cc-b35e-4659-9385-e16221978833"
      },
      "execution_count": 8,
      "outputs": [
        {
          "output_type": "execute_result",
          "data": {
            "text/plain": [
              "F    3338\n",
              "M    1462\n",
              "Name: Sex, dtype: int64"
            ]
          },
          "metadata": {},
          "execution_count": 8
        }
      ]
    },
    {
      "cell_type": "code",
      "source": [
        "X_train_r['City'].value_counts()"
      ],
      "metadata": {
        "id": "jZ0uD0lKnMga",
        "colab": {
          "base_uri": "https://localhost:8080/"
        },
        "outputId": "6f2580a7-aec8-4117-89ab-0216c8ec62fd"
      },
      "execution_count": 9,
      "outputs": [
        {
          "output_type": "execute_result",
          "data": {
            "text/plain": [
              "North Judithbury    1319\n",
              "East Jill            652\n",
              "New Roberttown       467\n",
              "East Jessetown       341\n",
              "Lake Debra           278\n",
              "Robinsonshire        252\n",
              "Lisatown             169\n",
              "Lake Roberto         164\n",
              "Ericmouth            155\n",
              "North Noahstad       139\n",
              "Cassandraton         130\n",
              "New Kellystad         99\n",
              "Lake Chad             97\n",
              "Herrerafurt           96\n",
              "Ramirezstad           94\n",
              "Port Keith            91\n",
              "Port Jesseville       70\n",
              "New Jessica           67\n",
              "West Michael          64\n",
              "Jacquelineland        56\n",
              "Name: City, dtype: int64"
            ]
          },
          "metadata": {},
          "execution_count": 9
        }
      ]
    },
    {
      "cell_type": "code",
      "source": [
        "X_train_r['Purpose'].value_counts()"
      ],
      "metadata": {
        "id": "dAQMIsl5nNIT",
        "colab": {
          "base_uri": "https://localhost:8080/"
        },
        "outputId": "b1107ea6-37b9-4c1d-d536-79c4c34f492d"
      },
      "execution_count": 10,
      "outputs": [
        {
          "output_type": "execute_result",
          "data": {
            "text/plain": [
              "NewCar       1455\n",
              "UsedCar      1102\n",
              "Other         740\n",
              "Household     478\n",
              "Vacation      350\n",
              "Repair        348\n",
              "Education     258\n",
              "Business       69\n",
              "Name: Purpose, dtype: int64"
            ]
          },
          "metadata": {},
          "execution_count": 10
        }
      ]
    },
    {
      "cell_type": "code",
      "source": [
        "# Lets do OHE for categoricals.\n",
        "X_train_r = pd.get_dummies(X_train_r, drop_first= True) \n",
        "X_train_r.dtypes"
      ],
      "metadata": {
        "id": "bXG2OtaLsNYR",
        "colab": {
          "base_uri": "https://localhost:8080/"
        },
        "outputId": "92a2789b-429c-47b4-d7a2-dc99c58bf8fc"
      },
      "execution_count": 11,
      "outputs": [
        {
          "output_type": "execute_result",
          "data": {
            "text/plain": [
              "PreviousDefault          int64\n",
              "PreviousAccounts         int64\n",
              "ResidenceDuration        int64\n",
              "Amount                   int64\n",
              "Married                  int64\n",
              "Duration                 int64\n",
              "Sex_M                    uint8\n",
              "City_East Jessetown      uint8\n",
              "City_East Jill           uint8\n",
              "City_Ericmouth           uint8\n",
              "City_Herrerafurt         uint8\n",
              "City_Jacquelineland      uint8\n",
              "City_Lake Chad           uint8\n",
              "City_Lake Debra          uint8\n",
              "City_Lake Roberto        uint8\n",
              "City_Lisatown            uint8\n",
              "City_New Jessica         uint8\n",
              "City_New Kellystad       uint8\n",
              "City_New Roberttown      uint8\n",
              "City_North Judithbury    uint8\n",
              "City_North Noahstad      uint8\n",
              "City_Port Jesseville     uint8\n",
              "City_Port Keith          uint8\n",
              "City_Ramirezstad         uint8\n",
              "City_Robinsonshire       uint8\n",
              "City_West Michael        uint8\n",
              "Purpose_Education        uint8\n",
              "Purpose_Household        uint8\n",
              "Purpose_NewCar           uint8\n",
              "Purpose_Other            uint8\n",
              "Purpose_Repair           uint8\n",
              "Purpose_UsedCar          uint8\n",
              "Purpose_Vacation         uint8\n",
              "dtype: object"
            ]
          },
          "metadata": {},
          "execution_count": 11
        }
      ]
    },
    {
      "cell_type": "code",
      "source": [
        "pd.set_option('display.max_columns', None)\n",
        "X_train_r"
      ],
      "metadata": {
        "id": "10NCb671vkeL",
        "colab": {
          "base_uri": "https://localhost:8080/",
          "height": 505
        },
        "outputId": "c923e024-3c50-4be3-e4ed-9164511e5845"
      },
      "execution_count": 12,
      "outputs": [
        {
          "output_type": "execute_result",
          "data": {
            "text/plain": [
              "      PreviousDefault  PreviousAccounts  ResidenceDuration  Amount  Married  \\\n",
              "3897                0                 0                  2    3329        0   \n",
              "5628                0                 2                  2    2996        0   \n",
              "1756                0                 0                  3    2470        0   \n",
              "2346                0                 1                  2    3745        0   \n",
              "2996                0                 1                  3    3549        0   \n",
              "...               ...               ...                ...     ...      ...   \n",
              "3772                0                 1                  1    3607        1   \n",
              "5191                0                 1                  0    3186        0   \n",
              "5226                0                 1                  3    2387        1   \n",
              "5390                0                 1                  3    3620        0   \n",
              "860                 0                 2                  0    4106        0   \n",
              "\n",
              "      Duration  Sex_M  City_East Jessetown  City_East Jill  City_Ericmouth  \\\n",
              "3897        12      1                    0               0               0   \n",
              "5628        36      0                    0               0               1   \n",
              "1756        24      0                    0               1               0   \n",
              "2346        30      0                    0               0               0   \n",
              "2996        36      1                    0               0               0   \n",
              "...        ...    ...                  ...             ...             ...   \n",
              "3772        24      0                    0               0               0   \n",
              "5191        30      0                    0               0               0   \n",
              "5226        36      0                    0               0               0   \n",
              "5390        12      0                    0               0               0   \n",
              "860         30      0                    0               0               0   \n",
              "\n",
              "      City_Herrerafurt  City_Jacquelineland  City_Lake Chad  City_Lake Debra  \\\n",
              "3897                 0                    0               0                0   \n",
              "5628                 0                    0               0                0   \n",
              "1756                 0                    0               0                0   \n",
              "2346                 0                    0               0                1   \n",
              "2996                 0                    0               0                0   \n",
              "...                ...                  ...             ...              ...   \n",
              "3772                 0                    0               0                0   \n",
              "5191                 0                    0               0                0   \n",
              "5226                 0                    0               0                0   \n",
              "5390                 0                    0               0                1   \n",
              "860                  0                    0               0                0   \n",
              "\n",
              "      City_Lake Roberto  City_Lisatown  City_New Jessica  City_New Kellystad  \\\n",
              "3897                  0              0                 0                   0   \n",
              "5628                  0              0                 0                   0   \n",
              "1756                  0              0                 0                   0   \n",
              "2346                  0              0                 0                   0   \n",
              "2996                  0              0                 0                   0   \n",
              "...                 ...            ...               ...                 ...   \n",
              "3772                  0              0                 0                   0   \n",
              "5191                  0              0                 0                   0   \n",
              "5226                  1              0                 0                   0   \n",
              "5390                  0              0                 0                   0   \n",
              "860                   0              0                 0                   0   \n",
              "\n",
              "      City_New Roberttown  City_North Judithbury  City_North Noahstad  \\\n",
              "3897                    1                      0                    0   \n",
              "5628                    0                      0                    0   \n",
              "1756                    0                      0                    0   \n",
              "2346                    0                      0                    0   \n",
              "2996                    0                      1                    0   \n",
              "...                   ...                    ...                  ...   \n",
              "3772                    0                      0                    0   \n",
              "5191                    0                      1                    0   \n",
              "5226                    0                      0                    0   \n",
              "5390                    0                      0                    0   \n",
              "860                     0                      1                    0   \n",
              "\n",
              "      City_Port Jesseville  City_Port Keith  City_Ramirezstad  \\\n",
              "3897                     0                0                 0   \n",
              "5628                     0                0                 0   \n",
              "1756                     0                0                 0   \n",
              "2346                     0                0                 0   \n",
              "2996                     0                0                 0   \n",
              "...                    ...              ...               ...   \n",
              "3772                     0                0                 0   \n",
              "5191                     0                0                 0   \n",
              "5226                     0                0                 0   \n",
              "5390                     0                0                 0   \n",
              "860                      0                0                 0   \n",
              "\n",
              "      City_Robinsonshire  City_West Michael  Purpose_Education  \\\n",
              "3897                   0                  0                  0   \n",
              "5628                   0                  0                  0   \n",
              "1756                   0                  0                  0   \n",
              "2346                   0                  0                  0   \n",
              "2996                   0                  0                  0   \n",
              "...                  ...                ...                ...   \n",
              "3772                   1                  0                  0   \n",
              "5191                   0                  0                  0   \n",
              "5226                   0                  0                  0   \n",
              "5390                   0                  0                  0   \n",
              "860                    0                  0                  0   \n",
              "\n",
              "      Purpose_Household  Purpose_NewCar  Purpose_Other  Purpose_Repair  \\\n",
              "3897                  1               0              0               0   \n",
              "5628                  1               0              0               0   \n",
              "1756                  0               1              0               0   \n",
              "2346                  0               0              0               0   \n",
              "2996                  0               0              0               0   \n",
              "...                 ...             ...            ...             ...   \n",
              "3772                  0               1              0               0   \n",
              "5191                  0               1              0               0   \n",
              "5226                  0               0              0               0   \n",
              "5390                  0               0              1               0   \n",
              "860                   0               1              0               0   \n",
              "\n",
              "      Purpose_UsedCar  Purpose_Vacation  \n",
              "3897                0                 0  \n",
              "5628                0                 0  \n",
              "1756                0                 0  \n",
              "2346                1                 0  \n",
              "2996                0                 1  \n",
              "...               ...               ...  \n",
              "3772                0                 0  \n",
              "5191                0                 0  \n",
              "5226                0                 0  \n",
              "5390                0                 0  \n",
              "860                 0                 0  \n",
              "\n",
              "[4800 rows x 33 columns]"
            ],
            "text/html": [
              "\n",
              "  <div id=\"df-1721eee4-d708-4846-a569-f256f0630c7d\">\n",
              "    <div class=\"colab-df-container\">\n",
              "      <div>\n",
              "<style scoped>\n",
              "    .dataframe tbody tr th:only-of-type {\n",
              "        vertical-align: middle;\n",
              "    }\n",
              "\n",
              "    .dataframe tbody tr th {\n",
              "        vertical-align: top;\n",
              "    }\n",
              "\n",
              "    .dataframe thead th {\n",
              "        text-align: right;\n",
              "    }\n",
              "</style>\n",
              "<table border=\"1\" class=\"dataframe\">\n",
              "  <thead>\n",
              "    <tr style=\"text-align: right;\">\n",
              "      <th></th>\n",
              "      <th>PreviousDefault</th>\n",
              "      <th>PreviousAccounts</th>\n",
              "      <th>ResidenceDuration</th>\n",
              "      <th>Amount</th>\n",
              "      <th>Married</th>\n",
              "      <th>Duration</th>\n",
              "      <th>Sex_M</th>\n",
              "      <th>City_East Jessetown</th>\n",
              "      <th>City_East Jill</th>\n",
              "      <th>City_Ericmouth</th>\n",
              "      <th>City_Herrerafurt</th>\n",
              "      <th>City_Jacquelineland</th>\n",
              "      <th>City_Lake Chad</th>\n",
              "      <th>City_Lake Debra</th>\n",
              "      <th>City_Lake Roberto</th>\n",
              "      <th>City_Lisatown</th>\n",
              "      <th>City_New Jessica</th>\n",
              "      <th>City_New Kellystad</th>\n",
              "      <th>City_New Roberttown</th>\n",
              "      <th>City_North Judithbury</th>\n",
              "      <th>City_North Noahstad</th>\n",
              "      <th>City_Port Jesseville</th>\n",
              "      <th>City_Port Keith</th>\n",
              "      <th>City_Ramirezstad</th>\n",
              "      <th>City_Robinsonshire</th>\n",
              "      <th>City_West Michael</th>\n",
              "      <th>Purpose_Education</th>\n",
              "      <th>Purpose_Household</th>\n",
              "      <th>Purpose_NewCar</th>\n",
              "      <th>Purpose_Other</th>\n",
              "      <th>Purpose_Repair</th>\n",
              "      <th>Purpose_UsedCar</th>\n",
              "      <th>Purpose_Vacation</th>\n",
              "    </tr>\n",
              "  </thead>\n",
              "  <tbody>\n",
              "    <tr>\n",
              "      <th>3897</th>\n",
              "      <td>0</td>\n",
              "      <td>0</td>\n",
              "      <td>2</td>\n",
              "      <td>3329</td>\n",
              "      <td>0</td>\n",
              "      <td>12</td>\n",
              "      <td>1</td>\n",
              "      <td>0</td>\n",
              "      <td>0</td>\n",
              "      <td>0</td>\n",
              "      <td>0</td>\n",
              "      <td>0</td>\n",
              "      <td>0</td>\n",
              "      <td>0</td>\n",
              "      <td>0</td>\n",
              "      <td>0</td>\n",
              "      <td>0</td>\n",
              "      <td>0</td>\n",
              "      <td>1</td>\n",
              "      <td>0</td>\n",
              "      <td>0</td>\n",
              "      <td>0</td>\n",
              "      <td>0</td>\n",
              "      <td>0</td>\n",
              "      <td>0</td>\n",
              "      <td>0</td>\n",
              "      <td>0</td>\n",
              "      <td>1</td>\n",
              "      <td>0</td>\n",
              "      <td>0</td>\n",
              "      <td>0</td>\n",
              "      <td>0</td>\n",
              "      <td>0</td>\n",
              "    </tr>\n",
              "    <tr>\n",
              "      <th>5628</th>\n",
              "      <td>0</td>\n",
              "      <td>2</td>\n",
              "      <td>2</td>\n",
              "      <td>2996</td>\n",
              "      <td>0</td>\n",
              "      <td>36</td>\n",
              "      <td>0</td>\n",
              "      <td>0</td>\n",
              "      <td>0</td>\n",
              "      <td>1</td>\n",
              "      <td>0</td>\n",
              "      <td>0</td>\n",
              "      <td>0</td>\n",
              "      <td>0</td>\n",
              "      <td>0</td>\n",
              "      <td>0</td>\n",
              "      <td>0</td>\n",
              "      <td>0</td>\n",
              "      <td>0</td>\n",
              "      <td>0</td>\n",
              "      <td>0</td>\n",
              "      <td>0</td>\n",
              "      <td>0</td>\n",
              "      <td>0</td>\n",
              "      <td>0</td>\n",
              "      <td>0</td>\n",
              "      <td>0</td>\n",
              "      <td>1</td>\n",
              "      <td>0</td>\n",
              "      <td>0</td>\n",
              "      <td>0</td>\n",
              "      <td>0</td>\n",
              "      <td>0</td>\n",
              "    </tr>\n",
              "    <tr>\n",
              "      <th>1756</th>\n",
              "      <td>0</td>\n",
              "      <td>0</td>\n",
              "      <td>3</td>\n",
              "      <td>2470</td>\n",
              "      <td>0</td>\n",
              "      <td>24</td>\n",
              "      <td>0</td>\n",
              "      <td>0</td>\n",
              "      <td>1</td>\n",
              "      <td>0</td>\n",
              "      <td>0</td>\n",
              "      <td>0</td>\n",
              "      <td>0</td>\n",
              "      <td>0</td>\n",
              "      <td>0</td>\n",
              "      <td>0</td>\n",
              "      <td>0</td>\n",
              "      <td>0</td>\n",
              "      <td>0</td>\n",
              "      <td>0</td>\n",
              "      <td>0</td>\n",
              "      <td>0</td>\n",
              "      <td>0</td>\n",
              "      <td>0</td>\n",
              "      <td>0</td>\n",
              "      <td>0</td>\n",
              "      <td>0</td>\n",
              "      <td>0</td>\n",
              "      <td>1</td>\n",
              "      <td>0</td>\n",
              "      <td>0</td>\n",
              "      <td>0</td>\n",
              "      <td>0</td>\n",
              "    </tr>\n",
              "    <tr>\n",
              "      <th>2346</th>\n",
              "      <td>0</td>\n",
              "      <td>1</td>\n",
              "      <td>2</td>\n",
              "      <td>3745</td>\n",
              "      <td>0</td>\n",
              "      <td>30</td>\n",
              "      <td>0</td>\n",
              "      <td>0</td>\n",
              "      <td>0</td>\n",
              "      <td>0</td>\n",
              "      <td>0</td>\n",
              "      <td>0</td>\n",
              "      <td>0</td>\n",
              "      <td>1</td>\n",
              "      <td>0</td>\n",
              "      <td>0</td>\n",
              "      <td>0</td>\n",
              "      <td>0</td>\n",
              "      <td>0</td>\n",
              "      <td>0</td>\n",
              "      <td>0</td>\n",
              "      <td>0</td>\n",
              "      <td>0</td>\n",
              "      <td>0</td>\n",
              "      <td>0</td>\n",
              "      <td>0</td>\n",
              "      <td>0</td>\n",
              "      <td>0</td>\n",
              "      <td>0</td>\n",
              "      <td>0</td>\n",
              "      <td>0</td>\n",
              "      <td>1</td>\n",
              "      <td>0</td>\n",
              "    </tr>\n",
              "    <tr>\n",
              "      <th>2996</th>\n",
              "      <td>0</td>\n",
              "      <td>1</td>\n",
              "      <td>3</td>\n",
              "      <td>3549</td>\n",
              "      <td>0</td>\n",
              "      <td>36</td>\n",
              "      <td>1</td>\n",
              "      <td>0</td>\n",
              "      <td>0</td>\n",
              "      <td>0</td>\n",
              "      <td>0</td>\n",
              "      <td>0</td>\n",
              "      <td>0</td>\n",
              "      <td>0</td>\n",
              "      <td>0</td>\n",
              "      <td>0</td>\n",
              "      <td>0</td>\n",
              "      <td>0</td>\n",
              "      <td>0</td>\n",
              "      <td>1</td>\n",
              "      <td>0</td>\n",
              "      <td>0</td>\n",
              "      <td>0</td>\n",
              "      <td>0</td>\n",
              "      <td>0</td>\n",
              "      <td>0</td>\n",
              "      <td>0</td>\n",
              "      <td>0</td>\n",
              "      <td>0</td>\n",
              "      <td>0</td>\n",
              "      <td>0</td>\n",
              "      <td>0</td>\n",
              "      <td>1</td>\n",
              "    </tr>\n",
              "    <tr>\n",
              "      <th>...</th>\n",
              "      <td>...</td>\n",
              "      <td>...</td>\n",
              "      <td>...</td>\n",
              "      <td>...</td>\n",
              "      <td>...</td>\n",
              "      <td>...</td>\n",
              "      <td>...</td>\n",
              "      <td>...</td>\n",
              "      <td>...</td>\n",
              "      <td>...</td>\n",
              "      <td>...</td>\n",
              "      <td>...</td>\n",
              "      <td>...</td>\n",
              "      <td>...</td>\n",
              "      <td>...</td>\n",
              "      <td>...</td>\n",
              "      <td>...</td>\n",
              "      <td>...</td>\n",
              "      <td>...</td>\n",
              "      <td>...</td>\n",
              "      <td>...</td>\n",
              "      <td>...</td>\n",
              "      <td>...</td>\n",
              "      <td>...</td>\n",
              "      <td>...</td>\n",
              "      <td>...</td>\n",
              "      <td>...</td>\n",
              "      <td>...</td>\n",
              "      <td>...</td>\n",
              "      <td>...</td>\n",
              "      <td>...</td>\n",
              "      <td>...</td>\n",
              "      <td>...</td>\n",
              "    </tr>\n",
              "    <tr>\n",
              "      <th>3772</th>\n",
              "      <td>0</td>\n",
              "      <td>1</td>\n",
              "      <td>1</td>\n",
              "      <td>3607</td>\n",
              "      <td>1</td>\n",
              "      <td>24</td>\n",
              "      <td>0</td>\n",
              "      <td>0</td>\n",
              "      <td>0</td>\n",
              "      <td>0</td>\n",
              "      <td>0</td>\n",
              "      <td>0</td>\n",
              "      <td>0</td>\n",
              "      <td>0</td>\n",
              "      <td>0</td>\n",
              "      <td>0</td>\n",
              "      <td>0</td>\n",
              "      <td>0</td>\n",
              "      <td>0</td>\n",
              "      <td>0</td>\n",
              "      <td>0</td>\n",
              "      <td>0</td>\n",
              "      <td>0</td>\n",
              "      <td>0</td>\n",
              "      <td>1</td>\n",
              "      <td>0</td>\n",
              "      <td>0</td>\n",
              "      <td>0</td>\n",
              "      <td>1</td>\n",
              "      <td>0</td>\n",
              "      <td>0</td>\n",
              "      <td>0</td>\n",
              "      <td>0</td>\n",
              "    </tr>\n",
              "    <tr>\n",
              "      <th>5191</th>\n",
              "      <td>0</td>\n",
              "      <td>1</td>\n",
              "      <td>0</td>\n",
              "      <td>3186</td>\n",
              "      <td>0</td>\n",
              "      <td>30</td>\n",
              "      <td>0</td>\n",
              "      <td>0</td>\n",
              "      <td>0</td>\n",
              "      <td>0</td>\n",
              "      <td>0</td>\n",
              "      <td>0</td>\n",
              "      <td>0</td>\n",
              "      <td>0</td>\n",
              "      <td>0</td>\n",
              "      <td>0</td>\n",
              "      <td>0</td>\n",
              "      <td>0</td>\n",
              "      <td>0</td>\n",
              "      <td>1</td>\n",
              "      <td>0</td>\n",
              "      <td>0</td>\n",
              "      <td>0</td>\n",
              "      <td>0</td>\n",
              "      <td>0</td>\n",
              "      <td>0</td>\n",
              "      <td>0</td>\n",
              "      <td>0</td>\n",
              "      <td>1</td>\n",
              "      <td>0</td>\n",
              "      <td>0</td>\n",
              "      <td>0</td>\n",
              "      <td>0</td>\n",
              "    </tr>\n",
              "    <tr>\n",
              "      <th>5226</th>\n",
              "      <td>0</td>\n",
              "      <td>1</td>\n",
              "      <td>3</td>\n",
              "      <td>2387</td>\n",
              "      <td>1</td>\n",
              "      <td>36</td>\n",
              "      <td>0</td>\n",
              "      <td>0</td>\n",
              "      <td>0</td>\n",
              "      <td>0</td>\n",
              "      <td>0</td>\n",
              "      <td>0</td>\n",
              "      <td>0</td>\n",
              "      <td>0</td>\n",
              "      <td>1</td>\n",
              "      <td>0</td>\n",
              "      <td>0</td>\n",
              "      <td>0</td>\n",
              "      <td>0</td>\n",
              "      <td>0</td>\n",
              "      <td>0</td>\n",
              "      <td>0</td>\n",
              "      <td>0</td>\n",
              "      <td>0</td>\n",
              "      <td>0</td>\n",
              "      <td>0</td>\n",
              "      <td>0</td>\n",
              "      <td>0</td>\n",
              "      <td>0</td>\n",
              "      <td>0</td>\n",
              "      <td>0</td>\n",
              "      <td>0</td>\n",
              "      <td>0</td>\n",
              "    </tr>\n",
              "    <tr>\n",
              "      <th>5390</th>\n",
              "      <td>0</td>\n",
              "      <td>1</td>\n",
              "      <td>3</td>\n",
              "      <td>3620</td>\n",
              "      <td>0</td>\n",
              "      <td>12</td>\n",
              "      <td>0</td>\n",
              "      <td>0</td>\n",
              "      <td>0</td>\n",
              "      <td>0</td>\n",
              "      <td>0</td>\n",
              "      <td>0</td>\n",
              "      <td>0</td>\n",
              "      <td>1</td>\n",
              "      <td>0</td>\n",
              "      <td>0</td>\n",
              "      <td>0</td>\n",
              "      <td>0</td>\n",
              "      <td>0</td>\n",
              "      <td>0</td>\n",
              "      <td>0</td>\n",
              "      <td>0</td>\n",
              "      <td>0</td>\n",
              "      <td>0</td>\n",
              "      <td>0</td>\n",
              "      <td>0</td>\n",
              "      <td>0</td>\n",
              "      <td>0</td>\n",
              "      <td>0</td>\n",
              "      <td>1</td>\n",
              "      <td>0</td>\n",
              "      <td>0</td>\n",
              "      <td>0</td>\n",
              "    </tr>\n",
              "    <tr>\n",
              "      <th>860</th>\n",
              "      <td>0</td>\n",
              "      <td>2</td>\n",
              "      <td>0</td>\n",
              "      <td>4106</td>\n",
              "      <td>0</td>\n",
              "      <td>30</td>\n",
              "      <td>0</td>\n",
              "      <td>0</td>\n",
              "      <td>0</td>\n",
              "      <td>0</td>\n",
              "      <td>0</td>\n",
              "      <td>0</td>\n",
              "      <td>0</td>\n",
              "      <td>0</td>\n",
              "      <td>0</td>\n",
              "      <td>0</td>\n",
              "      <td>0</td>\n",
              "      <td>0</td>\n",
              "      <td>0</td>\n",
              "      <td>1</td>\n",
              "      <td>0</td>\n",
              "      <td>0</td>\n",
              "      <td>0</td>\n",
              "      <td>0</td>\n",
              "      <td>0</td>\n",
              "      <td>0</td>\n",
              "      <td>0</td>\n",
              "      <td>0</td>\n",
              "      <td>1</td>\n",
              "      <td>0</td>\n",
              "      <td>0</td>\n",
              "      <td>0</td>\n",
              "      <td>0</td>\n",
              "    </tr>\n",
              "  </tbody>\n",
              "</table>\n",
              "<p>4800 rows × 33 columns</p>\n",
              "</div>\n",
              "      <button class=\"colab-df-convert\" onclick=\"convertToInteractive('df-1721eee4-d708-4846-a569-f256f0630c7d')\"\n",
              "              title=\"Convert this dataframe to an interactive table.\"\n",
              "              style=\"display:none;\">\n",
              "        \n",
              "  <svg xmlns=\"http://www.w3.org/2000/svg\" height=\"24px\"viewBox=\"0 0 24 24\"\n",
              "       width=\"24px\">\n",
              "    <path d=\"M0 0h24v24H0V0z\" fill=\"none\"/>\n",
              "    <path d=\"M18.56 5.44l.94 2.06.94-2.06 2.06-.94-2.06-.94-.94-2.06-.94 2.06-2.06.94zm-11 1L8.5 8.5l.94-2.06 2.06-.94-2.06-.94L8.5 2.5l-.94 2.06-2.06.94zm10 10l.94 2.06.94-2.06 2.06-.94-2.06-.94-.94-2.06-.94 2.06-2.06.94z\"/><path d=\"M17.41 7.96l-1.37-1.37c-.4-.4-.92-.59-1.43-.59-.52 0-1.04.2-1.43.59L10.3 9.45l-7.72 7.72c-.78.78-.78 2.05 0 2.83L4 21.41c.39.39.9.59 1.41.59.51 0 1.02-.2 1.41-.59l7.78-7.78 2.81-2.81c.8-.78.8-2.07 0-2.86zM5.41 20L4 18.59l7.72-7.72 1.47 1.35L5.41 20z\"/>\n",
              "  </svg>\n",
              "      </button>\n",
              "      \n",
              "  <style>\n",
              "    .colab-df-container {\n",
              "      display:flex;\n",
              "      flex-wrap:wrap;\n",
              "      gap: 12px;\n",
              "    }\n",
              "\n",
              "    .colab-df-convert {\n",
              "      background-color: #E8F0FE;\n",
              "      border: none;\n",
              "      border-radius: 50%;\n",
              "      cursor: pointer;\n",
              "      display: none;\n",
              "      fill: #1967D2;\n",
              "      height: 32px;\n",
              "      padding: 0 0 0 0;\n",
              "      width: 32px;\n",
              "    }\n",
              "\n",
              "    .colab-df-convert:hover {\n",
              "      background-color: #E2EBFA;\n",
              "      box-shadow: 0px 1px 2px rgba(60, 64, 67, 0.3), 0px 1px 3px 1px rgba(60, 64, 67, 0.15);\n",
              "      fill: #174EA6;\n",
              "    }\n",
              "\n",
              "    [theme=dark] .colab-df-convert {\n",
              "      background-color: #3B4455;\n",
              "      fill: #D2E3FC;\n",
              "    }\n",
              "\n",
              "    [theme=dark] .colab-df-convert:hover {\n",
              "      background-color: #434B5C;\n",
              "      box-shadow: 0px 1px 3px 1px rgba(0, 0, 0, 0.15);\n",
              "      filter: drop-shadow(0px 1px 2px rgba(0, 0, 0, 0.3));\n",
              "      fill: #FFFFFF;\n",
              "    }\n",
              "  </style>\n",
              "\n",
              "      <script>\n",
              "        const buttonEl =\n",
              "          document.querySelector('#df-1721eee4-d708-4846-a569-f256f0630c7d button.colab-df-convert');\n",
              "        buttonEl.style.display =\n",
              "          google.colab.kernel.accessAllowed ? 'block' : 'none';\n",
              "\n",
              "        async function convertToInteractive(key) {\n",
              "          const element = document.querySelector('#df-1721eee4-d708-4846-a569-f256f0630c7d');\n",
              "          const dataTable =\n",
              "            await google.colab.kernel.invokeFunction('convertToInteractive',\n",
              "                                                     [key], {});\n",
              "          if (!dataTable) return;\n",
              "\n",
              "          const docLinkHtml = 'Like what you see? Visit the ' +\n",
              "            '<a target=\"_blank\" href=https://colab.research.google.com/notebooks/data_table.ipynb>data table notebook</a>'\n",
              "            + ' to learn more about interactive tables.';\n",
              "          element.innerHTML = '';\n",
              "          dataTable['output_type'] = 'display_data';\n",
              "          await google.colab.output.renderOutput(dataTable, element);\n",
              "          const docLink = document.createElement('div');\n",
              "          docLink.innerHTML = docLinkHtml;\n",
              "          element.appendChild(docLink);\n",
              "        }\n",
              "      </script>\n",
              "    </div>\n",
              "  </div>\n",
              "  "
            ]
          },
          "metadata": {},
          "execution_count": 12
        }
      ]
    },
    {
      "cell_type": "markdown",
      "source": [
        "#### Visual checks"
      ],
      "metadata": {
        "id": "wZlax4r7lBDc"
      }
    },
    {
      "cell_type": "code",
      "source": [
        "# check for outliers\n",
        "import seaborn\n",
        " \n",
        "seaborn.set(style='whitegrid')\n",
        "\n",
        "seaborn.boxplot(y='Amount', data=X_train_r)"
      ],
      "metadata": {
        "id": "R1Y2ae1xgsdb",
        "colab": {
          "base_uri": "https://localhost:8080/",
          "height": 265
        },
        "outputId": "a0209883-63f9-4f42-becd-c6a35fd821c6"
      },
      "execution_count": 13,
      "outputs": [
        {
          "output_type": "execute_result",
          "data": {
            "text/plain": [
              "<matplotlib.axes._subplots.AxesSubplot at 0x7f4184663490>"
            ]
          },
          "metadata": {},
          "execution_count": 13
        },
        {
          "output_type": "display_data",
          "data": {
            "text/plain": [
              "<Figure size 432x288 with 1 Axes>"
            ],
            "image/png": "[encoded data removed]"
          },
          "metadata": {}
        }
      ]
    },
    {
      "cell_type": "code",
      "source": [
        "seaborn.boxplot(y='PreviousAccounts', data=X_train_r)"
      ],
      "metadata": {
        "id": "6U_4TkmBm-bT",
        "colab": {
          "base_uri": "https://localhost:8080/",
          "height": 265
        },
        "outputId": "762022d3-9137-4a54-8dfa-9bb478b46b18"
      },
      "execution_count": 14,
      "outputs": [
        {
          "output_type": "execute_result",
          "data": {
            "text/plain": [
              "<matplotlib.axes._subplots.AxesSubplot at 0x7f4184612610>"
            ]
          },
          "metadata": {},
          "execution_count": 14
        },
        {
          "output_type": "display_data",
          "data": {
            "text/plain": [
              "<Figure size 432x288 with 1 Axes>"
            ],
            "image/png": "[encoded data removed]"
          },
          "metadata": {}
        }
      ]
    },
    {
      "cell_type": "code",
      "source": [
        "seaborn.boxplot(y='ResidenceDuration', data=X_train_r)"
      ],
      "metadata": {
        "id": "Zslk83dvnLJU",
        "colab": {
          "base_uri": "https://localhost:8080/",
          "height": 265
        },
        "outputId": "c08d20e9-7962-4657-f1d6-e4959c53bfc9"
      },
      "execution_count": 15,
      "outputs": [
        {
          "output_type": "execute_result",
          "data": {
            "text/plain": [
              "<matplotlib.axes._subplots.AxesSubplot at 0x7f418412bf70>"
            ]
          },
          "metadata": {},
          "execution_count": 15
        },
        {
          "output_type": "display_data",
          "data": {
            "text/plain": [
              "<Figure size 432x288 with 1 Axes>"
            ],
            "image/png": "[encoded data removed]"
          },
          "metadata": {}
        }
      ]
    },
    {
      "cell_type": "code",
      "source": [
        "seaborn.boxplot(y='Duration', data=X_train_r)"
      ],
      "metadata": {
        "id": "AeMwRb6NnOdv",
        "colab": {
          "base_uri": "https://localhost:8080/",
          "height": 268
        },
        "outputId": "7c737e7a-9529-40ff-e998-3cc1adbb9434"
      },
      "execution_count": 16,
      "outputs": [
        {
          "output_type": "execute_result",
          "data": {
            "text/plain": [
              "<matplotlib.axes._subplots.AxesSubplot at 0x7f4184109d60>"
            ]
          },
          "metadata": {},
          "execution_count": 16
        },
        {
          "output_type": "display_data",
          "data": {
            "text/plain": [
              "<Figure size 432x288 with 1 Axes>"
            ],
            "image/png": "[encoded data removed]"
          },
          "metadata": {}
        }
      ]
    },
    {
      "cell_type": "code",
      "source": [
        "# There are some outliers in Amount, Previous Accounts and Residence Duration.\n",
        "## We can deal with them by standardizing on a later step but since we are using Decsion tree they won't be much of a problem."
      ],
      "metadata": {
        "id": "P5OrO-ZynOVv"
      },
      "execution_count": 17,
      "outputs": []
    },
    {
      "cell_type": "code",
      "source": [
        "# Check distributions of the features. \n",
        "seaborn.histplot(X_train_r.Amount)"
      ],
      "metadata": {
        "id": "nym1t7dOnOJB",
        "colab": {
          "base_uri": "https://localhost:8080/",
          "height": 302
        },
        "outputId": "1669de52-1cce-4a0a-99c4-bd09286a5971"
      },
      "execution_count": 18,
      "outputs": [
        {
          "output_type": "execute_result",
          "data": {
            "text/plain": [
              "<matplotlib.axes._subplots.AxesSubplot at 0x7f4184059f70>"
            ]
          },
          "metadata": {},
          "execution_count": 18
        },
        {
          "output_type": "display_data",
          "data": {
            "text/plain": [
              "<Figure size 432x288 with 1 Axes>"
            ],
            "image/png": "[encoded data removed]"
          },
          "metadata": {}
        }
      ]
    },
    {
      "cell_type": "code",
      "source": [
        "seaborn.histplot(X_train_r.PreviousAccounts)"
      ],
      "metadata": {
        "id": "cBPJZGJSjlNs",
        "colab": {
          "base_uri": "https://localhost:8080/",
          "height": 302
        },
        "outputId": "a4987820-5287-4482-df42-095037eb66c2"
      },
      "execution_count": 19,
      "outputs": [
        {
          "output_type": "execute_result",
          "data": {
            "text/plain": [
              "<matplotlib.axes._subplots.AxesSubplot at 0x7f4183fd1520>"
            ]
          },
          "metadata": {},
          "execution_count": 19
        },
        {
          "output_type": "display_data",
          "data": {
            "text/plain": [
              "<Figure size 432x288 with 1 Axes>"
            ],
            "image/png": "[encoded data removed]"
          },
          "metadata": {}
        }
      ]
    },
    {
      "cell_type": "code",
      "source": [
        "seaborn.histplot(X_train_r.ResidenceDuration)"
      ],
      "metadata": {
        "id": "UEmkViYBjlFD",
        "colab": {
          "base_uri": "https://localhost:8080/",
          "height": 302
        },
        "outputId": "b411ad63-fa24-4b85-99f0-263afd63ef01"
      },
      "execution_count": 20,
      "outputs": [
        {
          "output_type": "execute_result",
          "data": {
            "text/plain": [
              "<matplotlib.axes._subplots.AxesSubplot at 0x7f4183ede430>"
            ]
          },
          "metadata": {},
          "execution_count": 20
        },
        {
          "output_type": "display_data",
          "data": {
            "text/plain": [
              "<Figure size 432x288 with 1 Axes>"
            ],
            "image/png": "[encoded data removed]"
          },
          "metadata": {}
        }
      ]
    },
    {
      "cell_type": "code",
      "source": [
        "seaborn.histplot(X_train_r.Duration)"
      ],
      "metadata": {
        "id": "3HorQDBdjuE8",
        "colab": {
          "base_uri": "https://localhost:8080/",
          "height": 302
        },
        "outputId": "68b4ccf8-66b5-4188-d993-7eafe29c8e42"
      },
      "execution_count": 21,
      "outputs": [
        {
          "output_type": "execute_result",
          "data": {
            "text/plain": [
              "<matplotlib.axes._subplots.AxesSubplot at 0x7f4183e26e20>"
            ]
          },
          "metadata": {},
          "execution_count": 21
        },
        {
          "output_type": "display_data",
          "data": {
            "text/plain": [
              "<Figure size 432x288 with 1 Axes>"
            ],
            "image/png": "[encoded data removed]"
          },
          "metadata": {}
        }
      ]
    },
    {
      "cell_type": "code",
      "source": [
        "Num_feat = ['Amount','PreviousAccounts','ResidenceDuration','Duration']\n",
        "X_train_r_num = X_train_r[Num_feat]"
      ],
      "metadata": {
        "id": "P7Ov7ohOpC_7"
      },
      "execution_count": 22,
      "outputs": []
    },
    {
      "cell_type": "code",
      "source": [
        "# Checking correlation using heatmap.\n",
        "seaborn.heatmap(X_train_r_num.corr(), annot=True)"
      ],
      "metadata": {
        "id": "oImXqcL3mm1q",
        "colab": {
          "base_uri": "https://localhost:8080/",
          "height": 384
        },
        "outputId": "1fe52e1b-8dd1-49b7-c67c-9d7ca036dffb"
      },
      "execution_count": 23,
      "outputs": [
        {
          "output_type": "execute_result",
          "data": {
            "text/plain": [
              "<matplotlib.axes._subplots.AxesSubplot at 0x7f4183db9160>"
            ]
          },
          "metadata": {},
          "execution_count": 23
        },
        {
          "output_type": "display_data",
          "data": {
            "text/plain": [
              "<Figure size 432x288 with 2 Axes>"
            ],
            "image/png": "[encoded data removed]"
          },
          "metadata": {}
        }
      ]
    },
    {
      "cell_type": "markdown",
      "source": [
        "Let's go with Decision tree as our algorithm."
      ],
      "metadata": {
        "id": "_0yx0bXLcakE"
      }
    },
    {
      "cell_type": "markdown",
      "metadata": {
        "id": "sdiKKblCo53S"
      },
      "source": [
        "## 3.1: Baseline model"
      ]
    },
    {
      "cell_type": "code",
      "source": [
        "from sklearn.tree import DecisionTreeClassifier\n",
        "clf1 = DecisionTreeClassifier(random_state=0)\n",
        "clf1.fit(X_train_r, y_train)"
      ],
      "metadata": {
        "id": "KazbE2fp_iQg",
        "colab": {
          "base_uri": "https://localhost:8080/"
        },
        "outputId": "30c73107-7f2d-4cb4-9af1-714daa48e666"
      },
      "execution_count": 24,
      "outputs": [
        {
          "output_type": "execute_result",
          "data": {
            "text/plain": [
              "DecisionTreeClassifier(random_state=0)"
            ]
          },
          "metadata": {},
          "execution_count": 24
        }
      ]
    },
    {
      "cell_type": "code",
      "source": [
        "from sklearn.model_selection import cross_val_score\n",
        "from sklearn.pipeline import Pipeline\n",
        "\n",
        "pipe1 = Pipeline(steps=[\n",
        "                        (\"clf\", clf1)\n",
        "                        ])\n",
        "\n",
        "\n",
        "scores = cross_val_score(pipe1, X_train_r, y_train, cv=10, scoring=\"f1_macro\")\n",
        "\n",
        "with np.printoptions(formatter={'float': '{: 0.3f}'.format}): \n",
        "  print(\"CV scores: {}\".format(scores))\n",
        "print(\"Estimated F1 Score: {:0.3f} +/- {:0.2f}\".format(np.mean(scores), np.std(scores))) "
      ],
      "metadata": {
        "id": "cFftbHMY_iOb",
        "colab": {
          "base_uri": "https://localhost:8080/"
        },
        "outputId": "41590b7d-3ede-4d63-c624-ecc9145ca03d"
      },
      "execution_count": 25,
      "outputs": [
        {
          "output_type": "stream",
          "name": "stdout",
          "text": [
            "CV scores: [ 0.596  0.588  0.556  0.632  0.610  0.646  0.618  0.645  0.633  0.633]\n",
            "Estimated F1 Score: 0.616 +/- 0.03\n"
          ]
        }
      ]
    },
    {
      "cell_type": "markdown",
      "metadata": {
        "id": "ugyTS51Ko5vz"
      },
      "source": [
        "## 3.2: Feature engineering"
      ]
    },
    {
      "cell_type": "code",
      "source": [
        "# 1st Feature, age \n",
        "# Convert date of birth to age.\n",
        "dateofb = pd.to_datetime(X_train_['DateOfBirth'])\n",
        "born_year = dateofb.dt.year\n",
        "from datetime import date \n",
        "today = date.today()\n",
        "born_year = dateofb.dt.year\n",
        "age_train = today.year - born_year\n",
        "age_train"
      ],
      "metadata": {
        "id": "rHZLbowQy7gk",
        "colab": {
          "base_uri": "https://localhost:8080/"
        },
        "outputId": "da4aba59-a60b-484f-ce17-d8f955765fd9"
      },
      "execution_count": 26,
      "outputs": [
        {
          "output_type": "execute_result",
          "data": {
            "text/plain": [
              "3897    53\n",
              "5628    59\n",
              "1756    48\n",
              "2346    46\n",
              "2996    47\n",
              "        ..\n",
              "3772    50\n",
              "5191    50\n",
              "5226    54\n",
              "5390    56\n",
              "860     35\n",
              "Name: DateOfBirth, Length: 4800, dtype: int64"
            ]
          },
          "metadata": {},
          "execution_count": 26
        }
      ]
    },
    {
      "cell_type": "code",
      "source": [
        "X_train.columns"
      ],
      "metadata": {
        "colab": {
          "base_uri": "https://localhost:8080/"
        },
        "id": "kdqoDSLE6c-A",
        "outputId": "5e3c5c0d-222f-4ae1-d629-3f8f89e6ffdf"
      },
      "execution_count": 27,
      "outputs": [
        {
          "output_type": "execute_result",
          "data": {
            "text/plain": [
              "Index(['UserID', 'Sex', 'PreviousDefault', 'FirstName', 'LastName',\n",
              "       'NumberPets', 'PreviousAccounts', 'ResidenceDuration', 'Street',\n",
              "       'LicensePlate', 'Amount', 'Married', 'Duration', 'City', 'Purpose',\n",
              "       'DateOfBirth'],\n",
              "      dtype='object')"
            ]
          },
          "metadata": {},
          "execution_count": 27
        }
      ]
    },
    {
      "cell_type": "code",
      "source": [
        "X_train_r2 = X_train.drop(['DateOfBirth','UserID','FirstName','LastName','LicensePlate','Street','NumberPets'], axis = True) \n",
        "X_train_r2\n",
        "X_train_r2a = X_train_r2.join(age_train)\n",
        "X_train_r2a\n",
        "X_train_r2a = X_train_r2a.rename(columns = {\"DateOfBirth\": \"Age\"})\n",
        "X_train_r2a.head(5)"
      ],
      "metadata": {
        "id": "PzR0kU83zpNv",
        "colab": {
          "base_uri": "https://localhost:8080/",
          "height": 206
        },
        "outputId": "b339ecdb-44d6-461b-dee1-e68b8e9eefd5"
      },
      "execution_count": 28,
      "outputs": [
        {
          "output_type": "execute_result",
          "data": {
            "text/plain": [
              "     Sex  PreviousDefault  PreviousAccounts  ResidenceDuration  Amount  \\\n",
              "3897   M                0                 0                  2    3329   \n",
              "5628   F                0                 2                  2    2996   \n",
              "1756   F                0                 0                  3    2470   \n",
              "2346   F                0                 1                  2    3745   \n",
              "2996   M                0                 1                  3    3549   \n",
              "\n",
              "      Married  Duration              City    Purpose  Age  \n",
              "3897        0        12    New Roberttown  Household   53  \n",
              "5628        0        36         Ericmouth  Household   59  \n",
              "1756        0        24         East Jill     NewCar   48  \n",
              "2346        0        30        Lake Debra    UsedCar   46  \n",
              "2996        0        36  North Judithbury   Vacation   47  "
            ],
            "text/html": [
              "\n",
              "  <div id=\"df-cbb7bae1-5920-4671-9296-171cd434a90d\">\n",
              "    <div class=\"colab-df-container\">\n",
              "      <div>\n",
              "<style scoped>\n",
              "    .dataframe tbody tr th:only-of-type {\n",
              "        vertical-align: middle;\n",
              "    }\n",
              "\n",
              "    .dataframe tbody tr th {\n",
              "        vertical-align: top;\n",
              "    }\n",
              "\n",
              "    .dataframe thead th {\n",
              "        text-align: right;\n",
              "    }\n",
              "</style>\n",
              "<table border=\"1\" class=\"dataframe\">\n",
              "  <thead>\n",
              "    <tr style=\"text-align: right;\">\n",
              "      <th></th>\n",
              "      <th>Sex</th>\n",
              "      <th>PreviousDefault</th>\n",
              "      <th>PreviousAccounts</th>\n",
              "      <th>ResidenceDuration</th>\n",
              "      <th>Amount</th>\n",
              "      <th>Married</th>\n",
              "      <th>Duration</th>\n",
              "      <th>City</th>\n",
              "      <th>Purpose</th>\n",
              "      <th>Age</th>\n",
              "    </tr>\n",
              "  </thead>\n",
              "  <tbody>\n",
              "    <tr>\n",
              "      <th>3897</th>\n",
              "      <td>M</td>\n",
              "      <td>0</td>\n",
              "      <td>0</td>\n",
              "      <td>2</td>\n",
              "      <td>3329</td>\n",
              "      <td>0</td>\n",
              "      <td>12</td>\n",
              "      <td>New Roberttown</td>\n",
              "      <td>Household</td>\n",
              "      <td>53</td>\n",
              "    </tr>\n",
              "    <tr>\n",
              "      <th>5628</th>\n",
              "      <td>F</td>\n",
              "      <td>0</td>\n",
              "      <td>2</td>\n",
              "      <td>2</td>\n",
              "      <td>2996</td>\n",
              "      <td>0</td>\n",
              "      <td>36</td>\n",
              "      <td>Ericmouth</td>\n",
              "      <td>Household</td>\n",
              "      <td>59</td>\n",
              "    </tr>\n",
              "    <tr>\n",
              "      <th>1756</th>\n",
              "      <td>F</td>\n",
              "      <td>0</td>\n",
              "      <td>0</td>\n",
              "      <td>3</td>\n",
              "      <td>2470</td>\n",
              "      <td>0</td>\n",
              "      <td>24</td>\n",
              "      <td>East Jill</td>\n",
              "      <td>NewCar</td>\n",
              "      <td>48</td>\n",
              "    </tr>\n",
              "    <tr>\n",
              "      <th>2346</th>\n",
              "      <td>F</td>\n",
              "      <td>0</td>\n",
              "      <td>1</td>\n",
              "      <td>2</td>\n",
              "      <td>3745</td>\n",
              "      <td>0</td>\n",
              "      <td>30</td>\n",
              "      <td>Lake Debra</td>\n",
              "      <td>UsedCar</td>\n",
              "      <td>46</td>\n",
              "    </tr>\n",
              "    <tr>\n",
              "      <th>2996</th>\n",
              "      <td>M</td>\n",
              "      <td>0</td>\n",
              "      <td>1</td>\n",
              "      <td>3</td>\n",
              "      <td>3549</td>\n",
              "      <td>0</td>\n",
              "      <td>36</td>\n",
              "      <td>North Judithbury</td>\n",
              "      <td>Vacation</td>\n",
              "      <td>47</td>\n",
              "    </tr>\n",
              "  </tbody>\n",
              "</table>\n",
              "</div>\n",
              "      <button class=\"colab-df-convert\" onclick=\"convertToInteractive('df-cbb7bae1-5920-4671-9296-171cd434a90d')\"\n",
              "              title=\"Convert this dataframe to an interactive table.\"\n",
              "              style=\"display:none;\">\n",
              "        \n",
              "  <svg xmlns=\"http://www.w3.org/2000/svg\" height=\"24px\"viewBox=\"0 0 24 24\"\n",
              "       width=\"24px\">\n",
              "    <path d=\"M0 0h24v24H0V0z\" fill=\"none\"/>\n",
              "    <path d=\"M18.56 5.44l.94 2.06.94-2.06 2.06-.94-2.06-.94-.94-2.06-.94 2.06-2.06.94zm-11 1L8.5 8.5l.94-2.06 2.06-.94-2.06-.94L8.5 2.5l-.94 2.06-2.06.94zm10 10l.94 2.06.94-2.06 2.06-.94-2.06-.94-.94-2.06-.94 2.06-2.06.94z\"/><path d=\"M17.41 7.96l-1.37-1.37c-.4-.4-.92-.59-1.43-.59-.52 0-1.04.2-1.43.59L10.3 9.45l-7.72 7.72c-.78.78-.78 2.05 0 2.83L4 21.41c.39.39.9.59 1.41.59.51 0 1.02-.2 1.41-.59l7.78-7.78 2.81-2.81c.8-.78.8-2.07 0-2.86zM5.41 20L4 18.59l7.72-7.72 1.47 1.35L5.41 20z\"/>\n",
              "  </svg>\n",
              "      </button>\n",
              "      \n",
              "  <style>\n",
              "    .colab-df-container {\n",
              "      display:flex;\n",
              "      flex-wrap:wrap;\n",
              "      gap: 12px;\n",
              "    }\n",
              "\n",
              "    .colab-df-convert {\n",
              "      background-color: #E8F0FE;\n",
              "      border: none;\n",
              "      border-radius: 50%;\n",
              "      cursor: pointer;\n",
              "      display: none;\n",
              "      fill: #1967D2;\n",
              "      height: 32px;\n",
              "      padding: 0 0 0 0;\n",
              "      width: 32px;\n",
              "    }\n",
              "\n",
              "    .colab-df-convert:hover {\n",
              "      background-color: #E2EBFA;\n",
              "      box-shadow: 0px 1px 2px rgba(60, 64, 67, 0.3), 0px 1px 3px 1px rgba(60, 64, 67, 0.15);\n",
              "      fill: #174EA6;\n",
              "    }\n",
              "\n",
              "    [theme=dark] .colab-df-convert {\n",
              "      background-color: #3B4455;\n",
              "      fill: #D2E3FC;\n",
              "    }\n",
              "\n",
              "    [theme=dark] .colab-df-convert:hover {\n",
              "      background-color: #434B5C;\n",
              "      box-shadow: 0px 1px 3px 1px rgba(0, 0, 0, 0.15);\n",
              "      filter: drop-shadow(0px 1px 2px rgba(0, 0, 0, 0.3));\n",
              "      fill: #FFFFFF;\n",
              "    }\n",
              "  </style>\n",
              "\n",
              "      <script>\n",
              "        const buttonEl =\n",
              "          document.querySelector('#df-cbb7bae1-5920-4671-9296-171cd434a90d button.colab-df-convert');\n",
              "        buttonEl.style.display =\n",
              "          google.colab.kernel.accessAllowed ? 'block' : 'none';\n",
              "\n",
              "        async function convertToInteractive(key) {\n",
              "          const element = document.querySelector('#df-cbb7bae1-5920-4671-9296-171cd434a90d');\n",
              "          const dataTable =\n",
              "            await google.colab.kernel.invokeFunction('convertToInteractive',\n",
              "                                                     [key], {});\n",
              "          if (!dataTable) return;\n",
              "\n",
              "          const docLinkHtml = 'Like what you see? Visit the ' +\n",
              "            '<a target=\"_blank\" href=https://colab.research.google.com/notebooks/data_table.ipynb>data table notebook</a>'\n",
              "            + ' to learn more about interactive tables.';\n",
              "          element.innerHTML = '';\n",
              "          dataTable['output_type'] = 'display_data';\n",
              "          await google.colab.output.renderOutput(dataTable, element);\n",
              "          const docLink = document.createElement('div');\n",
              "          docLink.innerHTML = docLinkHtml;\n",
              "          element.appendChild(docLink);\n",
              "        }\n",
              "      </script>\n",
              "    </div>\n",
              "  </div>\n",
              "  "
            ]
          },
          "metadata": {},
          "execution_count": 28
        }
      ]
    },
    {
      "cell_type": "code",
      "source": [
        "#Feature 2, Selecting the top 10 cities and joining the remaining as Others. \n",
        "top10 = X_train_r2a['City'].value_counts().nlargest(10).index\n",
        "top10"
      ],
      "metadata": {
        "colab": {
          "base_uri": "https://localhost:8080/"
        },
        "id": "dnhYMjqC9uYK",
        "outputId": "334bbcac-ac6b-4147-83f1-b81477c28ebd"
      },
      "execution_count": 29,
      "outputs": [
        {
          "output_type": "execute_result",
          "data": {
            "text/plain": [
              "Index(['North Judithbury', 'East Jill', 'New Roberttown', 'East Jessetown',\n",
              "       'Lake Debra', 'Robinsonshire', 'Lisatown', 'Lake Roberto', 'Ericmouth',\n",
              "       'North Noahstad'],\n",
              "      dtype='object')"
            ]
          },
          "metadata": {},
          "execution_count": 29
        }
      ]
    },
    {
      "cell_type": "code",
      "source": [
        "X_train_r2a['City'] = X_train_r2a['City'].where(X_train_r2a['City'].isin(top10), 'Others')\n",
        "X_train_r2a['City'].value_counts()"
      ],
      "metadata": {
        "colab": {
          "base_uri": "https://localhost:8080/"
        },
        "outputId": "cac1496d-723f-4152-d16b-6fbbee732467",
        "id": "I3vfl8HWAs6z"
      },
      "execution_count": 30,
      "outputs": [
        {
          "output_type": "execute_result",
          "data": {
            "text/plain": [
              "North Judithbury    1319\n",
              "Others               864\n",
              "East Jill            652\n",
              "New Roberttown       467\n",
              "East Jessetown       341\n",
              "Lake Debra           278\n",
              "Robinsonshire        252\n",
              "Lisatown             169\n",
              "Lake Roberto         164\n",
              "Ericmouth            155\n",
              "North Noahstad       139\n",
              "Name: City, dtype: int64"
            ]
          },
          "metadata": {},
          "execution_count": 30
        }
      ]
    },
    {
      "cell_type": "code",
      "source": [
        "#OHE dummies \n",
        "X_train_r2a = pd.get_dummies(X_train_r2a, drop_first= True)"
      ],
      "metadata": {
        "id": "tbtVtZSqCB7A"
      },
      "execution_count": 31,
      "outputs": []
    },
    {
      "cell_type": "code",
      "source": [
        "X_train_r2a.head(5)"
      ],
      "metadata": {
        "colab": {
          "base_uri": "https://localhost:8080/",
          "height": 288
        },
        "id": "yfsUZI0KCB4T",
        "outputId": "aa3a2d2b-6ba8-43cb-9afb-dcdea50aefd2"
      },
      "execution_count": 32,
      "outputs": [
        {
          "output_type": "execute_result",
          "data": {
            "text/plain": [
              "      PreviousDefault  PreviousAccounts  ResidenceDuration  Amount  Married  \\\n",
              "3897                0                 0                  2    3329        0   \n",
              "5628                0                 2                  2    2996        0   \n",
              "1756                0                 0                  3    2470        0   \n",
              "2346                0                 1                  2    3745        0   \n",
              "2996                0                 1                  3    3549        0   \n",
              "\n",
              "      Duration  Age  Sex_M  City_East Jill  City_Ericmouth  City_Lake Debra  \\\n",
              "3897        12   53      1               0               0                0   \n",
              "5628        36   59      0               0               1                0   \n",
              "1756        24   48      0               1               0                0   \n",
              "2346        30   46      0               0               0                1   \n",
              "2996        36   47      1               0               0                0   \n",
              "\n",
              "      City_Lake Roberto  City_Lisatown  City_New Roberttown  \\\n",
              "3897                  0              0                    1   \n",
              "5628                  0              0                    0   \n",
              "1756                  0              0                    0   \n",
              "2346                  0              0                    0   \n",
              "2996                  0              0                    0   \n",
              "\n",
              "      City_North Judithbury  City_North Noahstad  City_Others  \\\n",
              "3897                      0                    0            0   \n",
              "5628                      0                    0            0   \n",
              "1756                      0                    0            0   \n",
              "2346                      0                    0            0   \n",
              "2996                      1                    0            0   \n",
              "\n",
              "      City_Robinsonshire  Purpose_Education  Purpose_Household  \\\n",
              "3897                   0                  0                  1   \n",
              "5628                   0                  0                  1   \n",
              "1756                   0                  0                  0   \n",
              "2346                   0                  0                  0   \n",
              "2996                   0                  0                  0   \n",
              "\n",
              "      Purpose_NewCar  Purpose_Other  Purpose_Repair  Purpose_UsedCar  \\\n",
              "3897               0              0               0                0   \n",
              "5628               0              0               0                0   \n",
              "1756               1              0               0                0   \n",
              "2346               0              0               0                1   \n",
              "2996               0              0               0                0   \n",
              "\n",
              "      Purpose_Vacation  \n",
              "3897                 0  \n",
              "5628                 0  \n",
              "1756                 0  \n",
              "2346                 0  \n",
              "2996                 1  "
            ],
            "text/html": [
              "\n",
              "  <div id=\"df-273dc134-5dca-4f68-a438-cd8c0fc0bfea\">\n",
              "    <div class=\"colab-df-container\">\n",
              "      <div>\n",
              "<style scoped>\n",
              "    .dataframe tbody tr th:only-of-type {\n",
              "        vertical-align: middle;\n",
              "    }\n",
              "\n",
              "    .dataframe tbody tr th {\n",
              "        vertical-align: top;\n",
              "    }\n",
              "\n",
              "    .dataframe thead th {\n",
              "        text-align: right;\n",
              "    }\n",
              "</style>\n",
              "<table border=\"1\" class=\"dataframe\">\n",
              "  <thead>\n",
              "    <tr style=\"text-align: right;\">\n",
              "      <th></th>\n",
              "      <th>PreviousDefault</th>\n",
              "      <th>PreviousAccounts</th>\n",
              "      <th>ResidenceDuration</th>\n",
              "      <th>Amount</th>\n",
              "      <th>Married</th>\n",
              "      <th>Duration</th>\n",
              "      <th>Age</th>\n",
              "      <th>Sex_M</th>\n",
              "      <th>City_East Jill</th>\n",
              "      <th>City_Ericmouth</th>\n",
              "      <th>City_Lake Debra</th>\n",
              "      <th>City_Lake Roberto</th>\n",
              "      <th>City_Lisatown</th>\n",
              "      <th>City_New Roberttown</th>\n",
              "      <th>City_North Judithbury</th>\n",
              "      <th>City_North Noahstad</th>\n",
              "      <th>City_Others</th>\n",
              "      <th>City_Robinsonshire</th>\n",
              "      <th>Purpose_Education</th>\n",
              "      <th>Purpose_Household</th>\n",
              "      <th>Purpose_NewCar</th>\n",
              "      <th>Purpose_Other</th>\n",
              "      <th>Purpose_Repair</th>\n",
              "      <th>Purpose_UsedCar</th>\n",
              "      <th>Purpose_Vacation</th>\n",
              "    </tr>\n",
              "  </thead>\n",
              "  <tbody>\n",
              "    <tr>\n",
              "      <th>3897</th>\n",
              "      <td>0</td>\n",
              "      <td>0</td>\n",
              "      <td>2</td>\n",
              "      <td>3329</td>\n",
              "      <td>0</td>\n",
              "      <td>12</td>\n",
              "      <td>53</td>\n",
              "      <td>1</td>\n",
              "      <td>0</td>\n",
              "      <td>0</td>\n",
              "      <td>0</td>\n",
              "      <td>0</td>\n",
              "      <td>0</td>\n",
              "      <td>1</td>\n",
              "      <td>0</td>\n",
              "      <td>0</td>\n",
              "      <td>0</td>\n",
              "      <td>0</td>\n",
              "      <td>0</td>\n",
              "      <td>1</td>\n",
              "      <td>0</td>\n",
              "      <td>0</td>\n",
              "      <td>0</td>\n",
              "      <td>0</td>\n",
              "      <td>0</td>\n",
              "    </tr>\n",
              "    <tr>\n",
              "      <th>5628</th>\n",
              "      <td>0</td>\n",
              "      <td>2</td>\n",
              "      <td>2</td>\n",
              "      <td>2996</td>\n",
              "      <td>0</td>\n",
              "      <td>36</td>\n",
              "      <td>59</td>\n",
              "      <td>0</td>\n",
              "      <td>0</td>\n",
              "      <td>1</td>\n",
              "      <td>0</td>\n",
              "      <td>0</td>\n",
              "      <td>0</td>\n",
              "      <td>0</td>\n",
              "      <td>0</td>\n",
              "      <td>0</td>\n",
              "      <td>0</td>\n",
              "      <td>0</td>\n",
              "      <td>0</td>\n",
              "      <td>1</td>\n",
              "      <td>0</td>\n",
              "      <td>0</td>\n",
              "      <td>0</td>\n",
              "      <td>0</td>\n",
              "      <td>0</td>\n",
              "    </tr>\n",
              "    <tr>\n",
              "      <th>1756</th>\n",
              "      <td>0</td>\n",
              "      <td>0</td>\n",
              "      <td>3</td>\n",
              "      <td>2470</td>\n",
              "      <td>0</td>\n",
              "      <td>24</td>\n",
              "      <td>48</td>\n",
              "      <td>0</td>\n",
              "      <td>1</td>\n",
              "      <td>0</td>\n",
              "      <td>0</td>\n",
              "      <td>0</td>\n",
              "      <td>0</td>\n",
              "      <td>0</td>\n",
              "      <td>0</td>\n",
              "      <td>0</td>\n",
              "      <td>0</td>\n",
              "      <td>0</td>\n",
              "      <td>0</td>\n",
              "      <td>0</td>\n",
              "      <td>1</td>\n",
              "      <td>0</td>\n",
              "      <td>0</td>\n",
              "      <td>0</td>\n",
              "      <td>0</td>\n",
              "    </tr>\n",
              "    <tr>\n",
              "      <th>2346</th>\n",
              "      <td>0</td>\n",
              "      <td>1</td>\n",
              "      <td>2</td>\n",
              "      <td>3745</td>\n",
              "      <td>0</td>\n",
              "      <td>30</td>\n",
              "      <td>46</td>\n",
              "      <td>0</td>\n",
              "      <td>0</td>\n",
              "      <td>0</td>\n",
              "      <td>1</td>\n",
              "      <td>0</td>\n",
              "      <td>0</td>\n",
              "      <td>0</td>\n",
              "      <td>0</td>\n",
              "      <td>0</td>\n",
              "      <td>0</td>\n",
              "      <td>0</td>\n",
              "      <td>0</td>\n",
              "      <td>0</td>\n",
              "      <td>0</td>\n",
              "      <td>0</td>\n",
              "      <td>0</td>\n",
              "      <td>1</td>\n",
              "      <td>0</td>\n",
              "    </tr>\n",
              "    <tr>\n",
              "      <th>2996</th>\n",
              "      <td>0</td>\n",
              "      <td>1</td>\n",
              "      <td>3</td>\n",
              "      <td>3549</td>\n",
              "      <td>0</td>\n",
              "      <td>36</td>\n",
              "      <td>47</td>\n",
              "      <td>1</td>\n",
              "      <td>0</td>\n",
              "      <td>0</td>\n",
              "      <td>0</td>\n",
              "      <td>0</td>\n",
              "      <td>0</td>\n",
              "      <td>0</td>\n",
              "      <td>1</td>\n",
              "      <td>0</td>\n",
              "      <td>0</td>\n",
              "      <td>0</td>\n",
              "      <td>0</td>\n",
              "      <td>0</td>\n",
              "      <td>0</td>\n",
              "      <td>0</td>\n",
              "      <td>0</td>\n",
              "      <td>0</td>\n",
              "      <td>1</td>\n",
              "    </tr>\n",
              "  </tbody>\n",
              "</table>\n",
              "</div>\n",
              "      <button class=\"colab-df-convert\" onclick=\"convertToInteractive('df-273dc134-5dca-4f68-a438-cd8c0fc0bfea')\"\n",
              "              title=\"Convert this dataframe to an interactive table.\"\n",
              "              style=\"display:none;\">\n",
              "        \n",
              "  <svg xmlns=\"http://www.w3.org/2000/svg\" height=\"24px\"viewBox=\"0 0 24 24\"\n",
              "       width=\"24px\">\n",
              "    <path d=\"M0 0h24v24H0V0z\" fill=\"none\"/>\n",
              "    <path d=\"M18.56 5.44l.94 2.06.94-2.06 2.06-.94-2.06-.94-.94-2.06-.94 2.06-2.06.94zm-11 1L8.5 8.5l.94-2.06 2.06-.94-2.06-.94L8.5 2.5l-.94 2.06-2.06.94zm10 10l.94 2.06.94-2.06 2.06-.94-2.06-.94-.94-2.06-.94 2.06-2.06.94z\"/><path d=\"M17.41 7.96l-1.37-1.37c-.4-.4-.92-.59-1.43-.59-.52 0-1.04.2-1.43.59L10.3 9.45l-7.72 7.72c-.78.78-.78 2.05 0 2.83L4 21.41c.39.39.9.59 1.41.59.51 0 1.02-.2 1.41-.59l7.78-7.78 2.81-2.81c.8-.78.8-2.07 0-2.86zM5.41 20L4 18.59l7.72-7.72 1.47 1.35L5.41 20z\"/>\n",
              "  </svg>\n",
              "      </button>\n",
              "      \n",
              "  <style>\n",
              "    .colab-df-container {\n",
              "      display:flex;\n",
              "      flex-wrap:wrap;\n",
              "      gap: 12px;\n",
              "    }\n",
              "\n",
              "    .colab-df-convert {\n",
              "      background-color: #E8F0FE;\n",
              "      border: none;\n",
              "      border-radius: 50%;\n",
              "      cursor: pointer;\n",
              "      display: none;\n",
              "      fill: #1967D2;\n",
              "      height: 32px;\n",
              "      padding: 0 0 0 0;\n",
              "      width: 32px;\n",
              "    }\n",
              "\n",
              "    .colab-df-convert:hover {\n",
              "      background-color: #E2EBFA;\n",
              "      box-shadow: 0px 1px 2px rgba(60, 64, 67, 0.3), 0px 1px 3px 1px rgba(60, 64, 67, 0.15);\n",
              "      fill: #174EA6;\n",
              "    }\n",
              "\n",
              "    [theme=dark] .colab-df-convert {\n",
              "      background-color: #3B4455;\n",
              "      fill: #D2E3FC;\n",
              "    }\n",
              "\n",
              "    [theme=dark] .colab-df-convert:hover {\n",
              "      background-color: #434B5C;\n",
              "      box-shadow: 0px 1px 3px 1px rgba(0, 0, 0, 0.15);\n",
              "      filter: drop-shadow(0px 1px 2px rgba(0, 0, 0, 0.3));\n",
              "      fill: #FFFFFF;\n",
              "    }\n",
              "  </style>\n",
              "\n",
              "      <script>\n",
              "        const buttonEl =\n",
              "          document.querySelector('#df-273dc134-5dca-4f68-a438-cd8c0fc0bfea button.colab-df-convert');\n",
              "        buttonEl.style.display =\n",
              "          google.colab.kernel.accessAllowed ? 'block' : 'none';\n",
              "\n",
              "        async function convertToInteractive(key) {\n",
              "          const element = document.querySelector('#df-273dc134-5dca-4f68-a438-cd8c0fc0bfea');\n",
              "          const dataTable =\n",
              "            await google.colab.kernel.invokeFunction('convertToInteractive',\n",
              "                                                     [key], {});\n",
              "          if (!dataTable) return;\n",
              "\n",
              "          const docLinkHtml = 'Like what you see? Visit the ' +\n",
              "            '<a target=\"_blank\" href=https://colab.research.google.com/notebooks/data_table.ipynb>data table notebook</a>'\n",
              "            + ' to learn more about interactive tables.';\n",
              "          element.innerHTML = '';\n",
              "          dataTable['output_type'] = 'display_data';\n",
              "          await google.colab.output.renderOutput(dataTable, element);\n",
              "          const docLink = document.createElement('div');\n",
              "          docLink.innerHTML = docLinkHtml;\n",
              "          element.appendChild(docLink);\n",
              "        }\n",
              "      </script>\n",
              "    </div>\n",
              "  </div>\n",
              "  "
            ]
          },
          "metadata": {},
          "execution_count": 32
        }
      ]
    },
    {
      "cell_type": "code",
      "source": [
        "# Feature 3, Standardization using yeo-johnson on all numerical features except age.\n",
        "from sklearn.preprocessing import PowerTransformer\n",
        "scaler = PowerTransformer(method='yeo-johnson')\n",
        "scaler.fit(X_train_r2a[Num_feat])\n",
        "X_train_r2a[Num_feat] = scaler.transform(X_train_r2a[Num_feat])   "
      ],
      "metadata": {
        "id": "WGZwY2-rMR70"
      },
      "execution_count": 33,
      "outputs": []
    },
    {
      "cell_type": "code",
      "source": [
        "X_train_r2a.head(5)"
      ],
      "metadata": {
        "colab": {
          "base_uri": "https://localhost:8080/",
          "height": 288
        },
        "id": "j2UC_ROBCBxc",
        "outputId": "88d4ca6d-ab6b-458d-b42c-8b24701b130e"
      },
      "execution_count": 34,
      "outputs": [
        {
          "output_type": "execute_result",
          "data": {
            "text/plain": [
              "      PreviousDefault  PreviousAccounts  ResidenceDuration    Amount  Married  \\\n",
              "3897                0         -1.200668            0.15345 -0.636222        0   \n",
              "5628                0          1.067827            0.15345 -1.399143        0   \n",
              "1756                0         -1.200668            0.79406 -2.566062        0   \n",
              "2346                0          0.280965            0.15345  0.340515        0   \n",
              "2996                0          0.280965            0.79406 -0.122816        0   \n",
              "\n",
              "      Duration  Age  Sex_M  City_East Jill  City_Ericmouth  City_Lake Debra  \\\n",
              "3897 -1.306903   53      1               0               0                0   \n",
              "5628  1.319214   59      0               0               1                0   \n",
              "1756 -0.096777   48      0               1               0                0   \n",
              "2346  0.589447   46      0               0               0                1   \n",
              "2996  1.319214   47      1               0               0                0   \n",
              "\n",
              "      City_Lake Roberto  City_Lisatown  City_New Roberttown  \\\n",
              "3897                  0              0                    1   \n",
              "5628                  0              0                    0   \n",
              "1756                  0              0                    0   \n",
              "2346                  0              0                    0   \n",
              "2996                  0              0                    0   \n",
              "\n",
              "      City_North Judithbury  City_North Noahstad  City_Others  \\\n",
              "3897                      0                    0            0   \n",
              "5628                      0                    0            0   \n",
              "1756                      0                    0            0   \n",
              "2346                      0                    0            0   \n",
              "2996                      1                    0            0   \n",
              "\n",
              "      City_Robinsonshire  Purpose_Education  Purpose_Household  \\\n",
              "3897                   0                  0                  1   \n",
              "5628                   0                  0                  1   \n",
              "1756                   0                  0                  0   \n",
              "2346                   0                  0                  0   \n",
              "2996                   0                  0                  0   \n",
              "\n",
              "      Purpose_NewCar  Purpose_Other  Purpose_Repair  Purpose_UsedCar  \\\n",
              "3897               0              0               0                0   \n",
              "5628               0              0               0                0   \n",
              "1756               1              0               0                0   \n",
              "2346               0              0               0                1   \n",
              "2996               0              0               0                0   \n",
              "\n",
              "      Purpose_Vacation  \n",
              "3897                 0  \n",
              "5628                 0  \n",
              "1756                 0  \n",
              "2346                 0  \n",
              "2996                 1  "
            ],
            "text/html": [
              "\n",
              "  <div id=\"df-e884c404-e47a-4bf8-87a3-12d1e2d2c4ff\">\n",
              "    <div class=\"colab-df-container\">\n",
              "      <div>\n",
              "<style scoped>\n",
              "    .dataframe tbody tr th:only-of-type {\n",
              "        vertical-align: middle;\n",
              "    }\n",
              "\n",
              "    .dataframe tbody tr th {\n",
              "        vertical-align: top;\n",
              "    }\n",
              "\n",
              "    .dataframe thead th {\n",
              "        text-align: right;\n",
              "    }\n",
              "</style>\n",
              "<table border=\"1\" class=\"dataframe\">\n",
              "  <thead>\n",
              "    <tr style=\"text-align: right;\">\n",
              "      <th></th>\n",
              "      <th>PreviousDefault</th>\n",
              "      <th>PreviousAccounts</th>\n",
              "      <th>ResidenceDuration</th>\n",
              "      <th>Amount</th>\n",
              "      <th>Married</th>\n",
              "      <th>Duration</th>\n",
              "      <th>Age</th>\n",
              "      <th>Sex_M</th>\n",
              "      <th>City_East Jill</th>\n",
              "      <th>City_Ericmouth</th>\n",
              "      <th>City_Lake Debra</th>\n",
              "      <th>City_Lake Roberto</th>\n",
              "      <th>City_Lisatown</th>\n",
              "      <th>City_New Roberttown</th>\n",
              "      <th>City_North Judithbury</th>\n",
              "      <th>City_North Noahstad</th>\n",
              "      <th>City_Others</th>\n",
              "      <th>City_Robinsonshire</th>\n",
              "      <th>Purpose_Education</th>\n",
              "      <th>Purpose_Household</th>\n",
              "      <th>Purpose_NewCar</th>\n",
              "      <th>Purpose_Other</th>\n",
              "      <th>Purpose_Repair</th>\n",
              "      <th>Purpose_UsedCar</th>\n",
              "      <th>Purpose_Vacation</th>\n",
              "    </tr>\n",
              "  </thead>\n",
              "  <tbody>\n",
              "    <tr>\n",
              "      <th>3897</th>\n",
              "      <td>0</td>\n",
              "      <td>-1.200668</td>\n",
              "      <td>0.15345</td>\n",
              "      <td>-0.636222</td>\n",
              "      <td>0</td>\n",
              "      <td>-1.306903</td>\n",
              "      <td>53</td>\n",
              "      <td>1</td>\n",
              "      <td>0</td>\n",
              "      <td>0</td>\n",
              "      <td>0</td>\n",
              "      <td>0</td>\n",
              "      <td>0</td>\n",
              "      <td>1</td>\n",
              "      <td>0</td>\n",
              "      <td>0</td>\n",
              "      <td>0</td>\n",
              "      <td>0</td>\n",
              "      <td>0</td>\n",
              "      <td>1</td>\n",
              "      <td>0</td>\n",
              "      <td>0</td>\n",
              "      <td>0</td>\n",
              "      <td>0</td>\n",
              "      <td>0</td>\n",
              "    </tr>\n",
              "    <tr>\n",
              "      <th>5628</th>\n",
              "      <td>0</td>\n",
              "      <td>1.067827</td>\n",
              "      <td>0.15345</td>\n",
              "      <td>-1.399143</td>\n",
              "      <td>0</td>\n",
              "      <td>1.319214</td>\n",
              "      <td>59</td>\n",
              "      <td>0</td>\n",
              "      <td>0</td>\n",
              "      <td>1</td>\n",
              "      <td>0</td>\n",
              "      <td>0</td>\n",
              "      <td>0</td>\n",
              "      <td>0</td>\n",
              "      <td>0</td>\n",
              "      <td>0</td>\n",
              "      <td>0</td>\n",
              "      <td>0</td>\n",
              "      <td>0</td>\n",
              "      <td>1</td>\n",
              "      <td>0</td>\n",
              "      <td>0</td>\n",
              "      <td>0</td>\n",
              "      <td>0</td>\n",
              "      <td>0</td>\n",
              "    </tr>\n",
              "    <tr>\n",
              "      <th>1756</th>\n",
              "      <td>0</td>\n",
              "      <td>-1.200668</td>\n",
              "      <td>0.79406</td>\n",
              "      <td>-2.566062</td>\n",
              "      <td>0</td>\n",
              "      <td>-0.096777</td>\n",
              "      <td>48</td>\n",
              "      <td>0</td>\n",
              "      <td>1</td>\n",
              "      <td>0</td>\n",
              "      <td>0</td>\n",
              "      <td>0</td>\n",
              "      <td>0</td>\n",
              "      <td>0</td>\n",
              "      <td>0</td>\n",
              "      <td>0</td>\n",
              "      <td>0</td>\n",
              "      <td>0</td>\n",
              "      <td>0</td>\n",
              "      <td>0</td>\n",
              "      <td>1</td>\n",
              "      <td>0</td>\n",
              "      <td>0</td>\n",
              "      <td>0</td>\n",
              "      <td>0</td>\n",
              "    </tr>\n",
              "    <tr>\n",
              "      <th>2346</th>\n",
              "      <td>0</td>\n",
              "      <td>0.280965</td>\n",
              "      <td>0.15345</td>\n",
              "      <td>0.340515</td>\n",
              "      <td>0</td>\n",
              "      <td>0.589447</td>\n",
              "      <td>46</td>\n",
              "      <td>0</td>\n",
              "      <td>0</td>\n",
              "      <td>0</td>\n",
              "      <td>1</td>\n",
              "      <td>0</td>\n",
              "      <td>0</td>\n",
              "      <td>0</td>\n",
              "      <td>0</td>\n",
              "      <td>0</td>\n",
              "      <td>0</td>\n",
              "      <td>0</td>\n",
              "      <td>0</td>\n",
              "      <td>0</td>\n",
              "      <td>0</td>\n",
              "      <td>0</td>\n",
              "      <td>0</td>\n",
              "      <td>1</td>\n",
              "      <td>0</td>\n",
              "    </tr>\n",
              "    <tr>\n",
              "      <th>2996</th>\n",
              "      <td>0</td>\n",
              "      <td>0.280965</td>\n",
              "      <td>0.79406</td>\n",
              "      <td>-0.122816</td>\n",
              "      <td>0</td>\n",
              "      <td>1.319214</td>\n",
              "      <td>47</td>\n",
              "      <td>1</td>\n",
              "      <td>0</td>\n",
              "      <td>0</td>\n",
              "      <td>0</td>\n",
              "      <td>0</td>\n",
              "      <td>0</td>\n",
              "      <td>0</td>\n",
              "      <td>1</td>\n",
              "      <td>0</td>\n",
              "      <td>0</td>\n",
              "      <td>0</td>\n",
              "      <td>0</td>\n",
              "      <td>0</td>\n",
              "      <td>0</td>\n",
              "      <td>0</td>\n",
              "      <td>0</td>\n",
              "      <td>0</td>\n",
              "      <td>1</td>\n",
              "    </tr>\n",
              "  </tbody>\n",
              "</table>\n",
              "</div>\n",
              "      <button class=\"colab-df-convert\" onclick=\"convertToInteractive('df-e884c404-e47a-4bf8-87a3-12d1e2d2c4ff')\"\n",
              "              title=\"Convert this dataframe to an interactive table.\"\n",
              "              style=\"display:none;\">\n",
              "        \n",
              "  <svg xmlns=\"http://www.w3.org/2000/svg\" height=\"24px\"viewBox=\"0 0 24 24\"\n",
              "       width=\"24px\">\n",
              "    <path d=\"M0 0h24v24H0V0z\" fill=\"none\"/>\n",
              "    <path d=\"M18.56 5.44l.94 2.06.94-2.06 2.06-.94-2.06-.94-.94-2.06-.94 2.06-2.06.94zm-11 1L8.5 8.5l.94-2.06 2.06-.94-2.06-.94L8.5 2.5l-.94 2.06-2.06.94zm10 10l.94 2.06.94-2.06 2.06-.94-2.06-.94-.94-2.06-.94 2.06-2.06.94z\"/><path d=\"M17.41 7.96l-1.37-1.37c-.4-.4-.92-.59-1.43-.59-.52 0-1.04.2-1.43.59L10.3 9.45l-7.72 7.72c-.78.78-.78 2.05 0 2.83L4 21.41c.39.39.9.59 1.41.59.51 0 1.02-.2 1.41-.59l7.78-7.78 2.81-2.81c.8-.78.8-2.07 0-2.86zM5.41 20L4 18.59l7.72-7.72 1.47 1.35L5.41 20z\"/>\n",
              "  </svg>\n",
              "      </button>\n",
              "      \n",
              "  <style>\n",
              "    .colab-df-container {\n",
              "      display:flex;\n",
              "      flex-wrap:wrap;\n",
              "      gap: 12px;\n",
              "    }\n",
              "\n",
              "    .colab-df-convert {\n",
              "      background-color: #E8F0FE;\n",
              "      border: none;\n",
              "      border-radius: 50%;\n",
              "      cursor: pointer;\n",
              "      display: none;\n",
              "      fill: #1967D2;\n",
              "      height: 32px;\n",
              "      padding: 0 0 0 0;\n",
              "      width: 32px;\n",
              "    }\n",
              "\n",
              "    .colab-df-convert:hover {\n",
              "      background-color: #E2EBFA;\n",
              "      box-shadow: 0px 1px 2px rgba(60, 64, 67, 0.3), 0px 1px 3px 1px rgba(60, 64, 67, 0.15);\n",
              "      fill: #174EA6;\n",
              "    }\n",
              "\n",
              "    [theme=dark] .colab-df-convert {\n",
              "      background-color: #3B4455;\n",
              "      fill: #D2E3FC;\n",
              "    }\n",
              "\n",
              "    [theme=dark] .colab-df-convert:hover {\n",
              "      background-color: #434B5C;\n",
              "      box-shadow: 0px 1px 3px 1px rgba(0, 0, 0, 0.15);\n",
              "      filter: drop-shadow(0px 1px 2px rgba(0, 0, 0, 0.3));\n",
              "      fill: #FFFFFF;\n",
              "    }\n",
              "  </style>\n",
              "\n",
              "      <script>\n",
              "        const buttonEl =\n",
              "          document.querySelector('#df-e884c404-e47a-4bf8-87a3-12d1e2d2c4ff button.colab-df-convert');\n",
              "        buttonEl.style.display =\n",
              "          google.colab.kernel.accessAllowed ? 'block' : 'none';\n",
              "\n",
              "        async function convertToInteractive(key) {\n",
              "          const element = document.querySelector('#df-e884c404-e47a-4bf8-87a3-12d1e2d2c4ff');\n",
              "          const dataTable =\n",
              "            await google.colab.kernel.invokeFunction('convertToInteractive',\n",
              "                                                     [key], {});\n",
              "          if (!dataTable) return;\n",
              "\n",
              "          const docLinkHtml = 'Like what you see? Visit the ' +\n",
              "            '<a target=\"_blank\" href=https://colab.research.google.com/notebooks/data_table.ipynb>data table notebook</a>'\n",
              "            + ' to learn more about interactive tables.';\n",
              "          element.innerHTML = '';\n",
              "          dataTable['output_type'] = 'display_data';\n",
              "          await google.colab.output.renderOutput(dataTable, element);\n",
              "          const docLink = document.createElement('div');\n",
              "          docLink.innerHTML = docLinkHtml;\n",
              "          element.appendChild(docLink);\n",
              "        }\n",
              "      </script>\n",
              "    </div>\n",
              "  </div>\n",
              "  "
            ]
          },
          "metadata": {},
          "execution_count": 34
        }
      ]
    },
    {
      "cell_type": "code",
      "source": [
        "pipe2 = Pipeline(steps=[\n",
        "                        (\"clf\", clf1)\n",
        "                        ])\n",
        "\n",
        "\n",
        "scores = cross_val_score(pipe2, X_train_r2a, y_train, cv=10, scoring=\"f1_macro\") \n",
        "\n",
        "with np.printoptions(formatter={'float': '{: 0.3f}'.format}): \n",
        "  print(\"CV scores: {}\".format(scores))\n",
        "print(\"Estimated F1 Score: {:0.3f} +/- {:0.2f}\".format(np.mean(scores), np.std(scores))) "
      ],
      "metadata": {
        "colab": {
          "base_uri": "https://localhost:8080/"
        },
        "id": "4Fj1CP7rUVuY",
        "outputId": "e37937e1-d03f-4a33-cb49-41bd78d2d070"
      },
      "execution_count": 35,
      "outputs": [
        {
          "output_type": "stream",
          "name": "stdout",
          "text": [
            "CV scores: [ 0.691  0.735  0.690  0.703  0.697  0.750  0.724  0.695  0.653  0.771]\n",
            "Estimated F1 Score: 0.711 +/- 0.03\n"
          ]
        }
      ]
    },
    {
      "cell_type": "markdown",
      "source": [
        "Big boost with feature engineering."
      ],
      "metadata": {
        "id": "IvI2cY23isrW"
      }
    },
    {
      "cell_type": "markdown",
      "metadata": {
        "id": "PsdD0clko5pz"
      },
      "source": [
        "## 3.3: Feature selection"
      ]
    },
    {
      "cell_type": "code",
      "source": [
        "# Recursive Feature Elimination (Wrapper Method)\n",
        "from sklearn.feature_selection import RFECV, RFE\n",
        "sel = RFE(estimator=clf1, n_features_to_select=25)\n",
        "sel = sel.fit(X_train_r2a, y_train) \n",
        "X_train_r3 = sel.transform(X_train_r2a) # transform the train "
      ],
      "metadata": {
        "id": "efZQQp1XNJEG"
      },
      "execution_count": 36,
      "outputs": []
    },
    {
      "cell_type": "code",
      "source": [
        "pipe3 = Pipeline(steps=[\n",
        "                        (\"clf\", clf1)\n",
        "                        ])\n",
        "\n",
        "scores = cross_val_score(pipe3, X_train_r3, y_train, cv=10, scoring=\"f1_macro\") \n",
        "\n",
        "with np.printoptions(formatter={'float': '{: 0.3f}'.format}):\n",
        "  print(\"CV scores: {}\".format(scores))\n",
        "print(\"Estimated F1 Score: {:0.3f} +/- {:0.2f}\".format(np.mean(scores), np.std(scores))) "
      ],
      "metadata": {
        "colab": {
          "base_uri": "https://localhost:8080/"
        },
        "id": "lcWCL17wNJA0",
        "outputId": "d004ca7b-761e-4b1d-bb52-d2235c31200c"
      },
      "execution_count": 37,
      "outputs": [
        {
          "output_type": "stream",
          "name": "stdout",
          "text": [
            "CV scores: [ 0.691  0.735  0.690  0.703  0.697  0.750  0.724  0.695  0.653  0.771]\n",
            "Estimated F1 Score: 0.711 +/- 0.03\n"
          ]
        }
      ]
    },
    {
      "cell_type": "markdown",
      "source": [
        "Performance is still the same with feature selection."
      ],
      "metadata": {
        "id": "ukRaY94PbF3L"
      }
    },
    {
      "cell_type": "markdown",
      "metadata": {
        "id": "Ff4l2aNKo5fr"
      },
      "source": [
        "## 3.4: Hyperparameter tuning"
      ]
    },
    {
      "cell_type": "code",
      "source": [
        "from sklearn.model_selection import GridSearchCV\n",
        "base_clf = DecisionTreeClassifier(splitter= \"best\", class_weight = None, random_state=0)\n",
        "param_grid = {'criterion': ['gini', 'entropy'],\n",
        "        'max_depth': [5,7,8,12,20],\n",
        "        'max_leaf_nodes': [None,5,10,20,30,40,50,100],\n",
        "        'min_impurity_decrease': [0,0.1,0.2],\n",
        "        'min_samples_split' : [6,8,9,10],\n",
        "        'min_samples_leaf' : [1,4,5,7] \n",
        "         }\n",
        "clf_rs = GridSearchCV(base_clf, param_grid, scoring ='f1_macro', n_jobs=-1, cv=10, return_train_score=True)\n",
        "%time clf_rs.fit(X_train_r2a, y_train)"
      ],
      "metadata": {
        "colab": {
          "base_uri": "https://localhost:8080/"
        },
        "id": "GAjQgKGoICa3",
        "outputId": "6ca7af4c-328f-4e32-ecad-059ccc510a8e"
      },
      "execution_count": 38,
      "outputs": [
        {
          "output_type": "stream",
          "name": "stdout",
          "text": [
            "CPU times: user 37.9 s, sys: 3.23 s, total: 41.1 s\n",
            "Wall time: 8min 22s\n"
          ]
        },
        {
          "output_type": "execute_result",
          "data": {
            "text/plain": [
              "GridSearchCV(cv=10, estimator=DecisionTreeClassifier(random_state=0), n_jobs=-1,\n",
              "             param_grid={'criterion': ['gini', 'entropy'],\n",
              "                         'max_depth': [5, 7, 8, 12, 20],\n",
              "                         'max_leaf_nodes': [None, 5, 10, 20, 30, 40, 50, 100],\n",
              "                         'min_impurity_decrease': [0, 0.1, 0.2],\n",
              "                         'min_samples_leaf': [1, 4, 5, 7],\n",
              "                         'min_samples_split': [6, 8, 9, 10]},\n",
              "             return_train_score=True, scoring='f1_macro')"
            ]
          },
          "metadata": {},
          "execution_count": 38
        }
      ]
    },
    {
      "cell_type": "code",
      "source": [
        "Param = clf_rs.best_params_\n",
        "Param"
      ],
      "metadata": {
        "colab": {
          "base_uri": "https://localhost:8080/"
        },
        "id": "nCdIaqrsILS5",
        "outputId": "22f772fb-6429-4d74-cac1-25cd5afdec85"
      },
      "execution_count": 39,
      "outputs": [
        {
          "output_type": "execute_result",
          "data": {
            "text/plain": [
              "{'criterion': 'entropy',\n",
              " 'max_depth': 5,\n",
              " 'max_leaf_nodes': 5,\n",
              " 'min_impurity_decrease': 0,\n",
              " 'min_samples_leaf': 1,\n",
              " 'min_samples_split': 6}"
            ]
          },
          "metadata": {},
          "execution_count": 39
        }
      ]
    },
    {
      "cell_type": "code",
      "source": [
        "best_rs = DecisionTreeClassifier(**Param, random_state=0)\n",
        "best_rs= best_rs.fit(X_train_r2a, y_train)"
      ],
      "metadata": {
        "id": "dWNnvaHmILQQ"
      },
      "execution_count": 40,
      "outputs": []
    },
    {
      "cell_type": "code",
      "source": [
        "scores = cross_val_score(best_rs, X_train_r2a, y_train, cv=10, scoring=\"f1_macro\") \n",
        "\n",
        "\n",
        "with np.printoptions(formatter={'float': '{: 0.3f}'.format}): \n",
        "  print(\"CV scores: {}\".format(scores))\n",
        "print(\"Estimated F1 Score: {:0.3f} +/- {:0.2f}\".format(np.mean(scores), np.std(scores))) "
      ],
      "metadata": {
        "colab": {
          "base_uri": "https://localhost:8080/"
        },
        "id": "BgnzFGnoILMR",
        "outputId": "807e4a87-50b1-4ac3-d8ab-6854e1d94bb3"
      },
      "execution_count": 41,
      "outputs": [
        {
          "output_type": "stream",
          "name": "stdout",
          "text": [
            "CV scores: [ 0.790  0.769  0.767  0.747  0.804  0.805  0.784  0.774  0.750  0.830]\n",
            "Estimated F1 Score: 0.782 +/- 0.02\n"
          ]
        }
      ]
    },
    {
      "cell_type": "markdown",
      "source": [
        "Big boost by hyperparameter tuning."
      ],
      "metadata": {
        "id": "DIko1ikybTAT"
      }
    },
    {
      "cell_type": "markdown",
      "metadata": {
        "id": "Te9gGGLEpXRG"
      },
      "source": [
        "## 3.5: Performance estimation"
      ]
    },
    {
      "cell_type": "markdown",
      "source": [
        "## 3.5.1 Pre-processing"
      ],
      "metadata": {
        "id": "ExbIEFmr636M"
      }
    },
    {
      "cell_type": "code",
      "source": [
        "# Drop the variables that are not useful.\n",
        "X_test_ = X_test.drop(['UserID','FirstName','LastName','LicensePlate','Street','NumberPets'], axis =1)\n",
        "X_test_r = X_test_.drop(['DateOfBirth'], axis =1)"
      ],
      "metadata": {
        "id": "a7MX9L8e4LEl"
      },
      "execution_count": 42,
      "outputs": []
    },
    {
      "cell_type": "code",
      "source": [
        "# Convert date of birth to age.\n",
        "X_test_\n",
        "dateofbt = pd.to_datetime(X_test_['DateOfBirth'])\n",
        "born_yeart = dateofbt.dt.year\n",
        "from datetime import date \n",
        "today = date.today()\n",
        "born_yeart = dateofbt.dt.year\n",
        "age_test = today.year - born_yeart\n",
        "age_test\n",
        "\n",
        "X_test_r2 = X_test_r.join(age_test) \n",
        "X_test_r2\n",
        "\n",
        "X_test_r2 = X_test_r2.rename(columns = {\"DateOfBirth\": \"Age\"})\n",
        "X_test_r2.head(5)"
      ],
      "metadata": {
        "id": "yZo4Y30o4R7K",
        "colab": {
          "base_uri": "https://localhost:8080/",
          "height": 206
        },
        "outputId": "2e4d9fe3-fdbd-4d78-8618-22ff3b9346c0"
      },
      "execution_count": 43,
      "outputs": [
        {
          "output_type": "execute_result",
          "data": {
            "text/plain": [
              "     Sex  PreviousDefault  PreviousAccounts  ResidenceDuration  Amount  \\\n",
              "1782   F                0                 1                  3    3773   \n",
              "3917   F                0                 0                  3    3412   \n",
              "221    F                0                 2                  0    4146   \n",
              "2135   M                0                 1                  1    3608   \n",
              "5224   F                0                 1                  1    2947   \n",
              "\n",
              "      Married  Duration              City  Purpose  Age  \n",
              "1782        0        36  North Judithbury   NewCar   53  \n",
              "3917        0        24      Lake Roberto  UsedCar   60  \n",
              "221         0        24      West Michael   NewCar   53  \n",
              "2135        1        30    East Jessetown  UsedCar   60  \n",
              "5224        1        24  North Judithbury   NewCar   45  "
            ],
            "text/html": [
              "\n",
              "  <div id=\"df-dd312fc0-4102-48c2-9df1-b2bb4ef3576a\">\n",
              "    <div class=\"colab-df-container\">\n",
              "      <div>\n",
              "<style scoped>\n",
              "    .dataframe tbody tr th:only-of-type {\n",
              "        vertical-align: middle;\n",
              "    }\n",
              "\n",
              "    .dataframe tbody tr th {\n",
              "        vertical-align: top;\n",
              "    }\n",
              "\n",
              "    .dataframe thead th {\n",
              "        text-align: right;\n",
              "    }\n",
              "</style>\n",
              "<table border=\"1\" class=\"dataframe\">\n",
              "  <thead>\n",
              "    <tr style=\"text-align: right;\">\n",
              "      <th></th>\n",
              "      <th>Sex</th>\n",
              "      <th>PreviousDefault</th>\n",
              "      <th>PreviousAccounts</th>\n",
              "      <th>ResidenceDuration</th>\n",
              "      <th>Amount</th>\n",
              "      <th>Married</th>\n",
              "      <th>Duration</th>\n",
              "      <th>City</th>\n",
              "      <th>Purpose</th>\n",
              "      <th>Age</th>\n",
              "    </tr>\n",
              "  </thead>\n",
              "  <tbody>\n",
              "    <tr>\n",
              "      <th>1782</th>\n",
              "      <td>F</td>\n",
              "      <td>0</td>\n",
              "      <td>1</td>\n",
              "      <td>3</td>\n",
              "      <td>3773</td>\n",
              "      <td>0</td>\n",
              "      <td>36</td>\n",
              "      <td>North Judithbury</td>\n",
              "      <td>NewCar</td>\n",
              "      <td>53</td>\n",
              "    </tr>\n",
              "    <tr>\n",
              "      <th>3917</th>\n",
              "      <td>F</td>\n",
              "      <td>0</td>\n",
              "      <td>0</td>\n",
              "      <td>3</td>\n",
              "      <td>3412</td>\n",
              "      <td>0</td>\n",
              "      <td>24</td>\n",
              "      <td>Lake Roberto</td>\n",
              "      <td>UsedCar</td>\n",
              "      <td>60</td>\n",
              "    </tr>\n",
              "    <tr>\n",
              "      <th>221</th>\n",
              "      <td>F</td>\n",
              "      <td>0</td>\n",
              "      <td>2</td>\n",
              "      <td>0</td>\n",
              "      <td>4146</td>\n",
              "      <td>0</td>\n",
              "      <td>24</td>\n",
              "      <td>West Michael</td>\n",
              "      <td>NewCar</td>\n",
              "      <td>53</td>\n",
              "    </tr>\n",
              "    <tr>\n",
              "      <th>2135</th>\n",
              "      <td>M</td>\n",
              "      <td>0</td>\n",
              "      <td>1</td>\n",
              "      <td>1</td>\n",
              "      <td>3608</td>\n",
              "      <td>1</td>\n",
              "      <td>30</td>\n",
              "      <td>East Jessetown</td>\n",
              "      <td>UsedCar</td>\n",
              "      <td>60</td>\n",
              "    </tr>\n",
              "    <tr>\n",
              "      <th>5224</th>\n",
              "      <td>F</td>\n",
              "      <td>0</td>\n",
              "      <td>1</td>\n",
              "      <td>1</td>\n",
              "      <td>2947</td>\n",
              "      <td>1</td>\n",
              "      <td>24</td>\n",
              "      <td>North Judithbury</td>\n",
              "      <td>NewCar</td>\n",
              "      <td>45</td>\n",
              "    </tr>\n",
              "  </tbody>\n",
              "</table>\n",
              "</div>\n",
              "      <button class=\"colab-df-convert\" onclick=\"convertToInteractive('df-dd312fc0-4102-48c2-9df1-b2bb4ef3576a')\"\n",
              "              title=\"Convert this dataframe to an interactive table.\"\n",
              "              style=\"display:none;\">\n",
              "        \n",
              "  <svg xmlns=\"http://www.w3.org/2000/svg\" height=\"24px\"viewBox=\"0 0 24 24\"\n",
              "       width=\"24px\">\n",
              "    <path d=\"M0 0h24v24H0V0z\" fill=\"none\"/>\n",
              "    <path d=\"M18.56 5.44l.94 2.06.94-2.06 2.06-.94-2.06-.94-.94-2.06-.94 2.06-2.06.94zm-11 1L8.5 8.5l.94-2.06 2.06-.94-2.06-.94L8.5 2.5l-.94 2.06-2.06.94zm10 10l.94 2.06.94-2.06 2.06-.94-2.06-.94-.94-2.06-.94 2.06-2.06.94z\"/><path d=\"M17.41 7.96l-1.37-1.37c-.4-.4-.92-.59-1.43-.59-.52 0-1.04.2-1.43.59L10.3 9.45l-7.72 7.72c-.78.78-.78 2.05 0 2.83L4 21.41c.39.39.9.59 1.41.59.51 0 1.02-.2 1.41-.59l7.78-7.78 2.81-2.81c.8-.78.8-2.07 0-2.86zM5.41 20L4 18.59l7.72-7.72 1.47 1.35L5.41 20z\"/>\n",
              "  </svg>\n",
              "      </button>\n",
              "      \n",
              "  <style>\n",
              "    .colab-df-container {\n",
              "      display:flex;\n",
              "      flex-wrap:wrap;\n",
              "      gap: 12px;\n",
              "    }\n",
              "\n",
              "    .colab-df-convert {\n",
              "      background-color: #E8F0FE;\n",
              "      border: none;\n",
              "      border-radius: 50%;\n",
              "      cursor: pointer;\n",
              "      display: none;\n",
              "      fill: #1967D2;\n",
              "      height: 32px;\n",
              "      padding: 0 0 0 0;\n",
              "      width: 32px;\n",
              "    }\n",
              "\n",
              "    .colab-df-convert:hover {\n",
              "      background-color: #E2EBFA;\n",
              "      box-shadow: 0px 1px 2px rgba(60, 64, 67, 0.3), 0px 1px 3px 1px rgba(60, 64, 67, 0.15);\n",
              "      fill: #174EA6;\n",
              "    }\n",
              "\n",
              "    [theme=dark] .colab-df-convert {\n",
              "      background-color: #3B4455;\n",
              "      fill: #D2E3FC;\n",
              "    }\n",
              "\n",
              "    [theme=dark] .colab-df-convert:hover {\n",
              "      background-color: #434B5C;\n",
              "      box-shadow: 0px 1px 3px 1px rgba(0, 0, 0, 0.15);\n",
              "      filter: drop-shadow(0px 1px 2px rgba(0, 0, 0, 0.3));\n",
              "      fill: #FFFFFF;\n",
              "    }\n",
              "  </style>\n",
              "\n",
              "      <script>\n",
              "        const buttonEl =\n",
              "          document.querySelector('#df-dd312fc0-4102-48c2-9df1-b2bb4ef3576a button.colab-df-convert');\n",
              "        buttonEl.style.display =\n",
              "          google.colab.kernel.accessAllowed ? 'block' : 'none';\n",
              "\n",
              "        async function convertToInteractive(key) {\n",
              "          const element = document.querySelector('#df-dd312fc0-4102-48c2-9df1-b2bb4ef3576a');\n",
              "          const dataTable =\n",
              "            await google.colab.kernel.invokeFunction('convertToInteractive',\n",
              "                                                     [key], {});\n",
              "          if (!dataTable) return;\n",
              "\n",
              "          const docLinkHtml = 'Like what you see? Visit the ' +\n",
              "            '<a target=\"_blank\" href=https://colab.research.google.com/notebooks/data_table.ipynb>data table notebook</a>'\n",
              "            + ' to learn more about interactive tables.';\n",
              "          element.innerHTML = '';\n",
              "          dataTable['output_type'] = 'display_data';\n",
              "          await google.colab.output.renderOutput(dataTable, element);\n",
              "          const docLink = document.createElement('div');\n",
              "          docLink.innerHTML = docLinkHtml;\n",
              "          element.appendChild(docLink);\n",
              "        }\n",
              "      </script>\n",
              "    </div>\n",
              "  </div>\n",
              "  "
            ]
          },
          "metadata": {},
          "execution_count": 43
        }
      ]
    },
    {
      "cell_type": "code",
      "source": [
        "# Declaring top 10 cities.\n",
        "top10t = X_test_r2['City'].value_counts().nlargest(10).index\n",
        "top10t"
      ],
      "metadata": {
        "id": "7j0ctXpuwnyQ",
        "colab": {
          "base_uri": "https://localhost:8080/"
        },
        "outputId": "88f35752-9484-4e34-90cc-559e6d6cb1b0"
      },
      "execution_count": 44,
      "outputs": [
        {
          "output_type": "execute_result",
          "data": {
            "text/plain": [
              "Index(['North Judithbury', 'East Jill', 'New Roberttown', 'East Jessetown',\n",
              "       'Lake Debra', 'Robinsonshire', 'Ericmouth', 'Lisatown',\n",
              "       'North Noahstad', 'Lake Roberto'],\n",
              "      dtype='object')"
            ]
          },
          "metadata": {},
          "execution_count": 44
        }
      ]
    },
    {
      "cell_type": "code",
      "source": [
        "X_test_r2['City'] = X_test_r2['City'].where(X_test_r2['City'].isin(top10t), 'Others')\n",
        "X_test_r2['City'].value_counts()"
      ],
      "metadata": {
        "id": "Is9Ku_omwnyQ",
        "colab": {
          "base_uri": "https://localhost:8080/"
        },
        "outputId": "8451b208-33af-4e76-accc-d667c664068b"
      },
      "execution_count": 45,
      "outputs": [
        {
          "output_type": "execute_result",
          "data": {
            "text/plain": [
              "North Judithbury    332\n",
              "Others              221\n",
              "East Jill           169\n",
              "New Roberttown      126\n",
              "East Jessetown       80\n",
              "Lake Debra           58\n",
              "Robinsonshire        53\n",
              "Ericmouth            47\n",
              "Lisatown             44\n",
              "North Noahstad       36\n",
              "Lake Roberto         34\n",
              "Name: City, dtype: int64"
            ]
          },
          "metadata": {},
          "execution_count": 45
        }
      ]
    },
    {
      "cell_type": "code",
      "source": [
        "X_test_r2 = pd.get_dummies(X_test_r2, drop_first=True)  \n",
        "X_test_r2.dtypes"
      ],
      "metadata": {
        "id": "PZBPZf784M_s",
        "colab": {
          "base_uri": "https://localhost:8080/"
        },
        "outputId": "00b1146f-a0b2-4cea-ba5f-7864819624af"
      },
      "execution_count": 46,
      "outputs": [
        {
          "output_type": "execute_result",
          "data": {
            "text/plain": [
              "PreviousDefault          int64\n",
              "PreviousAccounts         int64\n",
              "ResidenceDuration        int64\n",
              "Amount                   int64\n",
              "Married                  int64\n",
              "Duration                 int64\n",
              "Age                      int64\n",
              "Sex_M                    uint8\n",
              "City_East Jill           uint8\n",
              "City_Ericmouth           uint8\n",
              "City_Lake Debra          uint8\n",
              "City_Lake Roberto        uint8\n",
              "City_Lisatown            uint8\n",
              "City_New Roberttown      uint8\n",
              "City_North Judithbury    uint8\n",
              "City_North Noahstad      uint8\n",
              "City_Others              uint8\n",
              "City_Robinsonshire       uint8\n",
              "Purpose_Education        uint8\n",
              "Purpose_Household        uint8\n",
              "Purpose_NewCar           uint8\n",
              "Purpose_Other            uint8\n",
              "Purpose_Repair           uint8\n",
              "Purpose_UsedCar          uint8\n",
              "Purpose_Vacation         uint8\n",
              "dtype: object"
            ]
          },
          "metadata": {},
          "execution_count": 46
        }
      ]
    },
    {
      "cell_type": "code",
      "source": [
        "scaler.fit(X_test_r2[Num_feat])\n",
        "X_test_r2[Num_feat] = scaler.transform(X_test_r2[Num_feat])   "
      ],
      "metadata": {
        "id": "-wfFVFK6W0Pe"
      },
      "execution_count": 47,
      "outputs": []
    },
    {
      "cell_type": "code",
      "source": [
        "X_test_r2.head(5)"
      ],
      "metadata": {
        "colab": {
          "base_uri": "https://localhost:8080/",
          "height": 288
        },
        "id": "7UOHSWNVa8w_",
        "outputId": "23391440-87b2-4a0b-f272-d5a53a42b708"
      },
      "execution_count": 48,
      "outputs": [
        {
          "output_type": "execute_result",
          "data": {
            "text/plain": [
              "      PreviousDefault  PreviousAccounts  ResidenceDuration    Amount  Married  \\\n",
              "1782                0          0.262137           0.809871  0.441815        0   \n",
              "3917                0         -1.188475           0.809871 -0.396003        0   \n",
              "221                 0          1.048009          -1.753005  1.341233        0   \n",
              "2135                0          0.262137          -0.646773  0.054775        1   \n",
              "5224                0          0.262137          -0.646773 -1.424494        1   \n",
              "\n",
              "      Duration  Age  Sex_M  City_East Jill  City_Ericmouth  City_Lake Debra  \\\n",
              "1782  1.349285   53      0               0               0                0   \n",
              "3917 -0.012271   60      0               0               0                0   \n",
              "221  -0.012271   53      0               0               0                0   \n",
              "2135  0.652854   60      1               0               0                0   \n",
              "5224 -0.012271   45      0               0               0                0   \n",
              "\n",
              "      City_Lake Roberto  City_Lisatown  City_New Roberttown  \\\n",
              "1782                  0              0                    0   \n",
              "3917                  1              0                    0   \n",
              "221                   0              0                    0   \n",
              "2135                  0              0                    0   \n",
              "5224                  0              0                    0   \n",
              "\n",
              "      City_North Judithbury  City_North Noahstad  City_Others  \\\n",
              "1782                      1                    0            0   \n",
              "3917                      0                    0            0   \n",
              "221                       0                    0            1   \n",
              "2135                      0                    0            0   \n",
              "5224                      1                    0            0   \n",
              "\n",
              "      City_Robinsonshire  Purpose_Education  Purpose_Household  \\\n",
              "1782                   0                  0                  0   \n",
              "3917                   0                  0                  0   \n",
              "221                    0                  0                  0   \n",
              "2135                   0                  0                  0   \n",
              "5224                   0                  0                  0   \n",
              "\n",
              "      Purpose_NewCar  Purpose_Other  Purpose_Repair  Purpose_UsedCar  \\\n",
              "1782               1              0               0                0   \n",
              "3917               0              0               0                1   \n",
              "221                1              0               0                0   \n",
              "2135               0              0               0                1   \n",
              "5224               1              0               0                0   \n",
              "\n",
              "      Purpose_Vacation  \n",
              "1782                 0  \n",
              "3917                 0  \n",
              "221                  0  \n",
              "2135                 0  \n",
              "5224                 0  "
            ],
            "text/html": [
              "\n",
              "  <div id=\"df-12ba84f9-4daf-4737-81b9-bae3a0f2d200\">\n",
              "    <div class=\"colab-df-container\">\n",
              "      <div>\n",
              "<style scoped>\n",
              "    .dataframe tbody tr th:only-of-type {\n",
              "        vertical-align: middle;\n",
              "    }\n",
              "\n",
              "    .dataframe tbody tr th {\n",
              "        vertical-align: top;\n",
              "    }\n",
              "\n",
              "    .dataframe thead th {\n",
              "        text-align: right;\n",
              "    }\n",
              "</style>\n",
              "<table border=\"1\" class=\"dataframe\">\n",
              "  <thead>\n",
              "    <tr style=\"text-align: right;\">\n",
              "      <th></th>\n",
              "      <th>PreviousDefault</th>\n",
              "      <th>PreviousAccounts</th>\n",
              "      <th>ResidenceDuration</th>\n",
              "      <th>Amount</th>\n",
              "      <th>Married</th>\n",
              "      <th>Duration</th>\n",
              "      <th>Age</th>\n",
              "      <th>Sex_M</th>\n",
              "      <th>City_East Jill</th>\n",
              "      <th>City_Ericmouth</th>\n",
              "      <th>City_Lake Debra</th>\n",
              "      <th>City_Lake Roberto</th>\n",
              "      <th>City_Lisatown</th>\n",
              "      <th>City_New Roberttown</th>\n",
              "      <th>City_North Judithbury</th>\n",
              "      <th>City_North Noahstad</th>\n",
              "      <th>City_Others</th>\n",
              "      <th>City_Robinsonshire</th>\n",
              "      <th>Purpose_Education</th>\n",
              "      <th>Purpose_Household</th>\n",
              "      <th>Purpose_NewCar</th>\n",
              "      <th>Purpose_Other</th>\n",
              "      <th>Purpose_Repair</th>\n",
              "      <th>Purpose_UsedCar</th>\n",
              "      <th>Purpose_Vacation</th>\n",
              "    </tr>\n",
              "  </thead>\n",
              "  <tbody>\n",
              "    <tr>\n",
              "      <th>1782</th>\n",
              "      <td>0</td>\n",
              "      <td>0.262137</td>\n",
              "      <td>0.809871</td>\n",
              "      <td>0.441815</td>\n",
              "      <td>0</td>\n",
              "      <td>1.349285</td>\n",
              "      <td>53</td>\n",
              "      <td>0</td>\n",
              "      <td>0</td>\n",
              "      <td>0</td>\n",
              "      <td>0</td>\n",
              "      <td>0</td>\n",
              "      <td>0</td>\n",
              "      <td>0</td>\n",
              "      <td>1</td>\n",
              "      <td>0</td>\n",
              "      <td>0</td>\n",
              "      <td>0</td>\n",
              "      <td>0</td>\n",
              "      <td>0</td>\n",
              "      <td>1</td>\n",
              "      <td>0</td>\n",
              "      <td>0</td>\n",
              "      <td>0</td>\n",
              "      <td>0</td>\n",
              "    </tr>\n",
              "    <tr>\n",
              "      <th>3917</th>\n",
              "      <td>0</td>\n",
              "      <td>-1.188475</td>\n",
              "      <td>0.809871</td>\n",
              "      <td>-0.396003</td>\n",
              "      <td>0</td>\n",
              "      <td>-0.012271</td>\n",
              "      <td>60</td>\n",
              "      <td>0</td>\n",
              "      <td>0</td>\n",
              "      <td>0</td>\n",
              "      <td>0</td>\n",
              "      <td>1</td>\n",
              "      <td>0</td>\n",
              "      <td>0</td>\n",
              "      <td>0</td>\n",
              "      <td>0</td>\n",
              "      <td>0</td>\n",
              "      <td>0</td>\n",
              "      <td>0</td>\n",
              "      <td>0</td>\n",
              "      <td>0</td>\n",
              "      <td>0</td>\n",
              "      <td>0</td>\n",
              "      <td>1</td>\n",
              "      <td>0</td>\n",
              "    </tr>\n",
              "    <tr>\n",
              "      <th>221</th>\n",
              "      <td>0</td>\n",
              "      <td>1.048009</td>\n",
              "      <td>-1.753005</td>\n",
              "      <td>1.341233</td>\n",
              "      <td>0</td>\n",
              "      <td>-0.012271</td>\n",
              "      <td>53</td>\n",
              "      <td>0</td>\n",
              "      <td>0</td>\n",
              "      <td>0</td>\n",
              "      <td>0</td>\n",
              "      <td>0</td>\n",
              "      <td>0</td>\n",
              "      <td>0</td>\n",
              "      <td>0</td>\n",
              "      <td>0</td>\n",
              "      <td>1</td>\n",
              "      <td>0</td>\n",
              "      <td>0</td>\n",
              "      <td>0</td>\n",
              "      <td>1</td>\n",
              "      <td>0</td>\n",
              "      <td>0</td>\n",
              "      <td>0</td>\n",
              "      <td>0</td>\n",
              "    </tr>\n",
              "    <tr>\n",
              "      <th>2135</th>\n",
              "      <td>0</td>\n",
              "      <td>0.262137</td>\n",
              "      <td>-0.646773</td>\n",
              "      <td>0.054775</td>\n",
              "      <td>1</td>\n",
              "      <td>0.652854</td>\n",
              "      <td>60</td>\n",
              "      <td>1</td>\n",
              "      <td>0</td>\n",
              "      <td>0</td>\n",
              "      <td>0</td>\n",
              "      <td>0</td>\n",
              "      <td>0</td>\n",
              "      <td>0</td>\n",
              "      <td>0</td>\n",
              "      <td>0</td>\n",
              "      <td>0</td>\n",
              "      <td>0</td>\n",
              "      <td>0</td>\n",
              "      <td>0</td>\n",
              "      <td>0</td>\n",
              "      <td>0</td>\n",
              "      <td>0</td>\n",
              "      <td>1</td>\n",
              "      <td>0</td>\n",
              "    </tr>\n",
              "    <tr>\n",
              "      <th>5224</th>\n",
              "      <td>0</td>\n",
              "      <td>0.262137</td>\n",
              "      <td>-0.646773</td>\n",
              "      <td>-1.424494</td>\n",
              "      <td>1</td>\n",
              "      <td>-0.012271</td>\n",
              "      <td>45</td>\n",
              "      <td>0</td>\n",
              "      <td>0</td>\n",
              "      <td>0</td>\n",
              "      <td>0</td>\n",
              "      <td>0</td>\n",
              "      <td>0</td>\n",
              "      <td>0</td>\n",
              "      <td>1</td>\n",
              "      <td>0</td>\n",
              "      <td>0</td>\n",
              "      <td>0</td>\n",
              "      <td>0</td>\n",
              "      <td>0</td>\n",
              "      <td>1</td>\n",
              "      <td>0</td>\n",
              "      <td>0</td>\n",
              "      <td>0</td>\n",
              "      <td>0</td>\n",
              "    </tr>\n",
              "  </tbody>\n",
              "</table>\n",
              "</div>\n",
              "      <button class=\"colab-df-convert\" onclick=\"convertToInteractive('df-12ba84f9-4daf-4737-81b9-bae3a0f2d200')\"\n",
              "              title=\"Convert this dataframe to an interactive table.\"\n",
              "              style=\"display:none;\">\n",
              "        \n",
              "  <svg xmlns=\"http://www.w3.org/2000/svg\" height=\"24px\"viewBox=\"0 0 24 24\"\n",
              "       width=\"24px\">\n",
              "    <path d=\"M0 0h24v24H0V0z\" fill=\"none\"/>\n",
              "    <path d=\"M18.56 5.44l.94 2.06.94-2.06 2.06-.94-2.06-.94-.94-2.06-.94 2.06-2.06.94zm-11 1L8.5 8.5l.94-2.06 2.06-.94-2.06-.94L8.5 2.5l-.94 2.06-2.06.94zm10 10l.94 2.06.94-2.06 2.06-.94-2.06-.94-.94-2.06-.94 2.06-2.06.94z\"/><path d=\"M17.41 7.96l-1.37-1.37c-.4-.4-.92-.59-1.43-.59-.52 0-1.04.2-1.43.59L10.3 9.45l-7.72 7.72c-.78.78-.78 2.05 0 2.83L4 21.41c.39.39.9.59 1.41.59.51 0 1.02-.2 1.41-.59l7.78-7.78 2.81-2.81c.8-.78.8-2.07 0-2.86zM5.41 20L4 18.59l7.72-7.72 1.47 1.35L5.41 20z\"/>\n",
              "  </svg>\n",
              "      </button>\n",
              "      \n",
              "  <style>\n",
              "    .colab-df-container {\n",
              "      display:flex;\n",
              "      flex-wrap:wrap;\n",
              "      gap: 12px;\n",
              "    }\n",
              "\n",
              "    .colab-df-convert {\n",
              "      background-color: #E8F0FE;\n",
              "      border: none;\n",
              "      border-radius: 50%;\n",
              "      cursor: pointer;\n",
              "      display: none;\n",
              "      fill: #1967D2;\n",
              "      height: 32px;\n",
              "      padding: 0 0 0 0;\n",
              "      width: 32px;\n",
              "    }\n",
              "\n",
              "    .colab-df-convert:hover {\n",
              "      background-color: #E2EBFA;\n",
              "      box-shadow: 0px 1px 2px rgba(60, 64, 67, 0.3), 0px 1px 3px 1px rgba(60, 64, 67, 0.15);\n",
              "      fill: #174EA6;\n",
              "    }\n",
              "\n",
              "    [theme=dark] .colab-df-convert {\n",
              "      background-color: #3B4455;\n",
              "      fill: #D2E3FC;\n",
              "    }\n",
              "\n",
              "    [theme=dark] .colab-df-convert:hover {\n",
              "      background-color: #434B5C;\n",
              "      box-shadow: 0px 1px 3px 1px rgba(0, 0, 0, 0.15);\n",
              "      filter: drop-shadow(0px 1px 2px rgba(0, 0, 0, 0.3));\n",
              "      fill: #FFFFFF;\n",
              "    }\n",
              "  </style>\n",
              "\n",
              "      <script>\n",
              "        const buttonEl =\n",
              "          document.querySelector('#df-12ba84f9-4daf-4737-81b9-bae3a0f2d200 button.colab-df-convert');\n",
              "        buttonEl.style.display =\n",
              "          google.colab.kernel.accessAllowed ? 'block' : 'none';\n",
              "\n",
              "        async function convertToInteractive(key) {\n",
              "          const element = document.querySelector('#df-12ba84f9-4daf-4737-81b9-bae3a0f2d200');\n",
              "          const dataTable =\n",
              "            await google.colab.kernel.invokeFunction('convertToInteractive',\n",
              "                                                     [key], {});\n",
              "          if (!dataTable) return;\n",
              "\n",
              "          const docLinkHtml = 'Like what you see? Visit the ' +\n",
              "            '<a target=\"_blank\" href=https://colab.research.google.com/notebooks/data_table.ipynb>data table notebook</a>'\n",
              "            + ' to learn more about interactive tables.';\n",
              "          element.innerHTML = '';\n",
              "          dataTable['output_type'] = 'display_data';\n",
              "          await google.colab.output.renderOutput(dataTable, element);\n",
              "          const docLink = document.createElement('div');\n",
              "          docLink.innerHTML = docLinkHtml;\n",
              "          element.appendChild(docLink);\n",
              "        }\n",
              "      </script>\n",
              "    </div>\n",
              "  </div>\n",
              "  "
            ]
          },
          "metadata": {},
          "execution_count": 48
        }
      ]
    },
    {
      "cell_type": "markdown",
      "source": [
        "## Prediction "
      ],
      "metadata": {
        "id": "e6M21GEW7Dnk"
      }
    },
    {
      "cell_type": "code",
      "source": [
        "from sklearn.metrics import classification_report \n",
        "y_pred_rs =clf_rs.predict(X_test_r2)\n",
        "print(classification_report(y_test, y_pred_rs))"
      ],
      "metadata": {
        "id": "3ok1J55461bc",
        "colab": {
          "base_uri": "https://localhost:8080/"
        },
        "outputId": "347577c3-393f-4881-b8d4-fd1fa1c44bb7"
      },
      "execution_count": 49,
      "outputs": [
        {
          "output_type": "stream",
          "name": "stdout",
          "text": [
            "              precision    recall  f1-score   support\n",
            "\n",
            "           0       0.94      0.93      0.93       991\n",
            "           1       0.67      0.71      0.69       209\n",
            "\n",
            "    accuracy                           0.89      1200\n",
            "   macro avg       0.81      0.82      0.81      1200\n",
            "weighted avg       0.89      0.89      0.89      1200\n",
            "\n"
          ]
        }
      ]
    },
    {
      "cell_type": "markdown",
      "source": [
        "We have done well with F1-Macro score of 0.81 which is even better than train results of 0.78. This reflects we have not overfit the data. "
      ],
      "metadata": {
        "id": "QG2w5O1nk2nY"
      }
    },
    {
      "cell_type": "code",
      "source": [],
      "metadata": {
        "id": "4SIvRLTy4TjG"
      },
      "execution_count": 49,
      "outputs": []
    }
  ]
}
