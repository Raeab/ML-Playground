{
  "nbformat": 4,
  "nbformat_minor": 0,
  "metadata": {
    "kernelspec": {
      "name": "python3",
      "display_name": "Python 3"
    },
    "colab": {
      "provenance": [],
      "toc_visible": true,
      "include_colab_link": true
    }
  },
  "cells": [
    {
      "cell_type": "markdown",
      "metadata": {
        "id": "view-in-github",
        "colab_type": "text"
      },
      "source": [
        "<a href=\"https://colab.research.google.com/github/Raeab/ML-Playground/blob/main/Clustering_Unsupervised.ipynb\" target=\"_parent\"><img src=\"https://colab.research.google.com/assets/colab-badge.svg\" alt=\"Open In Colab\"/></a>"
      ]
    },
    {
      "cell_type": "markdown",
      "metadata": {
        "id": "Yww0-vtpOw7z"
      },
      "source": [
        "## 1.0: Load data "
      ]
    },
    {
      "cell_type": "code",
      "metadata": {
        "colab": {
          "base_uri": "https://localhost:8080/"
        },
        "id": "qVWx2c-DhQYo",
        "outputId": "56757fc6-5256-4791-9482-f09c367fce3c"
      },
      "source": [
        "# get pkgs and data\n",
        "import pandas as pd\n",
        "import numpy as np\n",
        "df1 = pd.read_csv(\"https://drive.google.com/uc?export=download&id=1thHDCwQK3GijytoSSZNekAsItN_FGHtm\")\n",
        "df1.info()"
      ],
      "execution_count": 1,
      "outputs": [
        {
          "output_type": "stream",
          "name": "stdout",
          "text": [
            "<class 'pandas.core.frame.DataFrame'>\n",
            "RangeIndex: 505 entries, 0 to 504\n",
            "Data columns (total 4 columns):\n",
            " #   Column         Non-Null Count  Dtype  \n",
            "---  ------         --------------  -----  \n",
            " 0   Age            505 non-null    int64  \n",
            " 1   Income         505 non-null    int64  \n",
            " 2   SpendingScore  505 non-null    float64\n",
            " 3   Savings        505 non-null    float64\n",
            "dtypes: float64(2), int64(2)\n",
            "memory usage: 15.9 KB\n"
          ]
        }
      ]
    },
    {
      "cell_type": "markdown",
      "metadata": {
        "id": "R04NzckZKbG2"
      },
      "source": [
        "## 1.1: Clustering Algorithm #1\n"
      ]
    },
    {
      "cell_type": "code",
      "source": [
        "df1.head(5)"
      ],
      "metadata": {
        "colab": {
          "base_uri": "https://localhost:8080/",
          "height": 206
        },
        "id": "jIQzIQ-Cqg40",
        "outputId": "10beffc4-ef27-4765-9c3e-aa676bc9181d"
      },
      "execution_count": 2,
      "outputs": [
        {
          "output_type": "execute_result",
          "data": {
            "text/plain": [
              "   Age  Income  SpendingScore       Savings\n",
              "0   58   77769       0.791329   6559.829923\n",
              "1   59   81799       0.791082   5417.661426\n",
              "2   62   74751       0.702657   9258.992965\n",
              "3   59   74373       0.765680   7346.334504\n",
              "4   87   17760       0.348778  16869.507130"
            ],
            "text/html": [
              "\n",
              "  <div id=\"df-899e8f8e-026e-43ec-b036-0cbe29d9d32c\">\n",
              "    <div class=\"colab-df-container\">\n",
              "      <div>\n",
              "<style scoped>\n",
              "    .dataframe tbody tr th:only-of-type {\n",
              "        vertical-align: middle;\n",
              "    }\n",
              "\n",
              "    .dataframe tbody tr th {\n",
              "        vertical-align: top;\n",
              "    }\n",
              "\n",
              "    .dataframe thead th {\n",
              "        text-align: right;\n",
              "    }\n",
              "</style>\n",
              "<table border=\"1\" class=\"dataframe\">\n",
              "  <thead>\n",
              "    <tr style=\"text-align: right;\">\n",
              "      <th></th>\n",
              "      <th>Age</th>\n",
              "      <th>Income</th>\n",
              "      <th>SpendingScore</th>\n",
              "      <th>Savings</th>\n",
              "    </tr>\n",
              "  </thead>\n",
              "  <tbody>\n",
              "    <tr>\n",
              "      <th>0</th>\n",
              "      <td>58</td>\n",
              "      <td>77769</td>\n",
              "      <td>0.791329</td>\n",
              "      <td>6559.829923</td>\n",
              "    </tr>\n",
              "    <tr>\n",
              "      <th>1</th>\n",
              "      <td>59</td>\n",
              "      <td>81799</td>\n",
              "      <td>0.791082</td>\n",
              "      <td>5417.661426</td>\n",
              "    </tr>\n",
              "    <tr>\n",
              "      <th>2</th>\n",
              "      <td>62</td>\n",
              "      <td>74751</td>\n",
              "      <td>0.702657</td>\n",
              "      <td>9258.992965</td>\n",
              "    </tr>\n",
              "    <tr>\n",
              "      <th>3</th>\n",
              "      <td>59</td>\n",
              "      <td>74373</td>\n",
              "      <td>0.765680</td>\n",
              "      <td>7346.334504</td>\n",
              "    </tr>\n",
              "    <tr>\n",
              "      <th>4</th>\n",
              "      <td>87</td>\n",
              "      <td>17760</td>\n",
              "      <td>0.348778</td>\n",
              "      <td>16869.507130</td>\n",
              "    </tr>\n",
              "  </tbody>\n",
              "</table>\n",
              "</div>\n",
              "      <button class=\"colab-df-convert\" onclick=\"convertToInteractive('df-899e8f8e-026e-43ec-b036-0cbe29d9d32c')\"\n",
              "              title=\"Convert this dataframe to an interactive table.\"\n",
              "              style=\"display:none;\">\n",
              "        \n",
              "  <svg xmlns=\"http://www.w3.org/2000/svg\" height=\"24px\"viewBox=\"0 0 24 24\"\n",
              "       width=\"24px\">\n",
              "    <path d=\"M0 0h24v24H0V0z\" fill=\"none\"/>\n",
              "    <path d=\"M18.56 5.44l.94 2.06.94-2.06 2.06-.94-2.06-.94-.94-2.06-.94 2.06-2.06.94zm-11 1L8.5 8.5l.94-2.06 2.06-.94-2.06-.94L8.5 2.5l-.94 2.06-2.06.94zm10 10l.94 2.06.94-2.06 2.06-.94-2.06-.94-.94-2.06-.94 2.06-2.06.94z\"/><path d=\"M17.41 7.96l-1.37-1.37c-.4-.4-.92-.59-1.43-.59-.52 0-1.04.2-1.43.59L10.3 9.45l-7.72 7.72c-.78.78-.78 2.05 0 2.83L4 21.41c.39.39.9.59 1.41.59.51 0 1.02-.2 1.41-.59l7.78-7.78 2.81-2.81c.8-.78.8-2.07 0-2.86zM5.41 20L4 18.59l7.72-7.72 1.47 1.35L5.41 20z\"/>\n",
              "  </svg>\n",
              "      </button>\n",
              "      \n",
              "  <style>\n",
              "    .colab-df-container {\n",
              "      display:flex;\n",
              "      flex-wrap:wrap;\n",
              "      gap: 12px;\n",
              "    }\n",
              "\n",
              "    .colab-df-convert {\n",
              "      background-color: #E8F0FE;\n",
              "      border: none;\n",
              "      border-radius: 50%;\n",
              "      cursor: pointer;\n",
              "      display: none;\n",
              "      fill: #1967D2;\n",
              "      height: 32px;\n",
              "      padding: 0 0 0 0;\n",
              "      width: 32px;\n",
              "    }\n",
              "\n",
              "    .colab-df-convert:hover {\n",
              "      background-color: #E2EBFA;\n",
              "      box-shadow: 0px 1px 2px rgba(60, 64, 67, 0.3), 0px 1px 3px 1px rgba(60, 64, 67, 0.15);\n",
              "      fill: #174EA6;\n",
              "    }\n",
              "\n",
              "    [theme=dark] .colab-df-convert {\n",
              "      background-color: #3B4455;\n",
              "      fill: #D2E3FC;\n",
              "    }\n",
              "\n",
              "    [theme=dark] .colab-df-convert:hover {\n",
              "      background-color: #434B5C;\n",
              "      box-shadow: 0px 1px 3px 1px rgba(0, 0, 0, 0.15);\n",
              "      filter: drop-shadow(0px 1px 2px rgba(0, 0, 0, 0.3));\n",
              "      fill: #FFFFFF;\n",
              "    }\n",
              "  </style>\n",
              "\n",
              "      <script>\n",
              "        const buttonEl =\n",
              "          document.querySelector('#df-899e8f8e-026e-43ec-b036-0cbe29d9d32c button.colab-df-convert');\n",
              "        buttonEl.style.display =\n",
              "          google.colab.kernel.accessAllowed ? 'block' : 'none';\n",
              "\n",
              "        async function convertToInteractive(key) {\n",
              "          const element = document.querySelector('#df-899e8f8e-026e-43ec-b036-0cbe29d9d32c');\n",
              "          const dataTable =\n",
              "            await google.colab.kernel.invokeFunction('convertToInteractive',\n",
              "                                                     [key], {});\n",
              "          if (!dataTable) return;\n",
              "\n",
              "          const docLinkHtml = 'Like what you see? Visit the ' +\n",
              "            '<a target=\"_blank\" href=https://colab.research.google.com/notebooks/data_table.ipynb>data table notebook</a>'\n",
              "            + ' to learn more about interactive tables.';\n",
              "          element.innerHTML = '';\n",
              "          dataTable['output_type'] = 'display_data';\n",
              "          await google.colab.output.renderOutput(dataTable, element);\n",
              "          const docLink = document.createElement('div');\n",
              "          docLink.innerHTML = docLinkHtml;\n",
              "          element.appendChild(docLink);\n",
              "        }\n",
              "      </script>\n",
              "    </div>\n",
              "  </div>\n",
              "  "
            ]
          },
          "metadata": {},
          "execution_count": 2
        }
      ]
    },
    {
      "cell_type": "code",
      "source": [
        "# Convert to a numpy array. \n",
        "Q1 = df1.to_numpy()\n",
        "Q1"
      ],
      "metadata": {
        "id": "aDbDJ257qg2N",
        "colab": {
          "base_uri": "https://localhost:8080/"
        },
        "outputId": "3ed418f3-81d8-40f4-b5e0-477ef43aaba0"
      },
      "execution_count": 3,
      "outputs": [
        {
          "output_type": "execute_result",
          "data": {
            "text/plain": [
              "array([[5.80000000e+01, 7.77690000e+04, 7.91328777e-01, 6.55982992e+03],\n",
              "       [5.90000000e+01, 8.17990000e+04, 7.91082047e-01, 5.41766143e+03],\n",
              "       [6.20000000e+01, 7.47510000e+04, 7.02656952e-01, 9.25899297e+03],\n",
              "       ...,\n",
              "       [9.00000000e+01, 3.52970000e+04, 3.55149019e-01, 1.60914020e+04],\n",
              "       [9.10000000e+01, 2.06810000e+04, 3.54679169e-01, 1.84010884e+04],\n",
              "       [8.90000000e+01, 3.02670000e+04, 2.89310066e-01, 1.43863519e+04]])"
            ]
          },
          "metadata": {},
          "execution_count": 3
        }
      ]
    },
    {
      "cell_type": "code",
      "source": [
        "Q1.shape"
      ],
      "metadata": {
        "colab": {
          "base_uri": "https://localhost:8080/"
        },
        "id": "zPJzZ6-Px9nH",
        "outputId": "82cffce7-a621-41d5-b960-48bd3292bdf4"
      },
      "execution_count": 4,
      "outputs": [
        {
          "output_type": "execute_result",
          "data": {
            "text/plain": [
              "(505, 4)"
            ]
          },
          "metadata": {},
          "execution_count": 4
        }
      ]
    },
    {
      "cell_type": "code",
      "source": [
        "# Before clustering let's standardize the data.\n",
        "from sklearn.preprocessing import StandardScaler\n",
        "scaler = StandardScaler()\n",
        "Q1 = scaler.fit_transform(Q1)"
      ],
      "metadata": {
        "id": "DfouZRrkqguI"
      },
      "execution_count": 5,
      "outputs": []
    },
    {
      "cell_type": "code",
      "source": [
        "np.set_printoptions(suppress=True) # supress the scientific notation. "
      ],
      "metadata": {
        "id": "oaZ2Mtc37Fkn"
      },
      "execution_count": 6,
      "outputs": []
    },
    {
      "cell_type": "code",
      "source": [
        "Q1 # everything got scaled with mean 0 and SD 1."
      ],
      "metadata": {
        "colab": {
          "base_uri": "https://localhost:8080/"
        },
        "id": "Rx3oBE_Hqgrf",
        "outputId": "32e64cc0-937a-4092-fcc2-1e20da30f33e"
      },
      "execution_count": 7,
      "outputs": [
        {
          "output_type": "execute_result",
          "data": {
            "text/plain": [
              "array([[-0.04228713,  0.06273305,  1.10359261, -1.07246676],\n",
              "       [-0.00082111,  0.17481053,  1.10264136, -1.30347264],\n",
              "       [ 0.12357696, -0.02119992,  0.76172738, -0.52655561],\n",
              "       ...,\n",
              "       [ 1.2846256 , -1.11844679, -0.57805422,  0.85531285],\n",
              "       [ 1.32609162, -1.52492929, -0.57986567,  1.32245159],\n",
              "       [ 1.24315958, -1.25833506, -0.83188962,  0.51046305]])"
            ]
          },
          "metadata": {},
          "execution_count": 7
        }
      ]
    },
    {
      "cell_type": "markdown",
      "source": [
        "**K-means**"
      ],
      "metadata": {
        "id": "mpDbEhX9ckIC"
      }
    },
    {
      "cell_type": "code",
      "source": [
        "# Fit using the Kmeans algorthm.\n",
        "from sklearn.cluster import KMeans\n",
        "k_means = KMeans(init = \"k-means++\", n_clusters=4, n_init=20, random_state=42)\n",
        "k_means.fit(Q1)"
      ],
      "metadata": {
        "colab": {
          "base_uri": "https://localhost:8080/"
        },
        "id": "4b2LY5oRqgo7",
        "outputId": "af659128-863f-40d2-aab4-8dd69ec82672"
      },
      "execution_count": 8,
      "outputs": [
        {
          "output_type": "execute_result",
          "data": {
            "text/plain": [
              "KMeans(n_clusters=4, n_init=20, random_state=42)"
            ]
          },
          "metadata": {},
          "execution_count": 8
        }
      ]
    },
    {
      "cell_type": "code",
      "source": [
        "k_means.labels_ # labels assigned per cluster since we declared only 4 clusters.  "
      ],
      "metadata": {
        "colab": {
          "base_uri": "https://localhost:8080/"
        },
        "id": "ihbVL6stqgnH",
        "outputId": "740ef742-b889-410b-f236-0db586e27ccd"
      },
      "execution_count": 9,
      "outputs": [
        {
          "output_type": "execute_result",
          "data": {
            "text/plain": [
              "array([1, 1, 1, 1, 2, 3, 1, 2, 2, 2, 0, 0, 0, 0, 1, 0, 1, 2, 2, 0, 0, 0,\n",
              "       1, 2, 0, 3, 3, 1, 2, 1, 1, 1, 2, 1, 0, 1, 2, 1, 0, 0, 1, 2, 3, 1,\n",
              "       1, 3, 0, 3, 0, 1, 2, 0, 3, 2, 1, 2, 0, 2, 2, 2, 2, 2, 2, 1, 1, 1,\n",
              "       2, 3, 3, 1, 1, 0, 2, 2, 0, 1, 0, 1, 1, 3, 1, 0, 1, 2, 2, 0, 0, 1,\n",
              "       1, 1, 1, 1, 3, 2, 1, 3, 0, 1, 1, 0, 0, 3, 0, 3, 0, 2, 2, 0, 0, 1,\n",
              "       2, 0, 1, 0, 0, 0, 1, 0, 3, 2, 0, 2, 2, 2, 0, 0, 1, 2, 1, 1, 0, 1,\n",
              "       0, 1, 3, 2, 0, 3, 1, 0, 2, 1, 1, 3, 1, 3, 1, 0, 1, 2, 1, 0, 2, 1,\n",
              "       2, 0, 0, 1, 2, 1, 0, 2, 1, 0, 2, 0, 2, 1, 0, 1, 2, 1, 0, 1, 2, 1,\n",
              "       1, 2, 2, 2, 1, 1, 0, 3, 3, 2, 0, 1, 1, 1, 0, 2, 1, 1, 1, 2, 3, 0,\n",
              "       2, 2, 2, 0, 1, 0, 1, 0, 1, 2, 3, 1, 2, 2, 2, 2, 1, 2, 0, 3, 0, 2,\n",
              "       1, 1, 0, 2, 0, 3, 0, 1, 1, 2, 1, 1, 2, 1, 1, 1, 0, 1, 0, 0, 3, 1,\n",
              "       1, 1, 0, 1, 0, 2, 3, 3, 3, 2, 1, 0, 2, 2, 0, 0, 1, 1, 0, 1, 1, 2,\n",
              "       1, 2, 0, 3, 1, 0, 2, 1, 2, 2, 0, 1, 2, 2, 1, 1, 2, 0, 0, 0, 0, 2,\n",
              "       2, 0, 0, 2, 2, 3, 1, 0, 0, 1, 0, 2, 2, 0, 1, 0, 2, 1, 0, 3, 1, 2,\n",
              "       0, 0, 2, 0, 0, 1, 2, 0, 1, 1, 2, 0, 2, 0, 2, 0, 2, 2, 0, 2, 0, 1,\n",
              "       0, 1, 1, 0, 0, 2, 2, 3, 3, 0, 2, 3, 2, 0, 1, 1, 1, 2, 2, 0, 0, 0,\n",
              "       0, 0, 1, 0, 3, 2, 1, 2, 3, 1, 2, 2, 1, 2, 0, 1, 0, 0, 0, 1, 2, 2,\n",
              "       2, 2, 2, 0, 0, 2, 1, 0, 1, 0, 2, 2, 1, 2, 2, 1, 2, 2, 0, 2, 1, 0,\n",
              "       3, 0, 1, 2, 0, 1, 1, 1, 2, 0, 3, 0, 1, 0, 1, 1, 3, 0, 0, 3, 0, 0,\n",
              "       2, 1, 2, 0, 2, 0, 1, 1, 2, 0, 0, 2, 0, 1, 1, 0, 1, 2, 1, 0, 1, 2,\n",
              "       1, 2, 3, 0, 0, 3, 0, 0, 2, 2, 1, 3, 1, 0, 0, 0, 3, 0, 3, 2, 0, 0,\n",
              "       1, 0, 2, 2, 3, 1, 0, 1, 1, 0, 1, 1, 1, 2, 0, 0, 1, 1, 1, 2, 0, 2,\n",
              "       2, 2, 2, 3, 2, 2, 2, 1, 1, 2, 2, 1, 3, 2, 0, 3, 0, 2, 2, 2, 2],\n",
              "      dtype=int32)"
            ]
          },
          "metadata": {},
          "execution_count": 9
        }
      ]
    },
    {
      "cell_type": "code",
      "source": [
        "# See the means of a clusters.\n",
        "k_means.cluster_centers_ # age, income, spending score, savings \n",
        "# However we need to bring them back since they were standardized. "
      ],
      "metadata": {
        "colab": {
          "base_uri": "https://localhost:8080/"
        },
        "id": "O8lzyWek3a-6",
        "outputId": "96264c30-37a2-48eb-8be4-ce0c403dd49d"
      },
      "execution_count": 10,
      "outputs": [
        {
          "output_type": "execute_result",
          "data": {
            "text/plain": [
              "array([[-0.72276928,  0.89502598, -0.90658925,  0.62188649],\n",
              "       [ 0.03879611, -0.08524639,  1.02721559, -1.00569483],\n",
              "       [ 1.19238486, -1.32510593, -0.67963841,  0.97016358],\n",
              "       [-1.44466803,  1.46050665,  1.51057952, -1.57249636]])"
            ]
          },
          "metadata": {},
          "execution_count": 10
        }
      ]
    },
    {
      "cell_type": "code",
      "source": [
        "scaler.inverse_transform(k_means.cluster_centers_)"
      ],
      "metadata": {
        "colab": {
          "base_uri": "https://localhost:8080/"
        },
        "id": "W2kvKKLGqgjl",
        "outputId": "5d2929a2-1f06-4d69-d763-c54bcf131b11"
      },
      "execution_count": 11,
      "outputs": [
        {
          "output_type": "execute_result",
          "data": {
            "text/plain": [
              "array([[    41.58940397, 107695.98013245,      0.26993473,\n",
              "         14937.26576915],\n",
              "       [    59.95541401,  72448.06369427,      0.77151837,\n",
              "          6889.97218996],\n",
              "       [    87.7755102 ,  27866.10204082,      0.32880046,\n",
              "         16659.26144519],\n",
              "       [    24.18      , 128029.12      ,      0.89689164,\n",
              "          4087.52030859]])"
            ]
          },
          "metadata": {},
          "execution_count": 11
        }
      ]
    },
    {
      "cell_type": "code",
      "source": [
        "# Check silhouette score to see the performance. \n",
        "from sklearn.metrics import silhouette_score, silhouette_samples\n",
        "silhouette_score(Q1, k_means.labels_)"
      ],
      "metadata": {
        "colab": {
          "base_uri": "https://localhost:8080/"
        },
        "id": "G-_3RUfgDvH7",
        "outputId": "5a0d953d-2bce-4bd9-8ad6-f29690c7aeb6"
      },
      "execution_count": 12,
      "outputs": [
        {
          "output_type": "execute_result",
          "data": {
            "text/plain": [
              "0.7581191889903789"
            ]
          },
          "metadata": {},
          "execution_count": 12
        }
      ]
    },
    {
      "cell_type": "markdown",
      "source": [
        "Let’s use the elbow method to see what the ideal number of clusters will be.  "
      ],
      "metadata": {
        "id": "S951D6FzZFDR"
      }
    },
    {
      "cell_type": "markdown",
      "source": [
        "**Elbow method**"
      ],
      "metadata": {
        "id": "x4_q0NbeZmZy"
      }
    },
    {
      "cell_type": "code",
      "source": [
        "wccs = []\n",
        "for i in range(2,8):\n",
        "  kmeans = KMeans(n_clusters = i, init = \"k-means++\")\n",
        "  kmeans.fit(Q1)\n",
        "  wccs.append(kmeans.inertia_)"
      ],
      "metadata": {
        "id": "PRYgkGPhptXH"
      },
      "execution_count": 13,
      "outputs": []
    },
    {
      "cell_type": "code",
      "source": [
        "wccs"
      ],
      "metadata": {
        "colab": {
          "base_uri": "https://localhost:8080/"
        },
        "id": "XTuK70vLptUW",
        "outputId": "b9e0683a-f61a-43ef-a1dc-b141ccfaece6"
      },
      "execution_count": 14,
      "outputs": [
        {
          "output_type": "execute_result",
          "data": {
            "text/plain": [
              "[1022.3905044613809,\n",
              " 384.811185930438,\n",
              " 189.7017879665956,\n",
              " 66.51111374859082,\n",
              " 61.131964002640714,\n",
              " 56.85031267367361]"
            ]
          },
          "metadata": {},
          "execution_count": 14
        }
      ]
    },
    {
      "cell_type": "code",
      "source": [
        "# Elbow chart\n",
        "import matplotlib.pyplot as plt\n",
        "plt.plot(range(2,8),wccs)\n",
        "plt.title('K-Means, Elbow Method')\n",
        "plt.xlabel(\"Number of clusters, K\");\n",
        "plt.ylabel(\"Inertia\");"
      ],
      "metadata": {
        "colab": {
          "base_uri": "https://localhost:8080/",
          "height": 295
        },
        "id": "X_Mjp6vXuVPd",
        "outputId": "2a122bbe-fc76-47fc-8594-21d5c9d4c035"
      },
      "execution_count": 15,
      "outputs": [
        {
          "output_type": "display_data",
          "data": {
            "text/plain": [
              "<Figure size 432x288 with 1 Axes>"
            ],
            "image/png": "[encoded data removed]"
          },
          "metadata": {
            "needs_background": "light"
          }
        }
      ]
    },
    {
      "cell_type": "code",
      "source": [
        "# Based on the elbow method we can see cluster 5 is better, let’s check the silhouette score.\n",
        "k_means1 = KMeans(init = \"k-means++\", n_clusters=5, n_init=20, random_state=42)\n",
        "e_kmeans = k_means1.fit(Q1)\n",
        "silhouette_score(Q1, e_kmeans.labels_)"
      ],
      "metadata": {
        "colab": {
          "base_uri": "https://localhost:8080/"
        },
        "id": "qMgXD0mvylQZ",
        "outputId": "26910db5-d78c-4ddf-c113-6f58f3ac7060"
      },
      "execution_count": 16,
      "outputs": [
        {
          "output_type": "execute_result",
          "data": {
            "text/plain": [
              "0.8048976287755765"
            ]
          },
          "metadata": {},
          "execution_count": 16
        }
      ]
    },
    {
      "cell_type": "code",
      "source": [
        "# Let's check if 5 is the magic number or would 6 perform better or worse on the silhouette score.\n",
        "k_means2 = KMeans(init = \"k-means++\", n_clusters=6, n_init=20, random_state=42)\n",
        "check_6 = k_means2.fit(Q1)\n",
        "silhouette_score(Q1, check_6.labels_)"
      ],
      "metadata": {
        "colab": {
          "base_uri": "https://localhost:8080/"
        },
        "id": "pcNIJcf9y9BW",
        "outputId": "745a367b-ca17-4a6d-9282-05dcbd005cde"
      },
      "execution_count": 17,
      "outputs": [
        {
          "output_type": "execute_result",
          "data": {
            "text/plain": [
              "0.6331809452561232"
            ]
          },
          "metadata": {},
          "execution_count": 17
        }
      ]
    },
    {
      "cell_type": "code",
      "source": [
        "# Yes 5 is the magic number.\n",
        "# Let's move forward with the prediction.\n",
        "y2 = e_kmeans.predict(Q1)\n",
        "y2"
      ],
      "metadata": {
        "id": "Tw-ljn5Xy9Lb",
        "colab": {
          "base_uri": "https://localhost:8080/"
        },
        "outputId": "d107fb93-7d2b-4a41-ea92-c11f3acd53b0"
      },
      "execution_count": 18,
      "outputs": [
        {
          "output_type": "execute_result",
          "data": {
            "text/plain": [
              "array([1, 1, 1, 1, 2, 3, 1, 2, 2, 2, 4, 0, 0, 0, 1, 4, 1, 2, 2, 4, 0, 4,\n",
              "       1, 2, 4, 3, 3, 1, 2, 1, 1, 1, 2, 1, 0, 1, 2, 1, 0, 0, 1, 2, 3, 1,\n",
              "       1, 3, 4, 3, 0, 1, 2, 0, 3, 2, 1, 2, 0, 2, 2, 2, 2, 2, 2, 1, 1, 1,\n",
              "       2, 3, 3, 1, 1, 0, 2, 2, 0, 1, 0, 1, 1, 3, 1, 4, 1, 2, 2, 0, 0, 1,\n",
              "       1, 1, 1, 1, 3, 2, 1, 3, 0, 1, 1, 0, 0, 3, 0, 3, 0, 2, 2, 0, 0, 1,\n",
              "       2, 0, 1, 0, 0, 0, 1, 0, 3, 2, 0, 2, 2, 2, 0, 4, 1, 2, 1, 1, 0, 1,\n",
              "       0, 1, 3, 2, 4, 3, 1, 0, 2, 1, 1, 3, 1, 3, 1, 4, 1, 2, 1, 0, 2, 1,\n",
              "       2, 4, 0, 1, 2, 1, 0, 2, 1, 0, 2, 0, 2, 1, 0, 1, 2, 1, 0, 1, 2, 1,\n",
              "       1, 2, 2, 2, 1, 1, 0, 3, 3, 2, 0, 1, 1, 1, 0, 2, 1, 1, 1, 2, 3, 0,\n",
              "       2, 2, 2, 0, 1, 0, 1, 0, 1, 2, 3, 1, 2, 2, 2, 2, 1, 2, 0, 3, 0, 2,\n",
              "       1, 1, 0, 2, 0, 3, 0, 1, 1, 2, 1, 1, 2, 1, 1, 1, 0, 1, 0, 0, 3, 1,\n",
              "       1, 1, 4, 1, 0, 2, 3, 3, 3, 2, 1, 0, 2, 2, 0, 0, 1, 1, 4, 1, 1, 2,\n",
              "       1, 2, 0, 3, 1, 0, 2, 1, 2, 2, 0, 1, 2, 2, 1, 1, 2, 0, 0, 4, 0, 2,\n",
              "       2, 0, 4, 2, 2, 3, 1, 0, 0, 1, 0, 2, 2, 0, 1, 0, 2, 1, 0, 3, 1, 2,\n",
              "       0, 0, 2, 4, 4, 1, 2, 0, 1, 1, 2, 0, 2, 0, 2, 0, 2, 2, 0, 2, 0, 1,\n",
              "       0, 1, 1, 0, 0, 2, 2, 3, 3, 0, 2, 3, 2, 4, 1, 1, 1, 2, 2, 0, 0, 4,\n",
              "       0, 4, 1, 0, 3, 2, 1, 2, 3, 1, 2, 2, 1, 2, 0, 1, 4, 0, 0, 1, 2, 2,\n",
              "       2, 2, 2, 0, 0, 2, 1, 0, 1, 4, 2, 2, 1, 2, 2, 1, 2, 2, 0, 2, 1, 0,\n",
              "       3, 0, 1, 2, 0, 1, 1, 1, 2, 0, 3, 0, 1, 0, 1, 1, 3, 0, 4, 3, 0, 0,\n",
              "       2, 1, 2, 0, 2, 0, 1, 1, 2, 4, 0, 2, 0, 1, 1, 0, 1, 2, 1, 0, 1, 2,\n",
              "       1, 2, 3, 0, 0, 3, 0, 0, 2, 2, 1, 3, 1, 0, 0, 4, 3, 0, 3, 2, 0, 0,\n",
              "       1, 0, 2, 2, 3, 1, 0, 1, 1, 0, 1, 1, 1, 2, 0, 0, 1, 1, 1, 2, 0, 2,\n",
              "       2, 2, 2, 3, 2, 2, 2, 1, 1, 2, 2, 1, 3, 2, 0, 3, 0, 2, 2, 2, 2],\n",
              "      dtype=int32)"
            ]
          },
          "metadata": {},
          "execution_count": 18
        }
      ]
    },
    {
      "cell_type": "code",
      "source": [
        "y3 = e_kmeans.cluster_centers_\n",
        "y3"
      ],
      "metadata": {
        "colab": {
          "base_uri": "https://localhost:8080/"
        },
        "id": "VB_mKcXmy9Gd",
        "outputId": "ec2dcb1e-dfcc-453e-f175-b560c373d083"
      },
      "execution_count": 19,
      "outputs": [
        {
          "output_type": "execute_result",
          "data": {
            "text/plain": [
              "array([[-1.08815238,  0.82744102, -0.75240648,  0.6270464 ],\n",
              "       [ 0.03879611, -0.08524639,  1.02721559, -1.00569483],\n",
              "       [ 1.19238486, -1.32510593, -0.67963841,  0.97016358],\n",
              "       [-1.44466803,  1.46050665,  1.51057952, -1.57249636],\n",
              "       [ 1.11876151,  1.23565419, -1.68367042,  0.59588052]])"
            ]
          },
          "metadata": {},
          "execution_count": 19
        }
      ]
    },
    {
      "cell_type": "code",
      "source": [
        "scaler.inverse_transform(y3)"
      ],
      "metadata": {
        "colab": {
          "base_uri": "https://localhost:8080/"
        },
        "id": "-0kVXaqJ3bqH",
        "outputId": "be5f6429-1222-43e8-9485-1e7c6ab40f63"
      },
      "execution_count": 20,
      "outputs": [
        {
          "output_type": "execute_result",
          "data": {
            "text/plain": [
              "array([[    32.77777778, 105265.80952381,      0.30992613,\n",
              "         14962.77806603],\n",
              "       [    59.95541401,  72448.06369427,      0.77151837,\n",
              "          6889.97218996],\n",
              "       [    87.7755102 ,  27866.10204082,      0.32880046,\n",
              "         16659.26144519],\n",
              "       [    24.18      , 128029.12      ,      0.89689164,\n",
              "          4087.52030859],\n",
              "       [    86.        , 119944.04      ,      0.0683781 ,\n",
              "         14808.68379288]])"
            ]
          },
          "metadata": {},
          "execution_count": 20
        }
      ]
    },
    {
      "cell_type": "code",
      "source": [
        "# Add clusters to the dataframe. \n",
        "df_ks = df1.copy()\n",
        "df_ks['Cluster ID'] = y2\n",
        "df_ks"
      ],
      "metadata": {
        "id": "er_m9R4fzy5Y",
        "colab": {
          "base_uri": "https://localhost:8080/",
          "height": 424
        },
        "outputId": "3a08d36d-1e9c-4164-e6c3-96247d13178e"
      },
      "execution_count": 21,
      "outputs": [
        {
          "output_type": "execute_result",
          "data": {
            "text/plain": [
              "     Age  Income  SpendingScore       Savings  Cluster ID\n",
              "0     58   77769       0.791329   6559.829923           1\n",
              "1     59   81799       0.791082   5417.661426           1\n",
              "2     62   74751       0.702657   9258.992965           1\n",
              "3     59   74373       0.765680   7346.334504           1\n",
              "4     87   17760       0.348778  16869.507130           2\n",
              "..   ...     ...            ...           ...         ...\n",
              "500   28  101206       0.387441  14936.775389           0\n",
              "501   93   19934       0.203140  17969.693769           2\n",
              "502   90   35297       0.355149  16091.401954           2\n",
              "503   91   20681       0.354679  18401.088445           2\n",
              "504   89   30267       0.289310  14386.351880           2\n",
              "\n",
              "[505 rows x 5 columns]"
            ],
            "text/html": [
              "\n",
              "  <div id=\"df-7f9309eb-664b-40b4-8f91-046e5c8d4870\">\n",
              "    <div class=\"colab-df-container\">\n",
              "      <div>\n",
              "<style scoped>\n",
              "    .dataframe tbody tr th:only-of-type {\n",
              "        vertical-align: middle;\n",
              "    }\n",
              "\n",
              "    .dataframe tbody tr th {\n",
              "        vertical-align: top;\n",
              "    }\n",
              "\n",
              "    .dataframe thead th {\n",
              "        text-align: right;\n",
              "    }\n",
              "</style>\n",
              "<table border=\"1\" class=\"dataframe\">\n",
              "  <thead>\n",
              "    <tr style=\"text-align: right;\">\n",
              "      <th></th>\n",
              "      <th>Age</th>\n",
              "      <th>Income</th>\n",
              "      <th>SpendingScore</th>\n",
              "      <th>Savings</th>\n",
              "      <th>Cluster ID</th>\n",
              "    </tr>\n",
              "  </thead>\n",
              "  <tbody>\n",
              "    <tr>\n",
              "      <th>0</th>\n",
              "      <td>58</td>\n",
              "      <td>77769</td>\n",
              "      <td>0.791329</td>\n",
              "      <td>6559.829923</td>\n",
              "      <td>1</td>\n",
              "    </tr>\n",
              "    <tr>\n",
              "      <th>1</th>\n",
              "      <td>59</td>\n",
              "      <td>81799</td>\n",
              "      <td>0.791082</td>\n",
              "      <td>5417.661426</td>\n",
              "      <td>1</td>\n",
              "    </tr>\n",
              "    <tr>\n",
              "      <th>2</th>\n",
              "      <td>62</td>\n",
              "      <td>74751</td>\n",
              "      <td>0.702657</td>\n",
              "      <td>9258.992965</td>\n",
              "      <td>1</td>\n",
              "    </tr>\n",
              "    <tr>\n",
              "      <th>3</th>\n",
              "      <td>59</td>\n",
              "      <td>74373</td>\n",
              "      <td>0.765680</td>\n",
              "      <td>7346.334504</td>\n",
              "      <td>1</td>\n",
              "    </tr>\n",
              "    <tr>\n",
              "      <th>4</th>\n",
              "      <td>87</td>\n",
              "      <td>17760</td>\n",
              "      <td>0.348778</td>\n",
              "      <td>16869.507130</td>\n",
              "      <td>2</td>\n",
              "    </tr>\n",
              "    <tr>\n",
              "      <th>...</th>\n",
              "      <td>...</td>\n",
              "      <td>...</td>\n",
              "      <td>...</td>\n",
              "      <td>...</td>\n",
              "      <td>...</td>\n",
              "    </tr>\n",
              "    <tr>\n",
              "      <th>500</th>\n",
              "      <td>28</td>\n",
              "      <td>101206</td>\n",
              "      <td>0.387441</td>\n",
              "      <td>14936.775389</td>\n",
              "      <td>0</td>\n",
              "    </tr>\n",
              "    <tr>\n",
              "      <th>501</th>\n",
              "      <td>93</td>\n",
              "      <td>19934</td>\n",
              "      <td>0.203140</td>\n",
              "      <td>17969.693769</td>\n",
              "      <td>2</td>\n",
              "    </tr>\n",
              "    <tr>\n",
              "      <th>502</th>\n",
              "      <td>90</td>\n",
              "      <td>35297</td>\n",
              "      <td>0.355149</td>\n",
              "      <td>16091.401954</td>\n",
              "      <td>2</td>\n",
              "    </tr>\n",
              "    <tr>\n",
              "      <th>503</th>\n",
              "      <td>91</td>\n",
              "      <td>20681</td>\n",
              "      <td>0.354679</td>\n",
              "      <td>18401.088445</td>\n",
              "      <td>2</td>\n",
              "    </tr>\n",
              "    <tr>\n",
              "      <th>504</th>\n",
              "      <td>89</td>\n",
              "      <td>30267</td>\n",
              "      <td>0.289310</td>\n",
              "      <td>14386.351880</td>\n",
              "      <td>2</td>\n",
              "    </tr>\n",
              "  </tbody>\n",
              "</table>\n",
              "<p>505 rows × 5 columns</p>\n",
              "</div>\n",
              "      <button class=\"colab-df-convert\" onclick=\"convertToInteractive('df-7f9309eb-664b-40b4-8f91-046e5c8d4870')\"\n",
              "              title=\"Convert this dataframe to an interactive table.\"\n",
              "              style=\"display:none;\">\n",
              "        \n",
              "  <svg xmlns=\"http://www.w3.org/2000/svg\" height=\"24px\"viewBox=\"0 0 24 24\"\n",
              "       width=\"24px\">\n",
              "    <path d=\"M0 0h24v24H0V0z\" fill=\"none\"/>\n",
              "    <path d=\"M18.56 5.44l.94 2.06.94-2.06 2.06-.94-2.06-.94-.94-2.06-.94 2.06-2.06.94zm-11 1L8.5 8.5l.94-2.06 2.06-.94-2.06-.94L8.5 2.5l-.94 2.06-2.06.94zm10 10l.94 2.06.94-2.06 2.06-.94-2.06-.94-.94-2.06-.94 2.06-2.06.94z\"/><path d=\"M17.41 7.96l-1.37-1.37c-.4-.4-.92-.59-1.43-.59-.52 0-1.04.2-1.43.59L10.3 9.45l-7.72 7.72c-.78.78-.78 2.05 0 2.83L4 21.41c.39.39.9.59 1.41.59.51 0 1.02-.2 1.41-.59l7.78-7.78 2.81-2.81c.8-.78.8-2.07 0-2.86zM5.41 20L4 18.59l7.72-7.72 1.47 1.35L5.41 20z\"/>\n",
              "  </svg>\n",
              "      </button>\n",
              "      \n",
              "  <style>\n",
              "    .colab-df-container {\n",
              "      display:flex;\n",
              "      flex-wrap:wrap;\n",
              "      gap: 12px;\n",
              "    }\n",
              "\n",
              "    .colab-df-convert {\n",
              "      background-color: #E8F0FE;\n",
              "      border: none;\n",
              "      border-radius: 50%;\n",
              "      cursor: pointer;\n",
              "      display: none;\n",
              "      fill: #1967D2;\n",
              "      height: 32px;\n",
              "      padding: 0 0 0 0;\n",
              "      width: 32px;\n",
              "    }\n",
              "\n",
              "    .colab-df-convert:hover {\n",
              "      background-color: #E2EBFA;\n",
              "      box-shadow: 0px 1px 2px rgba(60, 64, 67, 0.3), 0px 1px 3px 1px rgba(60, 64, 67, 0.15);\n",
              "      fill: #174EA6;\n",
              "    }\n",
              "\n",
              "    [theme=dark] .colab-df-convert {\n",
              "      background-color: #3B4455;\n",
              "      fill: #D2E3FC;\n",
              "    }\n",
              "\n",
              "    [theme=dark] .colab-df-convert:hover {\n",
              "      background-color: #434B5C;\n",
              "      box-shadow: 0px 1px 3px 1px rgba(0, 0, 0, 0.15);\n",
              "      filter: drop-shadow(0px 1px 2px rgba(0, 0, 0, 0.3));\n",
              "      fill: #FFFFFF;\n",
              "    }\n",
              "  </style>\n",
              "\n",
              "      <script>\n",
              "        const buttonEl =\n",
              "          document.querySelector('#df-7f9309eb-664b-40b4-8f91-046e5c8d4870 button.colab-df-convert');\n",
              "        buttonEl.style.display =\n",
              "          google.colab.kernel.accessAllowed ? 'block' : 'none';\n",
              "\n",
              "        async function convertToInteractive(key) {\n",
              "          const element = document.querySelector('#df-7f9309eb-664b-40b4-8f91-046e5c8d4870');\n",
              "          const dataTable =\n",
              "            await google.colab.kernel.invokeFunction('convertToInteractive',\n",
              "                                                     [key], {});\n",
              "          if (!dataTable) return;\n",
              "\n",
              "          const docLinkHtml = 'Like what you see? Visit the ' +\n",
              "            '<a target=\"_blank\" href=https://colab.research.google.com/notebooks/data_table.ipynb>data table notebook</a>'\n",
              "            + ' to learn more about interactive tables.';\n",
              "          element.innerHTML = '';\n",
              "          dataTable['output_type'] = 'display_data';\n",
              "          await google.colab.output.renderOutput(dataTable, element);\n",
              "          const docLink = document.createElement('div');\n",
              "          docLink.innerHTML = docLinkHtml;\n",
              "          element.appendChild(docLink);\n",
              "        }\n",
              "      </script>\n",
              "    </div>\n",
              "  </div>\n",
              "  "
            ]
          },
          "metadata": {},
          "execution_count": 21
        }
      ]
    },
    {
      "cell_type": "markdown",
      "metadata": {
        "id": "ihVtYBWg1NM6"
      },
      "source": [
        "## 1.2: Clustering Algorithm #2"
      ]
    },
    {
      "cell_type": "markdown",
      "source": [
        "**Hierarchical**"
      ],
      "metadata": {
        "id": "ntbrjxh_brdd"
      }
    },
    {
      "cell_type": "code",
      "source": [
        "from scipy.cluster.hierarchy import linkage\n",
        "from scipy.cluster.hierarchy import dendrogram\n",
        "h = linkage(Q1, method = 'ward', metric = 'euclidean')"
      ],
      "metadata": {
        "id": "eMsHRLkh8wlC"
      },
      "execution_count": 22,
      "outputs": []
    },
    {
      "cell_type": "code",
      "source": [
        "plt.figure(figsize=(20,8))\n",
        "dendrogram(h);"
      ],
      "metadata": {
        "colab": {
          "base_uri": "https://localhost:8080/",
          "height": 482
        },
        "id": "SUG1SomV9GBQ",
        "outputId": "31796698-6763-4dd3-c2e6-7b0a173c5b0f"
      },
      "execution_count": 23,
      "outputs": [
        {
          "output_type": "display_data",
          "data": {
            "text/plain": [
              "<Figure size 1440x576 with 1 Axes>"
            ],
            "image/png": "[encoded data removed]"
          },
          "metadata": {
            "needs_background": "light"
          }
        }
      ]
    },
    {
      "cell_type": "code",
      "source": [
        "# hyperparameter tuning\n",
        "from sklearn.cluster import AgglomerativeClustering\n",
        "def sil_score(clus,affiy):\n",
        "  if affiy == 'euclidean':\n",
        "    model = AgglomerativeClustering(n_clusters= clus, affinity= affiy, linkage='ward')\n",
        "    model = model.fit_predict(Q1)\n",
        "    print(f'Ward score:',silhouette_score(Q1,model))\n",
        "    model = AgglomerativeClustering(n_clusters= clus, affinity= affiy, linkage='average')\n",
        "    model = model.fit_predict(Q1)\n",
        "    print(f'Average score:',silhouette_score(Q1,model))\n",
        "    model = AgglomerativeClustering(n_clusters= clus, affinity= affiy, linkage='complete')\n",
        "    model = model.fit_predict(Q1)\n",
        "    print(f'Complete score:',silhouette_score(Q1,model))\n",
        "    model = AgglomerativeClustering(n_clusters= clus, affinity= affiy, linkage='single')\n",
        "    model = model.fit_predict(Q1)\n",
        "    print(f'Sinlge score:',silhouette_score(Q1,model))\n",
        "  elif affiy != 'euclidean':\n",
        "    model = AgglomerativeClustering(n_clusters= clus, affinity= affiy, linkage='average')\n",
        "    model = model.fit_predict(Q1)\n",
        "    print(f'Average score:',silhouette_score(Q1,model))\n",
        "    model = AgglomerativeClustering(n_clusters= clus, affinity= affiy, linkage='complete')\n",
        "    model = model.fit_predict(Q1)\n",
        "    print(f'Complete score:',silhouette_score(Q1,model))\n",
        "    model = AgglomerativeClustering(n_clusters= clus, affinity= affiy, linkage='single')\n",
        "    model = model.fit_predict(Q1)\n",
        "    print(f'Sinlge score:',silhouette_score(Q1,model))"
      ],
      "metadata": {
        "id": "UfKlWloyBS2S"
      },
      "execution_count": 24,
      "outputs": []
    },
    {
      "cell_type": "code",
      "source": [
        "sil_score(4,'euclidean')"
      ],
      "metadata": {
        "colab": {
          "base_uri": "https://localhost:8080/"
        },
        "id": "-E3jXxcyMZzn",
        "outputId": "ac194ef0-823d-41c5-9fc5-670a0b2df43e"
      },
      "execution_count": 25,
      "outputs": [
        {
          "output_type": "stream",
          "name": "stdout",
          "text": [
            "Ward score: 0.7581191889903789\n",
            "Average score: 0.7325442796658956\n",
            "Complete score: 0.7581191889903789\n",
            "Sinlge score: 0.7325442796658956\n"
          ]
        }
      ]
    },
    {
      "cell_type": "code",
      "source": [
        "sil_score(5,'euclidean')"
      ],
      "metadata": {
        "colab": {
          "base_uri": "https://localhost:8080/"
        },
        "id": "q7xxg3hbWPUX",
        "outputId": "f8f997d3-54bc-42fe-cb35-1e53698478ff"
      },
      "execution_count": 26,
      "outputs": [
        {
          "output_type": "stream",
          "name": "stdout",
          "text": [
            "Ward score: 0.8048976287755765\n",
            "Average score: 0.8048976287755765\n",
            "Complete score: 0.8048976287755765\n",
            "Sinlge score: 0.8048976287755765\n"
          ]
        }
      ]
    },
    {
      "cell_type": "code",
      "source": [
        "sil_score(6,'euclidean')"
      ],
      "metadata": {
        "colab": {
          "base_uri": "https://localhost:8080/"
        },
        "id": "GPyyq6jzWS0c",
        "outputId": "c861115a-8cb8-4fd9-b2b6-56fd09a5d158"
      },
      "execution_count": 27,
      "outputs": [
        {
          "output_type": "stream",
          "name": "stdout",
          "text": [
            "Ward score: 0.6277445976689177\n",
            "Average score: 0.772038481736425\n",
            "Complete score: 0.6296260843155621\n",
            "Sinlge score: 0.6766520025179419\n"
          ]
        }
      ]
    },
    {
      "cell_type": "code",
      "source": [
        "sil_score(4,'manhattan')"
      ],
      "metadata": {
        "colab": {
          "base_uri": "https://localhost:8080/"
        },
        "id": "x1tjFsDlWSxy",
        "outputId": "66acce16-2f07-4f1b-e39b-51ad68e35626"
      },
      "execution_count": 28,
      "outputs": [
        {
          "output_type": "stream",
          "name": "stdout",
          "text": [
            "Average score: 0.7581191889903789\n",
            "Complete score: 0.7581191889903789\n",
            "Sinlge score: 0.7325442796658956\n"
          ]
        }
      ]
    },
    {
      "cell_type": "code",
      "source": [
        "sil_score(5,'manhattan')"
      ],
      "metadata": {
        "colab": {
          "base_uri": "https://localhost:8080/"
        },
        "id": "8ZWAWyOmWSrj",
        "outputId": "abe9ae37-2508-45c7-f5dc-d22396abe7fd"
      },
      "execution_count": 29,
      "outputs": [
        {
          "output_type": "stream",
          "name": "stdout",
          "text": [
            "Average score: 0.8048976287755765\n",
            "Complete score: 0.8048976287755765\n",
            "Sinlge score: 0.8048976287755765\n"
          ]
        }
      ]
    },
    {
      "cell_type": "code",
      "source": [
        "sil_score(6,'manhattan')"
      ],
      "metadata": {
        "colab": {
          "base_uri": "https://localhost:8080/"
        },
        "id": "e-p8laSqXDlH",
        "outputId": "0e7b7c82-2d6e-4e00-dc9c-517507c99960"
      },
      "execution_count": 30,
      "outputs": [
        {
          "output_type": "stream",
          "name": "stdout",
          "text": [
            "Average score: 0.772038481736425\n",
            "Complete score: 0.7451279051313525\n",
            "Sinlge score: 0.6766520025179419\n"
          ]
        }
      ]
    },
    {
      "cell_type": "code",
      "source": [
        "sil_score(4,'cosine')"
      ],
      "metadata": {
        "colab": {
          "base_uri": "https://localhost:8080/"
        },
        "id": "TbxhZ5i9MZwr",
        "outputId": "cbf84c9e-812e-45bb-e377-4d270db63ef7"
      },
      "execution_count": 31,
      "outputs": [
        {
          "output_type": "stream",
          "name": "stdout",
          "text": [
            "Average score: 0.7325442796658956\n",
            "Complete score: 0.7325442796658956\n",
            "Sinlge score: 0.7325442796658956\n"
          ]
        }
      ]
    },
    {
      "cell_type": "code",
      "source": [
        "sil_score(5,'cosine')"
      ],
      "metadata": {
        "colab": {
          "base_uri": "https://localhost:8080/"
        },
        "id": "nTNqlV4rXIbC",
        "outputId": "c60d77f5-a6a3-4215-a66e-db6e1afd8ffb"
      },
      "execution_count": 32,
      "outputs": [
        {
          "output_type": "stream",
          "name": "stdout",
          "text": [
            "Average score: 0.8048976287755765\n",
            "Complete score: 0.8048976287755765\n",
            "Sinlge score: 0.8048976287755765\n"
          ]
        }
      ]
    },
    {
      "cell_type": "code",
      "source": [
        "sil_score(6,'cosine')"
      ],
      "metadata": {
        "colab": {
          "base_uri": "https://localhost:8080/"
        },
        "id": "toShbZpYXIYC",
        "outputId": "167d26d1-5e19-47e7-c4ee-795e07a2ba03"
      },
      "execution_count": 33,
      "outputs": [
        {
          "output_type": "stream",
          "name": "stdout",
          "text": [
            "Average score: 0.6706884473286785\n",
            "Complete score: 0.6142189070572904\n",
            "Sinlge score: 0.6766520025179419\n"
          ]
        }
      ]
    },
    {
      "cell_type": "markdown",
      "source": [
        "Based on the above results 5 is once again the magic number and the distance metric and linkage changes don't matter that much. "
      ],
      "metadata": {
        "id": "00z8ntpXeXjh"
      }
    },
    {
      "cell_type": "code",
      "source": [
        "import scipy.cluster\n",
        "aggl = scipy.cluster.hierarchy.linkage(Q1, method='ward', metric='euclidean')"
      ],
      "metadata": {
        "id": "kdbS--XxP3yd"
      },
      "execution_count": 34,
      "outputs": []
    },
    {
      "cell_type": "code",
      "source": [
        "K = 5\n",
        "labels = scipy.cluster.hierarchy.fcluster(aggl, K, criterion=\"maxclust\")"
      ],
      "metadata": {
        "id": "Zz4icdW-ZOlQ"
      },
      "execution_count": 35,
      "outputs": []
    },
    {
      "cell_type": "code",
      "source": [
        "df1['Cluster ID'] = labels\n",
        "df1"
      ],
      "metadata": {
        "colab": {
          "base_uri": "https://localhost:8080/",
          "height": 424
        },
        "id": "KB2rAsgNXTxv",
        "outputId": "2b9b395f-722c-4243-ba56-9aae1e255055"
      },
      "execution_count": 36,
      "outputs": [
        {
          "output_type": "execute_result",
          "data": {
            "text/plain": [
              "     Age  Income  SpendingScore       Savings  Cluster ID\n",
              "0     58   77769       0.791329   6559.829923           2\n",
              "1     59   81799       0.791082   5417.661426           2\n",
              "2     62   74751       0.702657   9258.992965           2\n",
              "3     59   74373       0.765680   7346.334504           2\n",
              "4     87   17760       0.348778  16869.507130           3\n",
              "..   ...     ...            ...           ...         ...\n",
              "500   28  101206       0.387441  14936.775389           5\n",
              "501   93   19934       0.203140  17969.693769           3\n",
              "502   90   35297       0.355149  16091.401954           3\n",
              "503   91   20681       0.354679  18401.088445           3\n",
              "504   89   30267       0.289310  14386.351880           3\n",
              "\n",
              "[505 rows x 5 columns]"
            ],
            "text/html": [
              "\n",
              "  <div id=\"df-ba0dd9a0-f32f-4ae9-bfbf-306ae6af8dbd\">\n",
              "    <div class=\"colab-df-container\">\n",
              "      <div>\n",
              "<style scoped>\n",
              "    .dataframe tbody tr th:only-of-type {\n",
              "        vertical-align: middle;\n",
              "    }\n",
              "\n",
              "    .dataframe tbody tr th {\n",
              "        vertical-align: top;\n",
              "    }\n",
              "\n",
              "    .dataframe thead th {\n",
              "        text-align: right;\n",
              "    }\n",
              "</style>\n",
              "<table border=\"1\" class=\"dataframe\">\n",
              "  <thead>\n",
              "    <tr style=\"text-align: right;\">\n",
              "      <th></th>\n",
              "      <th>Age</th>\n",
              "      <th>Income</th>\n",
              "      <th>SpendingScore</th>\n",
              "      <th>Savings</th>\n",
              "      <th>Cluster ID</th>\n",
              "    </tr>\n",
              "  </thead>\n",
              "  <tbody>\n",
              "    <tr>\n",
              "      <th>0</th>\n",
              "      <td>58</td>\n",
              "      <td>77769</td>\n",
              "      <td>0.791329</td>\n",
              "      <td>6559.829923</td>\n",
              "      <td>2</td>\n",
              "    </tr>\n",
              "    <tr>\n",
              "      <th>1</th>\n",
              "      <td>59</td>\n",
              "      <td>81799</td>\n",
              "      <td>0.791082</td>\n",
              "      <td>5417.661426</td>\n",
              "      <td>2</td>\n",
              "    </tr>\n",
              "    <tr>\n",
              "      <th>2</th>\n",
              "      <td>62</td>\n",
              "      <td>74751</td>\n",
              "      <td>0.702657</td>\n",
              "      <td>9258.992965</td>\n",
              "      <td>2</td>\n",
              "    </tr>\n",
              "    <tr>\n",
              "      <th>3</th>\n",
              "      <td>59</td>\n",
              "      <td>74373</td>\n",
              "      <td>0.765680</td>\n",
              "      <td>7346.334504</td>\n",
              "      <td>2</td>\n",
              "    </tr>\n",
              "    <tr>\n",
              "      <th>4</th>\n",
              "      <td>87</td>\n",
              "      <td>17760</td>\n",
              "      <td>0.348778</td>\n",
              "      <td>16869.507130</td>\n",
              "      <td>3</td>\n",
              "    </tr>\n",
              "    <tr>\n",
              "      <th>...</th>\n",
              "      <td>...</td>\n",
              "      <td>...</td>\n",
              "      <td>...</td>\n",
              "      <td>...</td>\n",
              "      <td>...</td>\n",
              "    </tr>\n",
              "    <tr>\n",
              "      <th>500</th>\n",
              "      <td>28</td>\n",
              "      <td>101206</td>\n",
              "      <td>0.387441</td>\n",
              "      <td>14936.775389</td>\n",
              "      <td>5</td>\n",
              "    </tr>\n",
              "    <tr>\n",
              "      <th>501</th>\n",
              "      <td>93</td>\n",
              "      <td>19934</td>\n",
              "      <td>0.203140</td>\n",
              "      <td>17969.693769</td>\n",
              "      <td>3</td>\n",
              "    </tr>\n",
              "    <tr>\n",
              "      <th>502</th>\n",
              "      <td>90</td>\n",
              "      <td>35297</td>\n",
              "      <td>0.355149</td>\n",
              "      <td>16091.401954</td>\n",
              "      <td>3</td>\n",
              "    </tr>\n",
              "    <tr>\n",
              "      <th>503</th>\n",
              "      <td>91</td>\n",
              "      <td>20681</td>\n",
              "      <td>0.354679</td>\n",
              "      <td>18401.088445</td>\n",
              "      <td>3</td>\n",
              "    </tr>\n",
              "    <tr>\n",
              "      <th>504</th>\n",
              "      <td>89</td>\n",
              "      <td>30267</td>\n",
              "      <td>0.289310</td>\n",
              "      <td>14386.351880</td>\n",
              "      <td>3</td>\n",
              "    </tr>\n",
              "  </tbody>\n",
              "</table>\n",
              "<p>505 rows × 5 columns</p>\n",
              "</div>\n",
              "      <button class=\"colab-df-convert\" onclick=\"convertToInteractive('df-ba0dd9a0-f32f-4ae9-bfbf-306ae6af8dbd')\"\n",
              "              title=\"Convert this dataframe to an interactive table.\"\n",
              "              style=\"display:none;\">\n",
              "        \n",
              "  <svg xmlns=\"http://www.w3.org/2000/svg\" height=\"24px\"viewBox=\"0 0 24 24\"\n",
              "       width=\"24px\">\n",
              "    <path d=\"M0 0h24v24H0V0z\" fill=\"none\"/>\n",
              "    <path d=\"M18.56 5.44l.94 2.06.94-2.06 2.06-.94-2.06-.94-.94-2.06-.94 2.06-2.06.94zm-11 1L8.5 8.5l.94-2.06 2.06-.94-2.06-.94L8.5 2.5l-.94 2.06-2.06.94zm10 10l.94 2.06.94-2.06 2.06-.94-2.06-.94-.94-2.06-.94 2.06-2.06.94z\"/><path d=\"M17.41 7.96l-1.37-1.37c-.4-.4-.92-.59-1.43-.59-.52 0-1.04.2-1.43.59L10.3 9.45l-7.72 7.72c-.78.78-.78 2.05 0 2.83L4 21.41c.39.39.9.59 1.41.59.51 0 1.02-.2 1.41-.59l7.78-7.78 2.81-2.81c.8-.78.8-2.07 0-2.86zM5.41 20L4 18.59l7.72-7.72 1.47 1.35L5.41 20z\"/>\n",
              "  </svg>\n",
              "      </button>\n",
              "      \n",
              "  <style>\n",
              "    .colab-df-container {\n",
              "      display:flex;\n",
              "      flex-wrap:wrap;\n",
              "      gap: 12px;\n",
              "    }\n",
              "\n",
              "    .colab-df-convert {\n",
              "      background-color: #E8F0FE;\n",
              "      border: none;\n",
              "      border-radius: 50%;\n",
              "      cursor: pointer;\n",
              "      display: none;\n",
              "      fill: #1967D2;\n",
              "      height: 32px;\n",
              "      padding: 0 0 0 0;\n",
              "      width: 32px;\n",
              "    }\n",
              "\n",
              "    .colab-df-convert:hover {\n",
              "      background-color: #E2EBFA;\n",
              "      box-shadow: 0px 1px 2px rgba(60, 64, 67, 0.3), 0px 1px 3px 1px rgba(60, 64, 67, 0.15);\n",
              "      fill: #174EA6;\n",
              "    }\n",
              "\n",
              "    [theme=dark] .colab-df-convert {\n",
              "      background-color: #3B4455;\n",
              "      fill: #D2E3FC;\n",
              "    }\n",
              "\n",
              "    [theme=dark] .colab-df-convert:hover {\n",
              "      background-color: #434B5C;\n",
              "      box-shadow: 0px 1px 3px 1px rgba(0, 0, 0, 0.15);\n",
              "      filter: drop-shadow(0px 1px 2px rgba(0, 0, 0, 0.3));\n",
              "      fill: #FFFFFF;\n",
              "    }\n",
              "  </style>\n",
              "\n",
              "      <script>\n",
              "        const buttonEl =\n",
              "          document.querySelector('#df-ba0dd9a0-f32f-4ae9-bfbf-306ae6af8dbd button.colab-df-convert');\n",
              "        buttonEl.style.display =\n",
              "          google.colab.kernel.accessAllowed ? 'block' : 'none';\n",
              "\n",
              "        async function convertToInteractive(key) {\n",
              "          const element = document.querySelector('#df-ba0dd9a0-f32f-4ae9-bfbf-306ae6af8dbd');\n",
              "          const dataTable =\n",
              "            await google.colab.kernel.invokeFunction('convertToInteractive',\n",
              "                                                     [key], {});\n",
              "          if (!dataTable) return;\n",
              "\n",
              "          const docLinkHtml = 'Like what you see? Visit the ' +\n",
              "            '<a target=\"_blank\" href=https://colab.research.google.com/notebooks/data_table.ipynb>data table notebook</a>'\n",
              "            + ' to learn more about interactive tables.';\n",
              "          element.innerHTML = '';\n",
              "          dataTable['output_type'] = 'display_data';\n",
              "          await google.colab.output.renderOutput(dataTable, element);\n",
              "          const docLink = document.createElement('div');\n",
              "          docLink.innerHTML = docLinkHtml;\n",
              "          element.appendChild(docLink);\n",
              "        }\n",
              "      </script>\n",
              "    </div>\n",
              "  </div>\n",
              "  "
            ]
          },
          "metadata": {},
          "execution_count": 36
        }
      ]
    },
    {
      "cell_type": "code",
      "source": [
        "df2 = df1.drop(['Cluster ID'], axis = 1)\n",
        "col_names = df2.columns\n",
        "df2.columns"
      ],
      "metadata": {
        "colab": {
          "base_uri": "https://localhost:8080/"
        },
        "id": "C1Ecc2aYbmko",
        "outputId": "6a6ceda5-130a-4873-e2a7-fe6317e65e65"
      },
      "execution_count": 37,
      "outputs": [
        {
          "output_type": "execute_result",
          "data": {
            "text/plain": [
              "Index(['Age', 'Income', 'SpendingScore', 'Savings'], dtype='object')"
            ]
          },
          "metadata": {},
          "execution_count": 37
        }
      ]
    },
    {
      "cell_type": "code",
      "source": [
        "Q1"
      ],
      "metadata": {
        "colab": {
          "base_uri": "https://localhost:8080/"
        },
        "id": "G5Mf2ZDJc1u4",
        "outputId": "d8a5a133-5f9e-43e3-8778-2211345f451b"
      },
      "execution_count": 38,
      "outputs": [
        {
          "output_type": "execute_result",
          "data": {
            "text/plain": [
              "array([[-0.04228713,  0.06273305,  1.10359261, -1.07246676],\n",
              "       [-0.00082111,  0.17481053,  1.10264136, -1.30347264],\n",
              "       [ 0.12357696, -0.02119992,  0.76172738, -0.52655561],\n",
              "       ...,\n",
              "       [ 1.2846256 , -1.11844679, -0.57805422,  0.85531285],\n",
              "       [ 1.32609162, -1.52492929, -0.57986567,  1.32245159],\n",
              "       [ 1.24315958, -1.25833506, -0.83188962,  0.51046305]])"
            ]
          },
          "metadata": {},
          "execution_count": 38
        }
      ]
    },
    {
      "cell_type": "code",
      "source": [
        "Q1_df = pd.DataFrame(scaler.inverse_transform(Q1), columns=col_names)\n",
        "Q1_df['Cluster'] = labels\n",
        "Q1_df"
      ],
      "metadata": {
        "colab": {
          "base_uri": "https://localhost:8080/",
          "height": 424
        },
        "id": "HW_CyJPicOIb",
        "outputId": "e1365ac6-6114-4050-c633-da9440267f5c"
      },
      "execution_count": 39,
      "outputs": [
        {
          "output_type": "execute_result",
          "data": {
            "text/plain": [
              "      Age    Income  SpendingScore       Savings  Cluster\n",
              "0    58.0   77769.0       0.791329   6559.829923        2\n",
              "1    59.0   81799.0       0.791082   5417.661426        2\n",
              "2    62.0   74751.0       0.702657   9258.992965        2\n",
              "3    59.0   74373.0       0.765680   7346.334504        2\n",
              "4    87.0   17760.0       0.348778  16869.507130        3\n",
              "..    ...       ...            ...           ...      ...\n",
              "500  28.0  101206.0       0.387441  14936.775389        5\n",
              "501  93.0   19934.0       0.203140  17969.693769        3\n",
              "502  90.0   35297.0       0.355149  16091.401954        3\n",
              "503  91.0   20681.0       0.354679  18401.088445        3\n",
              "504  89.0   30267.0       0.289310  14386.351880        3\n",
              "\n",
              "[505 rows x 5 columns]"
            ],
            "text/html": [
              "\n",
              "  <div id=\"df-1d40adaf-715b-4188-9aa1-d10bf5453fe4\">\n",
              "    <div class=\"colab-df-container\">\n",
              "      <div>\n",
              "<style scoped>\n",
              "    .dataframe tbody tr th:only-of-type {\n",
              "        vertical-align: middle;\n",
              "    }\n",
              "\n",
              "    .dataframe tbody tr th {\n",
              "        vertical-align: top;\n",
              "    }\n",
              "\n",
              "    .dataframe thead th {\n",
              "        text-align: right;\n",
              "    }\n",
              "</style>\n",
              "<table border=\"1\" class=\"dataframe\">\n",
              "  <thead>\n",
              "    <tr style=\"text-align: right;\">\n",
              "      <th></th>\n",
              "      <th>Age</th>\n",
              "      <th>Income</th>\n",
              "      <th>SpendingScore</th>\n",
              "      <th>Savings</th>\n",
              "      <th>Cluster</th>\n",
              "    </tr>\n",
              "  </thead>\n",
              "  <tbody>\n",
              "    <tr>\n",
              "      <th>0</th>\n",
              "      <td>58.0</td>\n",
              "      <td>77769.0</td>\n",
              "      <td>0.791329</td>\n",
              "      <td>6559.829923</td>\n",
              "      <td>2</td>\n",
              "    </tr>\n",
              "    <tr>\n",
              "      <th>1</th>\n",
              "      <td>59.0</td>\n",
              "      <td>81799.0</td>\n",
              "      <td>0.791082</td>\n",
              "      <td>5417.661426</td>\n",
              "      <td>2</td>\n",
              "    </tr>\n",
              "    <tr>\n",
              "      <th>2</th>\n",
              "      <td>62.0</td>\n",
              "      <td>74751.0</td>\n",
              "      <td>0.702657</td>\n",
              "      <td>9258.992965</td>\n",
              "      <td>2</td>\n",
              "    </tr>\n",
              "    <tr>\n",
              "      <th>3</th>\n",
              "      <td>59.0</td>\n",
              "      <td>74373.0</td>\n",
              "      <td>0.765680</td>\n",
              "      <td>7346.334504</td>\n",
              "      <td>2</td>\n",
              "    </tr>\n",
              "    <tr>\n",
              "      <th>4</th>\n",
              "      <td>87.0</td>\n",
              "      <td>17760.0</td>\n",
              "      <td>0.348778</td>\n",
              "      <td>16869.507130</td>\n",
              "      <td>3</td>\n",
              "    </tr>\n",
              "    <tr>\n",
              "      <th>...</th>\n",
              "      <td>...</td>\n",
              "      <td>...</td>\n",
              "      <td>...</td>\n",
              "      <td>...</td>\n",
              "      <td>...</td>\n",
              "    </tr>\n",
              "    <tr>\n",
              "      <th>500</th>\n",
              "      <td>28.0</td>\n",
              "      <td>101206.0</td>\n",
              "      <td>0.387441</td>\n",
              "      <td>14936.775389</td>\n",
              "      <td>5</td>\n",
              "    </tr>\n",
              "    <tr>\n",
              "      <th>501</th>\n",
              "      <td>93.0</td>\n",
              "      <td>19934.0</td>\n",
              "      <td>0.203140</td>\n",
              "      <td>17969.693769</td>\n",
              "      <td>3</td>\n",
              "    </tr>\n",
              "    <tr>\n",
              "      <th>502</th>\n",
              "      <td>90.0</td>\n",
              "      <td>35297.0</td>\n",
              "      <td>0.355149</td>\n",
              "      <td>16091.401954</td>\n",
              "      <td>3</td>\n",
              "    </tr>\n",
              "    <tr>\n",
              "      <th>503</th>\n",
              "      <td>91.0</td>\n",
              "      <td>20681.0</td>\n",
              "      <td>0.354679</td>\n",
              "      <td>18401.088445</td>\n",
              "      <td>3</td>\n",
              "    </tr>\n",
              "    <tr>\n",
              "      <th>504</th>\n",
              "      <td>89.0</td>\n",
              "      <td>30267.0</td>\n",
              "      <td>0.289310</td>\n",
              "      <td>14386.351880</td>\n",
              "      <td>3</td>\n",
              "    </tr>\n",
              "  </tbody>\n",
              "</table>\n",
              "<p>505 rows × 5 columns</p>\n",
              "</div>\n",
              "      <button class=\"colab-df-convert\" onclick=\"convertToInteractive('df-1d40adaf-715b-4188-9aa1-d10bf5453fe4')\"\n",
              "              title=\"Convert this dataframe to an interactive table.\"\n",
              "              style=\"display:none;\">\n",
              "        \n",
              "  <svg xmlns=\"http://www.w3.org/2000/svg\" height=\"24px\"viewBox=\"0 0 24 24\"\n",
              "       width=\"24px\">\n",
              "    <path d=\"M0 0h24v24H0V0z\" fill=\"none\"/>\n",
              "    <path d=\"M18.56 5.44l.94 2.06.94-2.06 2.06-.94-2.06-.94-.94-2.06-.94 2.06-2.06.94zm-11 1L8.5 8.5l.94-2.06 2.06-.94-2.06-.94L8.5 2.5l-.94 2.06-2.06.94zm10 10l.94 2.06.94-2.06 2.06-.94-2.06-.94-.94-2.06-.94 2.06-2.06.94z\"/><path d=\"M17.41 7.96l-1.37-1.37c-.4-.4-.92-.59-1.43-.59-.52 0-1.04.2-1.43.59L10.3 9.45l-7.72 7.72c-.78.78-.78 2.05 0 2.83L4 21.41c.39.39.9.59 1.41.59.51 0 1.02-.2 1.41-.59l7.78-7.78 2.81-2.81c.8-.78.8-2.07 0-2.86zM5.41 20L4 18.59l7.72-7.72 1.47 1.35L5.41 20z\"/>\n",
              "  </svg>\n",
              "      </button>\n",
              "      \n",
              "  <style>\n",
              "    .colab-df-container {\n",
              "      display:flex;\n",
              "      flex-wrap:wrap;\n",
              "      gap: 12px;\n",
              "    }\n",
              "\n",
              "    .colab-df-convert {\n",
              "      background-color: #E8F0FE;\n",
              "      border: none;\n",
              "      border-radius: 50%;\n",
              "      cursor: pointer;\n",
              "      display: none;\n",
              "      fill: #1967D2;\n",
              "      height: 32px;\n",
              "      padding: 0 0 0 0;\n",
              "      width: 32px;\n",
              "    }\n",
              "\n",
              "    .colab-df-convert:hover {\n",
              "      background-color: #E2EBFA;\n",
              "      box-shadow: 0px 1px 2px rgba(60, 64, 67, 0.3), 0px 1px 3px 1px rgba(60, 64, 67, 0.15);\n",
              "      fill: #174EA6;\n",
              "    }\n",
              "\n",
              "    [theme=dark] .colab-df-convert {\n",
              "      background-color: #3B4455;\n",
              "      fill: #D2E3FC;\n",
              "    }\n",
              "\n",
              "    [theme=dark] .colab-df-convert:hover {\n",
              "      background-color: #434B5C;\n",
              "      box-shadow: 0px 1px 3px 1px rgba(0, 0, 0, 0.15);\n",
              "      filter: drop-shadow(0px 1px 2px rgba(0, 0, 0, 0.3));\n",
              "      fill: #FFFFFF;\n",
              "    }\n",
              "  </style>\n",
              "\n",
              "      <script>\n",
              "        const buttonEl =\n",
              "          document.querySelector('#df-1d40adaf-715b-4188-9aa1-d10bf5453fe4 button.colab-df-convert');\n",
              "        buttonEl.style.display =\n",
              "          google.colab.kernel.accessAllowed ? 'block' : 'none';\n",
              "\n",
              "        async function convertToInteractive(key) {\n",
              "          const element = document.querySelector('#df-1d40adaf-715b-4188-9aa1-d10bf5453fe4');\n",
              "          const dataTable =\n",
              "            await google.colab.kernel.invokeFunction('convertToInteractive',\n",
              "                                                     [key], {});\n",
              "          if (!dataTable) return;\n",
              "\n",
              "          const docLinkHtml = 'Like what you see? Visit the ' +\n",
              "            '<a target=\"_blank\" href=https://colab.research.google.com/notebooks/data_table.ipynb>data table notebook</a>'\n",
              "            + ' to learn more about interactive tables.';\n",
              "          element.innerHTML = '';\n",
              "          dataTable['output_type'] = 'display_data';\n",
              "          await google.colab.output.renderOutput(dataTable, element);\n",
              "          const docLink = document.createElement('div');\n",
              "          docLink.innerHTML = docLinkHtml;\n",
              "          element.appendChild(docLink);\n",
              "        }\n",
              "      </script>\n",
              "    </div>\n",
              "  </div>\n",
              "  "
            ]
          },
          "metadata": {},
          "execution_count": 39
        }
      ]
    },
    {
      "cell_type": "code",
      "source": [
        "c2_group = Q1_df.groupby(['Cluster']).agg('describe') \n",
        "c2_group"
      ],
      "metadata": {
        "colab": {
          "base_uri": "https://localhost:8080/",
          "height": 362
        },
        "id": "8sXTghY5axWs",
        "outputId": "d6475e27-7df9-414f-acb0-ce6b087ea9d3"
      },
      "execution_count": 40,
      "outputs": [
        {
          "output_type": "execute_result",
          "data": {
            "text/plain": [
              "           Age                                                    Income  \\\n",
              "         count       mean       std   min   25%   50%   75%   max  count   \n",
              "Cluster                                                                    \n",
              "1         50.0  24.180000  3.662775  17.0  22.0  24.5  27.0  31.0   50.0   \n",
              "2        157.0  59.955414  3.376662  51.0  58.0  59.0  62.0  68.0  157.0   \n",
              "3        147.0  87.775510  3.508885  79.0  85.0  88.0  91.0  97.0  147.0   \n",
              "4         25.0  86.000000  3.662877  77.0  84.0  86.0  88.0  93.0   25.0   \n",
              "5        126.0  32.777778  3.792390  22.0  30.0  33.0  35.0  44.0  126.0   \n",
              "\n",
              "                        ... SpendingScore           Savings                \\\n",
              "                  mean  ...           75%       max   count          mean   \n",
              "Cluster                 ...                                                 \n",
              "1        128029.120000  ...      0.926473  1.000000    50.0   4087.520309   \n",
              "2         72448.063694  ...      0.800598  0.910417   157.0   6889.972190   \n",
              "3         27866.102041  ...      0.357267  0.473550   147.0  16659.261445   \n",
              "4        119944.040000  ...      0.082723  0.155694    25.0  14808.683793   \n",
              "5        105265.809524  ...      0.341096  0.411112   126.0  14962.778066   \n",
              "\n",
              "                                                                              \\\n",
              "                 std           min           25%           50%           75%   \n",
              "Cluster                                                                        \n",
              "1        1277.754801      0.000000   3275.320193   4361.967019   4986.863329   \n",
              "2        1052.276354   4077.658657   6225.376082   6845.056822   7497.231607   \n",
              "3        1183.850178  13470.970605  15957.282919  16711.067980  17433.126684   \n",
              "4        1159.339639  12554.692742  14047.388986  14773.407206  15391.952192   \n",
              "5        1061.734017  12207.526078  14223.787562  14976.943192  15682.288845   \n",
              "\n",
              "                       \n",
              "                  max  \n",
              "Cluster                \n",
              "1         6089.478323  \n",
              "2        10547.775368  \n",
              "3        20000.000000  \n",
              "4        17833.093470  \n",
              "5        17968.553929  \n",
              "\n",
              "[5 rows x 32 columns]"
            ],
            "text/html": [
              "\n",
              "  <div id=\"df-48980282-d932-4852-bd09-4e2e9d688da5\">\n",
              "    <div class=\"colab-df-container\">\n",
              "      <div>\n",
              "<style scoped>\n",
              "    .dataframe tbody tr th:only-of-type {\n",
              "        vertical-align: middle;\n",
              "    }\n",
              "\n",
              "    .dataframe tbody tr th {\n",
              "        vertical-align: top;\n",
              "    }\n",
              "\n",
              "    .dataframe thead tr th {\n",
              "        text-align: left;\n",
              "    }\n",
              "\n",
              "    .dataframe thead tr:last-of-type th {\n",
              "        text-align: right;\n",
              "    }\n",
              "</style>\n",
              "<table border=\"1\" class=\"dataframe\">\n",
              "  <thead>\n",
              "    <tr>\n",
              "      <th></th>\n",
              "      <th colspan=\"8\" halign=\"left\">Age</th>\n",
              "      <th colspan=\"2\" halign=\"left\">Income</th>\n",
              "      <th>...</th>\n",
              "      <th colspan=\"2\" halign=\"left\">SpendingScore</th>\n",
              "      <th colspan=\"8\" halign=\"left\">Savings</th>\n",
              "    </tr>\n",
              "    <tr>\n",
              "      <th></th>\n",
              "      <th>count</th>\n",
              "      <th>mean</th>\n",
              "      <th>std</th>\n",
              "      <th>min</th>\n",
              "      <th>25%</th>\n",
              "      <th>50%</th>\n",
              "      <th>75%</th>\n",
              "      <th>max</th>\n",
              "      <th>count</th>\n",
              "      <th>mean</th>\n",
              "      <th>...</th>\n",
              "      <th>75%</th>\n",
              "      <th>max</th>\n",
              "      <th>count</th>\n",
              "      <th>mean</th>\n",
              "      <th>std</th>\n",
              "      <th>min</th>\n",
              "      <th>25%</th>\n",
              "      <th>50%</th>\n",
              "      <th>75%</th>\n",
              "      <th>max</th>\n",
              "    </tr>\n",
              "    <tr>\n",
              "      <th>Cluster</th>\n",
              "      <th></th>\n",
              "      <th></th>\n",
              "      <th></th>\n",
              "      <th></th>\n",
              "      <th></th>\n",
              "      <th></th>\n",
              "      <th></th>\n",
              "      <th></th>\n",
              "      <th></th>\n",
              "      <th></th>\n",
              "      <th></th>\n",
              "      <th></th>\n",
              "      <th></th>\n",
              "      <th></th>\n",
              "      <th></th>\n",
              "      <th></th>\n",
              "      <th></th>\n",
              "      <th></th>\n",
              "      <th></th>\n",
              "      <th></th>\n",
              "      <th></th>\n",
              "    </tr>\n",
              "  </thead>\n",
              "  <tbody>\n",
              "    <tr>\n",
              "      <th>1</th>\n",
              "      <td>50.0</td>\n",
              "      <td>24.180000</td>\n",
              "      <td>3.662775</td>\n",
              "      <td>17.0</td>\n",
              "      <td>22.0</td>\n",
              "      <td>24.5</td>\n",
              "      <td>27.0</td>\n",
              "      <td>31.0</td>\n",
              "      <td>50.0</td>\n",
              "      <td>128029.120000</td>\n",
              "      <td>...</td>\n",
              "      <td>0.926473</td>\n",
              "      <td>1.000000</td>\n",
              "      <td>50.0</td>\n",
              "      <td>4087.520309</td>\n",
              "      <td>1277.754801</td>\n",
              "      <td>0.000000</td>\n",
              "      <td>3275.320193</td>\n",
              "      <td>4361.967019</td>\n",
              "      <td>4986.863329</td>\n",
              "      <td>6089.478323</td>\n",
              "    </tr>\n",
              "    <tr>\n",
              "      <th>2</th>\n",
              "      <td>157.0</td>\n",
              "      <td>59.955414</td>\n",
              "      <td>3.376662</td>\n",
              "      <td>51.0</td>\n",
              "      <td>58.0</td>\n",
              "      <td>59.0</td>\n",
              "      <td>62.0</td>\n",
              "      <td>68.0</td>\n",
              "      <td>157.0</td>\n",
              "      <td>72448.063694</td>\n",
              "      <td>...</td>\n",
              "      <td>0.800598</td>\n",
              "      <td>0.910417</td>\n",
              "      <td>157.0</td>\n",
              "      <td>6889.972190</td>\n",
              "      <td>1052.276354</td>\n",
              "      <td>4077.658657</td>\n",
              "      <td>6225.376082</td>\n",
              "      <td>6845.056822</td>\n",
              "      <td>7497.231607</td>\n",
              "      <td>10547.775368</td>\n",
              "    </tr>\n",
              "    <tr>\n",
              "      <th>3</th>\n",
              "      <td>147.0</td>\n",
              "      <td>87.775510</td>\n",
              "      <td>3.508885</td>\n",
              "      <td>79.0</td>\n",
              "      <td>85.0</td>\n",
              "      <td>88.0</td>\n",
              "      <td>91.0</td>\n",
              "      <td>97.0</td>\n",
              "      <td>147.0</td>\n",
              "      <td>27866.102041</td>\n",
              "      <td>...</td>\n",
              "      <td>0.357267</td>\n",
              "      <td>0.473550</td>\n",
              "      <td>147.0</td>\n",
              "      <td>16659.261445</td>\n",
              "      <td>1183.850178</td>\n",
              "      <td>13470.970605</td>\n",
              "      <td>15957.282919</td>\n",
              "      <td>16711.067980</td>\n",
              "      <td>17433.126684</td>\n",
              "      <td>20000.000000</td>\n",
              "    </tr>\n",
              "    <tr>\n",
              "      <th>4</th>\n",
              "      <td>25.0</td>\n",
              "      <td>86.000000</td>\n",
              "      <td>3.662877</td>\n",
              "      <td>77.0</td>\n",
              "      <td>84.0</td>\n",
              "      <td>86.0</td>\n",
              "      <td>88.0</td>\n",
              "      <td>93.0</td>\n",
              "      <td>25.0</td>\n",
              "      <td>119944.040000</td>\n",
              "      <td>...</td>\n",
              "      <td>0.082723</td>\n",
              "      <td>0.155694</td>\n",
              "      <td>25.0</td>\n",
              "      <td>14808.683793</td>\n",
              "      <td>1159.339639</td>\n",
              "      <td>12554.692742</td>\n",
              "      <td>14047.388986</td>\n",
              "      <td>14773.407206</td>\n",
              "      <td>15391.952192</td>\n",
              "      <td>17833.093470</td>\n",
              "    </tr>\n",
              "    <tr>\n",
              "      <th>5</th>\n",
              "      <td>126.0</td>\n",
              "      <td>32.777778</td>\n",
              "      <td>3.792390</td>\n",
              "      <td>22.0</td>\n",
              "      <td>30.0</td>\n",
              "      <td>33.0</td>\n",
              "      <td>35.0</td>\n",
              "      <td>44.0</td>\n",
              "      <td>126.0</td>\n",
              "      <td>105265.809524</td>\n",
              "      <td>...</td>\n",
              "      <td>0.341096</td>\n",
              "      <td>0.411112</td>\n",
              "      <td>126.0</td>\n",
              "      <td>14962.778066</td>\n",
              "      <td>1061.734017</td>\n",
              "      <td>12207.526078</td>\n",
              "      <td>14223.787562</td>\n",
              "      <td>14976.943192</td>\n",
              "      <td>15682.288845</td>\n",
              "      <td>17968.553929</td>\n",
              "    </tr>\n",
              "  </tbody>\n",
              "</table>\n",
              "<p>5 rows × 32 columns</p>\n",
              "</div>\n",
              "      <button class=\"colab-df-convert\" onclick=\"convertToInteractive('df-48980282-d932-4852-bd09-4e2e9d688da5')\"\n",
              "              title=\"Convert this dataframe to an interactive table.\"\n",
              "              style=\"display:none;\">\n",
              "        \n",
              "  <svg xmlns=\"http://www.w3.org/2000/svg\" height=\"24px\"viewBox=\"0 0 24 24\"\n",
              "       width=\"24px\">\n",
              "    <path d=\"M0 0h24v24H0V0z\" fill=\"none\"/>\n",
              "    <path d=\"M18.56 5.44l.94 2.06.94-2.06 2.06-.94-2.06-.94-.94-2.06-.94 2.06-2.06.94zm-11 1L8.5 8.5l.94-2.06 2.06-.94-2.06-.94L8.5 2.5l-.94 2.06-2.06.94zm10 10l.94 2.06.94-2.06 2.06-.94-2.06-.94-.94-2.06-.94 2.06-2.06.94z\"/><path d=\"M17.41 7.96l-1.37-1.37c-.4-.4-.92-.59-1.43-.59-.52 0-1.04.2-1.43.59L10.3 9.45l-7.72 7.72c-.78.78-.78 2.05 0 2.83L4 21.41c.39.39.9.59 1.41.59.51 0 1.02-.2 1.41-.59l7.78-7.78 2.81-2.81c.8-.78.8-2.07 0-2.86zM5.41 20L4 18.59l7.72-7.72 1.47 1.35L5.41 20z\"/>\n",
              "  </svg>\n",
              "      </button>\n",
              "      \n",
              "  <style>\n",
              "    .colab-df-container {\n",
              "      display:flex;\n",
              "      flex-wrap:wrap;\n",
              "      gap: 12px;\n",
              "    }\n",
              "\n",
              "    .colab-df-convert {\n",
              "      background-color: #E8F0FE;\n",
              "      border: none;\n",
              "      border-radius: 50%;\n",
              "      cursor: pointer;\n",
              "      display: none;\n",
              "      fill: #1967D2;\n",
              "      height: 32px;\n",
              "      padding: 0 0 0 0;\n",
              "      width: 32px;\n",
              "    }\n",
              "\n",
              "    .colab-df-convert:hover {\n",
              "      background-color: #E2EBFA;\n",
              "      box-shadow: 0px 1px 2px rgba(60, 64, 67, 0.3), 0px 1px 3px 1px rgba(60, 64, 67, 0.15);\n",
              "      fill: #174EA6;\n",
              "    }\n",
              "\n",
              "    [theme=dark] .colab-df-convert {\n",
              "      background-color: #3B4455;\n",
              "      fill: #D2E3FC;\n",
              "    }\n",
              "\n",
              "    [theme=dark] .colab-df-convert:hover {\n",
              "      background-color: #434B5C;\n",
              "      box-shadow: 0px 1px 3px 1px rgba(0, 0, 0, 0.15);\n",
              "      filter: drop-shadow(0px 1px 2px rgba(0, 0, 0, 0.3));\n",
              "      fill: #FFFFFF;\n",
              "    }\n",
              "  </style>\n",
              "\n",
              "      <script>\n",
              "        const buttonEl =\n",
              "          document.querySelector('#df-48980282-d932-4852-bd09-4e2e9d688da5 button.colab-df-convert');\n",
              "        buttonEl.style.display =\n",
              "          google.colab.kernel.accessAllowed ? 'block' : 'none';\n",
              "\n",
              "        async function convertToInteractive(key) {\n",
              "          const element = document.querySelector('#df-48980282-d932-4852-bd09-4e2e9d688da5');\n",
              "          const dataTable =\n",
              "            await google.colab.kernel.invokeFunction('convertToInteractive',\n",
              "                                                     [key], {});\n",
              "          if (!dataTable) return;\n",
              "\n",
              "          const docLinkHtml = 'Like what you see? Visit the ' +\n",
              "            '<a target=\"_blank\" href=https://colab.research.google.com/notebooks/data_table.ipynb>data table notebook</a>'\n",
              "            + ' to learn more about interactive tables.';\n",
              "          element.innerHTML = '';\n",
              "          dataTable['output_type'] = 'display_data';\n",
              "          await google.colab.output.renderOutput(dataTable, element);\n",
              "          const docLink = document.createElement('div');\n",
              "          docLink.innerHTML = docLinkHtml;\n",
              "          element.appendChild(docLink);\n",
              "        }\n",
              "      </script>\n",
              "    </div>\n",
              "  </div>\n",
              "  "
            ]
          },
          "metadata": {},
          "execution_count": 40
        }
      ]
    },
    {
      "cell_type": "code",
      "source": [
        "# Showing all features stats together.\n",
        "with pd.option_context(\"display.max_columns\", None):\n",
        "    display(c2_group)"
      ],
      "metadata": {
        "colab": {
          "base_uri": "https://localhost:8080/",
          "height": 333
        },
        "id": "5lZOdjvDaxTw",
        "outputId": "9c04086b-8899-4fd0-b8c2-a75c0ea2c7bf"
      },
      "execution_count": 41,
      "outputs": [
        {
          "output_type": "display_data",
          "data": {
            "text/plain": [
              "           Age                                                    Income  \\\n",
              "         count       mean       std   min   25%   50%   75%   max  count   \n",
              "Cluster                                                                    \n",
              "1         50.0  24.180000  3.662775  17.0  22.0  24.5  27.0  31.0   50.0   \n",
              "2        157.0  59.955414  3.376662  51.0  58.0  59.0  62.0  68.0  157.0   \n",
              "3        147.0  87.775510  3.508885  79.0  85.0  88.0  91.0  97.0  147.0   \n",
              "4         25.0  86.000000  3.662877  77.0  84.0  86.0  88.0  93.0   25.0   \n",
              "5        126.0  32.777778  3.792390  22.0  30.0  33.0  35.0  44.0  126.0   \n",
              "\n",
              "                                                                               \\\n",
              "                  mean          std       min        25%       50%        75%   \n",
              "Cluster                                                                         \n",
              "1        128029.120000  5688.904656  117108.0  123042.00  128162.0  131435.75   \n",
              "2         72448.063694  6240.260008   56321.0   68463.00   72027.0   76594.00   \n",
              "3         27866.102041  6448.805481   12000.0   23361.00   27771.0   32601.00   \n",
              "4        119944.040000  4941.052254  110582.0  117347.00  119429.0  123651.00   \n",
              "5        105265.809524  6080.621753   89598.0  100760.25  106002.5  108858.75   \n",
              "\n",
              "                  SpendingScore                                          \\\n",
              "              max         count      mean       std       min       25%   \n",
              "Cluster                                                                   \n",
              "1        142000.0          50.0  0.896892  0.043466  0.806553  0.871957   \n",
              "2         90422.0         157.0  0.771518  0.046058  0.657314  0.740367   \n",
              "3         46977.0         147.0  0.328800  0.045224  0.203140  0.301502   \n",
              "4        128596.0          25.0  0.068378  0.039744  0.000000  0.036795   \n",
              "5        119877.0         126.0  0.309926  0.045513  0.174120  0.281237   \n",
              "\n",
              "                                      Savings                             \\\n",
              "              50%       75%       max   count          mean          std   \n",
              "Cluster                                                                    \n",
              "1        0.890676  0.926473  1.000000    50.0   4087.520309  1277.754801   \n",
              "2        0.766720  0.800598  0.910417   157.0   6889.972190  1052.276354   \n",
              "3        0.324719  0.357267  0.473550   147.0  16659.261445  1183.850178   \n",
              "4        0.063273  0.082723  0.155694    25.0  14808.683793  1159.339639   \n",
              "5        0.309479  0.341096  0.411112   126.0  14962.778066  1061.734017   \n",
              "\n",
              "                                                                               \n",
              "                  min           25%           50%           75%           max  \n",
              "Cluster                                                                        \n",
              "1            0.000000   3275.320193   4361.967019   4986.863329   6089.478323  \n",
              "2         4077.658657   6225.376082   6845.056822   7497.231607  10547.775368  \n",
              "3        13470.970605  15957.282919  16711.067980  17433.126684  20000.000000  \n",
              "4        12554.692742  14047.388986  14773.407206  15391.952192  17833.093470  \n",
              "5        12207.526078  14223.787562  14976.943192  15682.288845  17968.553929  "
            ],
            "text/html": [
              "\n",
              "  <div id=\"df-cce0e443-3bf3-4a41-8f2c-552514d8f005\">\n",
              "    <div class=\"colab-df-container\">\n",
              "      <div>\n",
              "<style scoped>\n",
              "    .dataframe tbody tr th:only-of-type {\n",
              "        vertical-align: middle;\n",
              "    }\n",
              "\n",
              "    .dataframe tbody tr th {\n",
              "        vertical-align: top;\n",
              "    }\n",
              "\n",
              "    .dataframe thead tr th {\n",
              "        text-align: left;\n",
              "    }\n",
              "\n",
              "    .dataframe thead tr:last-of-type th {\n",
              "        text-align: right;\n",
              "    }\n",
              "</style>\n",
              "<table border=\"1\" class=\"dataframe\">\n",
              "  <thead>\n",
              "    <tr>\n",
              "      <th></th>\n",
              "      <th colspan=\"8\" halign=\"left\">Age</th>\n",
              "      <th colspan=\"8\" halign=\"left\">Income</th>\n",
              "      <th colspan=\"8\" halign=\"left\">SpendingScore</th>\n",
              "      <th colspan=\"8\" halign=\"left\">Savings</th>\n",
              "    </tr>\n",
              "    <tr>\n",
              "      <th></th>\n",
              "      <th>count</th>\n",
              "      <th>mean</th>\n",
              "      <th>std</th>\n",
              "      <th>min</th>\n",
              "      <th>25%</th>\n",
              "      <th>50%</th>\n",
              "      <th>75%</th>\n",
              "      <th>max</th>\n",
              "      <th>count</th>\n",
              "      <th>mean</th>\n",
              "      <th>std</th>\n",
              "      <th>min</th>\n",
              "      <th>25%</th>\n",
              "      <th>50%</th>\n",
              "      <th>75%</th>\n",
              "      <th>max</th>\n",
              "      <th>count</th>\n",
              "      <th>mean</th>\n",
              "      <th>std</th>\n",
              "      <th>min</th>\n",
              "      <th>25%</th>\n",
              "      <th>50%</th>\n",
              "      <th>75%</th>\n",
              "      <th>max</th>\n",
              "      <th>count</th>\n",
              "      <th>mean</th>\n",
              "      <th>std</th>\n",
              "      <th>min</th>\n",
              "      <th>25%</th>\n",
              "      <th>50%</th>\n",
              "      <th>75%</th>\n",
              "      <th>max</th>\n",
              "    </tr>\n",
              "    <tr>\n",
              "      <th>Cluster</th>\n",
              "      <th></th>\n",
              "      <th></th>\n",
              "      <th></th>\n",
              "      <th></th>\n",
              "      <th></th>\n",
              "      <th></th>\n",
              "      <th></th>\n",
              "      <th></th>\n",
              "      <th></th>\n",
              "      <th></th>\n",
              "      <th></th>\n",
              "      <th></th>\n",
              "      <th></th>\n",
              "      <th></th>\n",
              "      <th></th>\n",
              "      <th></th>\n",
              "      <th></th>\n",
              "      <th></th>\n",
              "      <th></th>\n",
              "      <th></th>\n",
              "      <th></th>\n",
              "      <th></th>\n",
              "      <th></th>\n",
              "      <th></th>\n",
              "      <th></th>\n",
              "      <th></th>\n",
              "      <th></th>\n",
              "      <th></th>\n",
              "      <th></th>\n",
              "      <th></th>\n",
              "      <th></th>\n",
              "      <th></th>\n",
              "    </tr>\n",
              "  </thead>\n",
              "  <tbody>\n",
              "    <tr>\n",
              "      <th>1</th>\n",
              "      <td>50.0</td>\n",
              "      <td>24.180000</td>\n",
              "      <td>3.662775</td>\n",
              "      <td>17.0</td>\n",
              "      <td>22.0</td>\n",
              "      <td>24.5</td>\n",
              "      <td>27.0</td>\n",
              "      <td>31.0</td>\n",
              "      <td>50.0</td>\n",
              "      <td>128029.120000</td>\n",
              "      <td>5688.904656</td>\n",
              "      <td>117108.0</td>\n",
              "      <td>123042.00</td>\n",
              "      <td>128162.0</td>\n",
              "      <td>131435.75</td>\n",
              "      <td>142000.0</td>\n",
              "      <td>50.0</td>\n",
              "      <td>0.896892</td>\n",
              "      <td>0.043466</td>\n",
              "      <td>0.806553</td>\n",
              "      <td>0.871957</td>\n",
              "      <td>0.890676</td>\n",
              "      <td>0.926473</td>\n",
              "      <td>1.000000</td>\n",
              "      <td>50.0</td>\n",
              "      <td>4087.520309</td>\n",
              "      <td>1277.754801</td>\n",
              "      <td>0.000000</td>\n",
              "      <td>3275.320193</td>\n",
              "      <td>4361.967019</td>\n",
              "      <td>4986.863329</td>\n",
              "      <td>6089.478323</td>\n",
              "    </tr>\n",
              "    <tr>\n",
              "      <th>2</th>\n",
              "      <td>157.0</td>\n",
              "      <td>59.955414</td>\n",
              "      <td>3.376662</td>\n",
              "      <td>51.0</td>\n",
              "      <td>58.0</td>\n",
              "      <td>59.0</td>\n",
              "      <td>62.0</td>\n",
              "      <td>68.0</td>\n",
              "      <td>157.0</td>\n",
              "      <td>72448.063694</td>\n",
              "      <td>6240.260008</td>\n",
              "      <td>56321.0</td>\n",
              "      <td>68463.00</td>\n",
              "      <td>72027.0</td>\n",
              "      <td>76594.00</td>\n",
              "      <td>90422.0</td>\n",
              "      <td>157.0</td>\n",
              "      <td>0.771518</td>\n",
              "      <td>0.046058</td>\n",
              "      <td>0.657314</td>\n",
              "      <td>0.740367</td>\n",
              "      <td>0.766720</td>\n",
              "      <td>0.800598</td>\n",
              "      <td>0.910417</td>\n",
              "      <td>157.0</td>\n",
              "      <td>6889.972190</td>\n",
              "      <td>1052.276354</td>\n",
              "      <td>4077.658657</td>\n",
              "      <td>6225.376082</td>\n",
              "      <td>6845.056822</td>\n",
              "      <td>7497.231607</td>\n",
              "      <td>10547.775368</td>\n",
              "    </tr>\n",
              "    <tr>\n",
              "      <th>3</th>\n",
              "      <td>147.0</td>\n",
              "      <td>87.775510</td>\n",
              "      <td>3.508885</td>\n",
              "      <td>79.0</td>\n",
              "      <td>85.0</td>\n",
              "      <td>88.0</td>\n",
              "      <td>91.0</td>\n",
              "      <td>97.0</td>\n",
              "      <td>147.0</td>\n",
              "      <td>27866.102041</td>\n",
              "      <td>6448.805481</td>\n",
              "      <td>12000.0</td>\n",
              "      <td>23361.00</td>\n",
              "      <td>27771.0</td>\n",
              "      <td>32601.00</td>\n",
              "      <td>46977.0</td>\n",
              "      <td>147.0</td>\n",
              "      <td>0.328800</td>\n",
              "      <td>0.045224</td>\n",
              "      <td>0.203140</td>\n",
              "      <td>0.301502</td>\n",
              "      <td>0.324719</td>\n",
              "      <td>0.357267</td>\n",
              "      <td>0.473550</td>\n",
              "      <td>147.0</td>\n",
              "      <td>16659.261445</td>\n",
              "      <td>1183.850178</td>\n",
              "      <td>13470.970605</td>\n",
              "      <td>15957.282919</td>\n",
              "      <td>16711.067980</td>\n",
              "      <td>17433.126684</td>\n",
              "      <td>20000.000000</td>\n",
              "    </tr>\n",
              "    <tr>\n",
              "      <th>4</th>\n",
              "      <td>25.0</td>\n",
              "      <td>86.000000</td>\n",
              "      <td>3.662877</td>\n",
              "      <td>77.0</td>\n",
              "      <td>84.0</td>\n",
              "      <td>86.0</td>\n",
              "      <td>88.0</td>\n",
              "      <td>93.0</td>\n",
              "      <td>25.0</td>\n",
              "      <td>119944.040000</td>\n",
              "      <td>4941.052254</td>\n",
              "      <td>110582.0</td>\n",
              "      <td>117347.00</td>\n",
              "      <td>119429.0</td>\n",
              "      <td>123651.00</td>\n",
              "      <td>128596.0</td>\n",
              "      <td>25.0</td>\n",
              "      <td>0.068378</td>\n",
              "      <td>0.039744</td>\n",
              "      <td>0.000000</td>\n",
              "      <td>0.036795</td>\n",
              "      <td>0.063273</td>\n",
              "      <td>0.082723</td>\n",
              "      <td>0.155694</td>\n",
              "      <td>25.0</td>\n",
              "      <td>14808.683793</td>\n",
              "      <td>1159.339639</td>\n",
              "      <td>12554.692742</td>\n",
              "      <td>14047.388986</td>\n",
              "      <td>14773.407206</td>\n",
              "      <td>15391.952192</td>\n",
              "      <td>17833.093470</td>\n",
              "    </tr>\n",
              "    <tr>\n",
              "      <th>5</th>\n",
              "      <td>126.0</td>\n",
              "      <td>32.777778</td>\n",
              "      <td>3.792390</td>\n",
              "      <td>22.0</td>\n",
              "      <td>30.0</td>\n",
              "      <td>33.0</td>\n",
              "      <td>35.0</td>\n",
              "      <td>44.0</td>\n",
              "      <td>126.0</td>\n",
              "      <td>105265.809524</td>\n",
              "      <td>6080.621753</td>\n",
              "      <td>89598.0</td>\n",
              "      <td>100760.25</td>\n",
              "      <td>106002.5</td>\n",
              "      <td>108858.75</td>\n",
              "      <td>119877.0</td>\n",
              "      <td>126.0</td>\n",
              "      <td>0.309926</td>\n",
              "      <td>0.045513</td>\n",
              "      <td>0.174120</td>\n",
              "      <td>0.281237</td>\n",
              "      <td>0.309479</td>\n",
              "      <td>0.341096</td>\n",
              "      <td>0.411112</td>\n",
              "      <td>126.0</td>\n",
              "      <td>14962.778066</td>\n",
              "      <td>1061.734017</td>\n",
              "      <td>12207.526078</td>\n",
              "      <td>14223.787562</td>\n",
              "      <td>14976.943192</td>\n",
              "      <td>15682.288845</td>\n",
              "      <td>17968.553929</td>\n",
              "    </tr>\n",
              "  </tbody>\n",
              "</table>\n",
              "</div>\n",
              "      <button class=\"colab-df-convert\" onclick=\"convertToInteractive('df-cce0e443-3bf3-4a41-8f2c-552514d8f005')\"\n",
              "              title=\"Convert this dataframe to an interactive table.\"\n",
              "              style=\"display:none;\">\n",
              "        \n",
              "  <svg xmlns=\"http://www.w3.org/2000/svg\" height=\"24px\"viewBox=\"0 0 24 24\"\n",
              "       width=\"24px\">\n",
              "    <path d=\"M0 0h24v24H0V0z\" fill=\"none\"/>\n",
              "    <path d=\"M18.56 5.44l.94 2.06.94-2.06 2.06-.94-2.06-.94-.94-2.06-.94 2.06-2.06.94zm-11 1L8.5 8.5l.94-2.06 2.06-.94-2.06-.94L8.5 2.5l-.94 2.06-2.06.94zm10 10l.94 2.06.94-2.06 2.06-.94-2.06-.94-.94-2.06-.94 2.06-2.06.94z\"/><path d=\"M17.41 7.96l-1.37-1.37c-.4-.4-.92-.59-1.43-.59-.52 0-1.04.2-1.43.59L10.3 9.45l-7.72 7.72c-.78.78-.78 2.05 0 2.83L4 21.41c.39.39.9.59 1.41.59.51 0 1.02-.2 1.41-.59l7.78-7.78 2.81-2.81c.8-.78.8-2.07 0-2.86zM5.41 20L4 18.59l7.72-7.72 1.47 1.35L5.41 20z\"/>\n",
              "  </svg>\n",
              "      </button>\n",
              "      \n",
              "  <style>\n",
              "    .colab-df-container {\n",
              "      display:flex;\n",
              "      flex-wrap:wrap;\n",
              "      gap: 12px;\n",
              "    }\n",
              "\n",
              "    .colab-df-convert {\n",
              "      background-color: #E8F0FE;\n",
              "      border: none;\n",
              "      border-radius: 50%;\n",
              "      cursor: pointer;\n",
              "      display: none;\n",
              "      fill: #1967D2;\n",
              "      height: 32px;\n",
              "      padding: 0 0 0 0;\n",
              "      width: 32px;\n",
              "    }\n",
              "\n",
              "    .colab-df-convert:hover {\n",
              "      background-color: #E2EBFA;\n",
              "      box-shadow: 0px 1px 2px rgba(60, 64, 67, 0.3), 0px 1px 3px 1px rgba(60, 64, 67, 0.15);\n",
              "      fill: #174EA6;\n",
              "    }\n",
              "\n",
              "    [theme=dark] .colab-df-convert {\n",
              "      background-color: #3B4455;\n",
              "      fill: #D2E3FC;\n",
              "    }\n",
              "\n",
              "    [theme=dark] .colab-df-convert:hover {\n",
              "      background-color: #434B5C;\n",
              "      box-shadow: 0px 1px 3px 1px rgba(0, 0, 0, 0.15);\n",
              "      filter: drop-shadow(0px 1px 2px rgba(0, 0, 0, 0.3));\n",
              "      fill: #FFFFFF;\n",
              "    }\n",
              "  </style>\n",
              "\n",
              "      <script>\n",
              "        const buttonEl =\n",
              "          document.querySelector('#df-cce0e443-3bf3-4a41-8f2c-552514d8f005 button.colab-df-convert');\n",
              "        buttonEl.style.display =\n",
              "          google.colab.kernel.accessAllowed ? 'block' : 'none';\n",
              "\n",
              "        async function convertToInteractive(key) {\n",
              "          const element = document.querySelector('#df-cce0e443-3bf3-4a41-8f2c-552514d8f005');\n",
              "          const dataTable =\n",
              "            await google.colab.kernel.invokeFunction('convertToInteractive',\n",
              "                                                     [key], {});\n",
              "          if (!dataTable) return;\n",
              "\n",
              "          const docLinkHtml = 'Like what you see? Visit the ' +\n",
              "            '<a target=\"_blank\" href=https://colab.research.google.com/notebooks/data_table.ipynb>data table notebook</a>'\n",
              "            + ' to learn more about interactive tables.';\n",
              "          element.innerHTML = '';\n",
              "          dataTable['output_type'] = 'display_data';\n",
              "          await google.colab.output.renderOutput(dataTable, element);\n",
              "          const docLink = document.createElement('div');\n",
              "          docLink.innerHTML = docLinkHtml;\n",
              "          element.appendChild(docLink);\n",
              "        }\n",
              "      </script>\n",
              "    </div>\n",
              "  </div>\n",
              "  "
            ]
          },
          "metadata": {}
        }
      ]
    },
    {
      "cell_type": "code",
      "source": [
        "# Stats per feature.\n",
        "c2_group['Age']"
      ],
      "metadata": {
        "colab": {
          "base_uri": "https://localhost:8080/",
          "height": 238
        },
        "id": "81NhsycBaxPU",
        "outputId": "1e497522-6c6e-4937-be10-a1e2e66d234a"
      },
      "execution_count": 42,
      "outputs": [
        {
          "output_type": "execute_result",
          "data": {
            "text/plain": [
              "         count       mean       std   min   25%   50%   75%   max\n",
              "Cluster                                                          \n",
              "1         50.0  24.180000  3.662775  17.0  22.0  24.5  27.0  31.0\n",
              "2        157.0  59.955414  3.376662  51.0  58.0  59.0  62.0  68.0\n",
              "3        147.0  87.775510  3.508885  79.0  85.0  88.0  91.0  97.0\n",
              "4         25.0  86.000000  3.662877  77.0  84.0  86.0  88.0  93.0\n",
              "5        126.0  32.777778  3.792390  22.0  30.0  33.0  35.0  44.0"
            ],
            "text/html": [
              "\n",
              "  <div id=\"df-62823203-f407-4201-adc3-9059480fba4f\">\n",
              "    <div class=\"colab-df-container\">\n",
              "      <div>\n",
              "<style scoped>\n",
              "    .dataframe tbody tr th:only-of-type {\n",
              "        vertical-align: middle;\n",
              "    }\n",
              "\n",
              "    .dataframe tbody tr th {\n",
              "        vertical-align: top;\n",
              "    }\n",
              "\n",
              "    .dataframe thead th {\n",
              "        text-align: right;\n",
              "    }\n",
              "</style>\n",
              "<table border=\"1\" class=\"dataframe\">\n",
              "  <thead>\n",
              "    <tr style=\"text-align: right;\">\n",
              "      <th></th>\n",
              "      <th>count</th>\n",
              "      <th>mean</th>\n",
              "      <th>std</th>\n",
              "      <th>min</th>\n",
              "      <th>25%</th>\n",
              "      <th>50%</th>\n",
              "      <th>75%</th>\n",
              "      <th>max</th>\n",
              "    </tr>\n",
              "    <tr>\n",
              "      <th>Cluster</th>\n",
              "      <th></th>\n",
              "      <th></th>\n",
              "      <th></th>\n",
              "      <th></th>\n",
              "      <th></th>\n",
              "      <th></th>\n",
              "      <th></th>\n",
              "      <th></th>\n",
              "    </tr>\n",
              "  </thead>\n",
              "  <tbody>\n",
              "    <tr>\n",
              "      <th>1</th>\n",
              "      <td>50.0</td>\n",
              "      <td>24.180000</td>\n",
              "      <td>3.662775</td>\n",
              "      <td>17.0</td>\n",
              "      <td>22.0</td>\n",
              "      <td>24.5</td>\n",
              "      <td>27.0</td>\n",
              "      <td>31.0</td>\n",
              "    </tr>\n",
              "    <tr>\n",
              "      <th>2</th>\n",
              "      <td>157.0</td>\n",
              "      <td>59.955414</td>\n",
              "      <td>3.376662</td>\n",
              "      <td>51.0</td>\n",
              "      <td>58.0</td>\n",
              "      <td>59.0</td>\n",
              "      <td>62.0</td>\n",
              "      <td>68.0</td>\n",
              "    </tr>\n",
              "    <tr>\n",
              "      <th>3</th>\n",
              "      <td>147.0</td>\n",
              "      <td>87.775510</td>\n",
              "      <td>3.508885</td>\n",
              "      <td>79.0</td>\n",
              "      <td>85.0</td>\n",
              "      <td>88.0</td>\n",
              "      <td>91.0</td>\n",
              "      <td>97.0</td>\n",
              "    </tr>\n",
              "    <tr>\n",
              "      <th>4</th>\n",
              "      <td>25.0</td>\n",
              "      <td>86.000000</td>\n",
              "      <td>3.662877</td>\n",
              "      <td>77.0</td>\n",
              "      <td>84.0</td>\n",
              "      <td>86.0</td>\n",
              "      <td>88.0</td>\n",
              "      <td>93.0</td>\n",
              "    </tr>\n",
              "    <tr>\n",
              "      <th>5</th>\n",
              "      <td>126.0</td>\n",
              "      <td>32.777778</td>\n",
              "      <td>3.792390</td>\n",
              "      <td>22.0</td>\n",
              "      <td>30.0</td>\n",
              "      <td>33.0</td>\n",
              "      <td>35.0</td>\n",
              "      <td>44.0</td>\n",
              "    </tr>\n",
              "  </tbody>\n",
              "</table>\n",
              "</div>\n",
              "      <button class=\"colab-df-convert\" onclick=\"convertToInteractive('df-62823203-f407-4201-adc3-9059480fba4f')\"\n",
              "              title=\"Convert this dataframe to an interactive table.\"\n",
              "              style=\"display:none;\">\n",
              "        \n",
              "  <svg xmlns=\"http://www.w3.org/2000/svg\" height=\"24px\"viewBox=\"0 0 24 24\"\n",
              "       width=\"24px\">\n",
              "    <path d=\"M0 0h24v24H0V0z\" fill=\"none\"/>\n",
              "    <path d=\"M18.56 5.44l.94 2.06.94-2.06 2.06-.94-2.06-.94-.94-2.06-.94 2.06-2.06.94zm-11 1L8.5 8.5l.94-2.06 2.06-.94-2.06-.94L8.5 2.5l-.94 2.06-2.06.94zm10 10l.94 2.06.94-2.06 2.06-.94-2.06-.94-.94-2.06-.94 2.06-2.06.94z\"/><path d=\"M17.41 7.96l-1.37-1.37c-.4-.4-.92-.59-1.43-.59-.52 0-1.04.2-1.43.59L10.3 9.45l-7.72 7.72c-.78.78-.78 2.05 0 2.83L4 21.41c.39.39.9.59 1.41.59.51 0 1.02-.2 1.41-.59l7.78-7.78 2.81-2.81c.8-.78.8-2.07 0-2.86zM5.41 20L4 18.59l7.72-7.72 1.47 1.35L5.41 20z\"/>\n",
              "  </svg>\n",
              "      </button>\n",
              "      \n",
              "  <style>\n",
              "    .colab-df-container {\n",
              "      display:flex;\n",
              "      flex-wrap:wrap;\n",
              "      gap: 12px;\n",
              "    }\n",
              "\n",
              "    .colab-df-convert {\n",
              "      background-color: #E8F0FE;\n",
              "      border: none;\n",
              "      border-radius: 50%;\n",
              "      cursor: pointer;\n",
              "      display: none;\n",
              "      fill: #1967D2;\n",
              "      height: 32px;\n",
              "      padding: 0 0 0 0;\n",
              "      width: 32px;\n",
              "    }\n",
              "\n",
              "    .colab-df-convert:hover {\n",
              "      background-color: #E2EBFA;\n",
              "      box-shadow: 0px 1px 2px rgba(60, 64, 67, 0.3), 0px 1px 3px 1px rgba(60, 64, 67, 0.15);\n",
              "      fill: #174EA6;\n",
              "    }\n",
              "\n",
              "    [theme=dark] .colab-df-convert {\n",
              "      background-color: #3B4455;\n",
              "      fill: #D2E3FC;\n",
              "    }\n",
              "\n",
              "    [theme=dark] .colab-df-convert:hover {\n",
              "      background-color: #434B5C;\n",
              "      box-shadow: 0px 1px 3px 1px rgba(0, 0, 0, 0.15);\n",
              "      filter: drop-shadow(0px 1px 2px rgba(0, 0, 0, 0.3));\n",
              "      fill: #FFFFFF;\n",
              "    }\n",
              "  </style>\n",
              "\n",
              "      <script>\n",
              "        const buttonEl =\n",
              "          document.querySelector('#df-62823203-f407-4201-adc3-9059480fba4f button.colab-df-convert');\n",
              "        buttonEl.style.display =\n",
              "          google.colab.kernel.accessAllowed ? 'block' : 'none';\n",
              "\n",
              "        async function convertToInteractive(key) {\n",
              "          const element = document.querySelector('#df-62823203-f407-4201-adc3-9059480fba4f');\n",
              "          const dataTable =\n",
              "            await google.colab.kernel.invokeFunction('convertToInteractive',\n",
              "                                                     [key], {});\n",
              "          if (!dataTable) return;\n",
              "\n",
              "          const docLinkHtml = 'Like what you see? Visit the ' +\n",
              "            '<a target=\"_blank\" href=https://colab.research.google.com/notebooks/data_table.ipynb>data table notebook</a>'\n",
              "            + ' to learn more about interactive tables.';\n",
              "          element.innerHTML = '';\n",
              "          dataTable['output_type'] = 'display_data';\n",
              "          await google.colab.output.renderOutput(dataTable, element);\n",
              "          const docLink = document.createElement('div');\n",
              "          docLink.innerHTML = docLinkHtml;\n",
              "          element.appendChild(docLink);\n",
              "        }\n",
              "      </script>\n",
              "    </div>\n",
              "  </div>\n",
              "  "
            ]
          },
          "metadata": {},
          "execution_count": 42
        }
      ]
    },
    {
      "cell_type": "code",
      "source": [
        "c2_group['Income']"
      ],
      "metadata": {
        "colab": {
          "base_uri": "https://localhost:8080/",
          "height": 238
        },
        "id": "LsRJKpqwaxNR",
        "outputId": "04892d05-b641-402f-d183-a102453d1ec7"
      },
      "execution_count": 43,
      "outputs": [
        {
          "output_type": "execute_result",
          "data": {
            "text/plain": [
              "         count           mean          std       min        25%       50%  \\\n",
              "Cluster                                                                     \n",
              "1         50.0  128029.120000  5688.904656  117108.0  123042.00  128162.0   \n",
              "2        157.0   72448.063694  6240.260008   56321.0   68463.00   72027.0   \n",
              "3        147.0   27866.102041  6448.805481   12000.0   23361.00   27771.0   \n",
              "4         25.0  119944.040000  4941.052254  110582.0  117347.00  119429.0   \n",
              "5        126.0  105265.809524  6080.621753   89598.0  100760.25  106002.5   \n",
              "\n",
              "               75%       max  \n",
              "Cluster                       \n",
              "1        131435.75  142000.0  \n",
              "2         76594.00   90422.0  \n",
              "3         32601.00   46977.0  \n",
              "4        123651.00  128596.0  \n",
              "5        108858.75  119877.0  "
            ],
            "text/html": [
              "\n",
              "  <div id=\"df-3d617bb6-f184-44eb-bfbf-d23a10338681\">\n",
              "    <div class=\"colab-df-container\">\n",
              "      <div>\n",
              "<style scoped>\n",
              "    .dataframe tbody tr th:only-of-type {\n",
              "        vertical-align: middle;\n",
              "    }\n",
              "\n",
              "    .dataframe tbody tr th {\n",
              "        vertical-align: top;\n",
              "    }\n",
              "\n",
              "    .dataframe thead th {\n",
              "        text-align: right;\n",
              "    }\n",
              "</style>\n",
              "<table border=\"1\" class=\"dataframe\">\n",
              "  <thead>\n",
              "    <tr style=\"text-align: right;\">\n",
              "      <th></th>\n",
              "      <th>count</th>\n",
              "      <th>mean</th>\n",
              "      <th>std</th>\n",
              "      <th>min</th>\n",
              "      <th>25%</th>\n",
              "      <th>50%</th>\n",
              "      <th>75%</th>\n",
              "      <th>max</th>\n",
              "    </tr>\n",
              "    <tr>\n",
              "      <th>Cluster</th>\n",
              "      <th></th>\n",
              "      <th></th>\n",
              "      <th></th>\n",
              "      <th></th>\n",
              "      <th></th>\n",
              "      <th></th>\n",
              "      <th></th>\n",
              "      <th></th>\n",
              "    </tr>\n",
              "  </thead>\n",
              "  <tbody>\n",
              "    <tr>\n",
              "      <th>1</th>\n",
              "      <td>50.0</td>\n",
              "      <td>128029.120000</td>\n",
              "      <td>5688.904656</td>\n",
              "      <td>117108.0</td>\n",
              "      <td>123042.00</td>\n",
              "      <td>128162.0</td>\n",
              "      <td>131435.75</td>\n",
              "      <td>142000.0</td>\n",
              "    </tr>\n",
              "    <tr>\n",
              "      <th>2</th>\n",
              "      <td>157.0</td>\n",
              "      <td>72448.063694</td>\n",
              "      <td>6240.260008</td>\n",
              "      <td>56321.0</td>\n",
              "      <td>68463.00</td>\n",
              "      <td>72027.0</td>\n",
              "      <td>76594.00</td>\n",
              "      <td>90422.0</td>\n",
              "    </tr>\n",
              "    <tr>\n",
              "      <th>3</th>\n",
              "      <td>147.0</td>\n",
              "      <td>27866.102041</td>\n",
              "      <td>6448.805481</td>\n",
              "      <td>12000.0</td>\n",
              "      <td>23361.00</td>\n",
              "      <td>27771.0</td>\n",
              "      <td>32601.00</td>\n",
              "      <td>46977.0</td>\n",
              "    </tr>\n",
              "    <tr>\n",
              "      <th>4</th>\n",
              "      <td>25.0</td>\n",
              "      <td>119944.040000</td>\n",
              "      <td>4941.052254</td>\n",
              "      <td>110582.0</td>\n",
              "      <td>117347.00</td>\n",
              "      <td>119429.0</td>\n",
              "      <td>123651.00</td>\n",
              "      <td>128596.0</td>\n",
              "    </tr>\n",
              "    <tr>\n",
              "      <th>5</th>\n",
              "      <td>126.0</td>\n",
              "      <td>105265.809524</td>\n",
              "      <td>6080.621753</td>\n",
              "      <td>89598.0</td>\n",
              "      <td>100760.25</td>\n",
              "      <td>106002.5</td>\n",
              "      <td>108858.75</td>\n",
              "      <td>119877.0</td>\n",
              "    </tr>\n",
              "  </tbody>\n",
              "</table>\n",
              "</div>\n",
              "      <button class=\"colab-df-convert\" onclick=\"convertToInteractive('df-3d617bb6-f184-44eb-bfbf-d23a10338681')\"\n",
              "              title=\"Convert this dataframe to an interactive table.\"\n",
              "              style=\"display:none;\">\n",
              "        \n",
              "  <svg xmlns=\"http://www.w3.org/2000/svg\" height=\"24px\"viewBox=\"0 0 24 24\"\n",
              "       width=\"24px\">\n",
              "    <path d=\"M0 0h24v24H0V0z\" fill=\"none\"/>\n",
              "    <path d=\"M18.56 5.44l.94 2.06.94-2.06 2.06-.94-2.06-.94-.94-2.06-.94 2.06-2.06.94zm-11 1L8.5 8.5l.94-2.06 2.06-.94-2.06-.94L8.5 2.5l-.94 2.06-2.06.94zm10 10l.94 2.06.94-2.06 2.06-.94-2.06-.94-.94-2.06-.94 2.06-2.06.94z\"/><path d=\"M17.41 7.96l-1.37-1.37c-.4-.4-.92-.59-1.43-.59-.52 0-1.04.2-1.43.59L10.3 9.45l-7.72 7.72c-.78.78-.78 2.05 0 2.83L4 21.41c.39.39.9.59 1.41.59.51 0 1.02-.2 1.41-.59l7.78-7.78 2.81-2.81c.8-.78.8-2.07 0-2.86zM5.41 20L4 18.59l7.72-7.72 1.47 1.35L5.41 20z\"/>\n",
              "  </svg>\n",
              "      </button>\n",
              "      \n",
              "  <style>\n",
              "    .colab-df-container {\n",
              "      display:flex;\n",
              "      flex-wrap:wrap;\n",
              "      gap: 12px;\n",
              "    }\n",
              "\n",
              "    .colab-df-convert {\n",
              "      background-color: #E8F0FE;\n",
              "      border: none;\n",
              "      border-radius: 50%;\n",
              "      cursor: pointer;\n",
              "      display: none;\n",
              "      fill: #1967D2;\n",
              "      height: 32px;\n",
              "      padding: 0 0 0 0;\n",
              "      width: 32px;\n",
              "    }\n",
              "\n",
              "    .colab-df-convert:hover {\n",
              "      background-color: #E2EBFA;\n",
              "      box-shadow: 0px 1px 2px rgba(60, 64, 67, 0.3), 0px 1px 3px 1px rgba(60, 64, 67, 0.15);\n",
              "      fill: #174EA6;\n",
              "    }\n",
              "\n",
              "    [theme=dark] .colab-df-convert {\n",
              "      background-color: #3B4455;\n",
              "      fill: #D2E3FC;\n",
              "    }\n",
              "\n",
              "    [theme=dark] .colab-df-convert:hover {\n",
              "      background-color: #434B5C;\n",
              "      box-shadow: 0px 1px 3px 1px rgba(0, 0, 0, 0.15);\n",
              "      filter: drop-shadow(0px 1px 2px rgba(0, 0, 0, 0.3));\n",
              "      fill: #FFFFFF;\n",
              "    }\n",
              "  </style>\n",
              "\n",
              "      <script>\n",
              "        const buttonEl =\n",
              "          document.querySelector('#df-3d617bb6-f184-44eb-bfbf-d23a10338681 button.colab-df-convert');\n",
              "        buttonEl.style.display =\n",
              "          google.colab.kernel.accessAllowed ? 'block' : 'none';\n",
              "\n",
              "        async function convertToInteractive(key) {\n",
              "          const element = document.querySelector('#df-3d617bb6-f184-44eb-bfbf-d23a10338681');\n",
              "          const dataTable =\n",
              "            await google.colab.kernel.invokeFunction('convertToInteractive',\n",
              "                                                     [key], {});\n",
              "          if (!dataTable) return;\n",
              "\n",
              "          const docLinkHtml = 'Like what you see? Visit the ' +\n",
              "            '<a target=\"_blank\" href=https://colab.research.google.com/notebooks/data_table.ipynb>data table notebook</a>'\n",
              "            + ' to learn more about interactive tables.';\n",
              "          element.innerHTML = '';\n",
              "          dataTable['output_type'] = 'display_data';\n",
              "          await google.colab.output.renderOutput(dataTable, element);\n",
              "          const docLink = document.createElement('div');\n",
              "          docLink.innerHTML = docLinkHtml;\n",
              "          element.appendChild(docLink);\n",
              "        }\n",
              "      </script>\n",
              "    </div>\n",
              "  </div>\n",
              "  "
            ]
          },
          "metadata": {},
          "execution_count": 43
        }
      ]
    },
    {
      "cell_type": "code",
      "source": [
        "c2_group['SpendingScore']"
      ],
      "metadata": {
        "colab": {
          "base_uri": "https://localhost:8080/",
          "height": 238
        },
        "id": "V0uGyBoXaxK5",
        "outputId": "4db9d7bd-0055-444a-9b17-7d2d4c418713"
      },
      "execution_count": 44,
      "outputs": [
        {
          "output_type": "execute_result",
          "data": {
            "text/plain": [
              "         count      mean       std       min       25%       50%       75%  \\\n",
              "Cluster                                                                      \n",
              "1         50.0  0.896892  0.043466  0.806553  0.871957  0.890676  0.926473   \n",
              "2        157.0  0.771518  0.046058  0.657314  0.740367  0.766720  0.800598   \n",
              "3        147.0  0.328800  0.045224  0.203140  0.301502  0.324719  0.357267   \n",
              "4         25.0  0.068378  0.039744  0.000000  0.036795  0.063273  0.082723   \n",
              "5        126.0  0.309926  0.045513  0.174120  0.281237  0.309479  0.341096   \n",
              "\n",
              "              max  \n",
              "Cluster            \n",
              "1        1.000000  \n",
              "2        0.910417  \n",
              "3        0.473550  \n",
              "4        0.155694  \n",
              "5        0.411112  "
            ],
            "text/html": [
              "\n",
              "  <div id=\"df-c9f74d4e-9099-4fcd-b366-556af121e62a\">\n",
              "    <div class=\"colab-df-container\">\n",
              "      <div>\n",
              "<style scoped>\n",
              "    .dataframe tbody tr th:only-of-type {\n",
              "        vertical-align: middle;\n",
              "    }\n",
              "\n",
              "    .dataframe tbody tr th {\n",
              "        vertical-align: top;\n",
              "    }\n",
              "\n",
              "    .dataframe thead th {\n",
              "        text-align: right;\n",
              "    }\n",
              "</style>\n",
              "<table border=\"1\" class=\"dataframe\">\n",
              "  <thead>\n",
              "    <tr style=\"text-align: right;\">\n",
              "      <th></th>\n",
              "      <th>count</th>\n",
              "      <th>mean</th>\n",
              "      <th>std</th>\n",
              "      <th>min</th>\n",
              "      <th>25%</th>\n",
              "      <th>50%</th>\n",
              "      <th>75%</th>\n",
              "      <th>max</th>\n",
              "    </tr>\n",
              "    <tr>\n",
              "      <th>Cluster</th>\n",
              "      <th></th>\n",
              "      <th></th>\n",
              "      <th></th>\n",
              "      <th></th>\n",
              "      <th></th>\n",
              "      <th></th>\n",
              "      <th></th>\n",
              "      <th></th>\n",
              "    </tr>\n",
              "  </thead>\n",
              "  <tbody>\n",
              "    <tr>\n",
              "      <th>1</th>\n",
              "      <td>50.0</td>\n",
              "      <td>0.896892</td>\n",
              "      <td>0.043466</td>\n",
              "      <td>0.806553</td>\n",
              "      <td>0.871957</td>\n",
              "      <td>0.890676</td>\n",
              "      <td>0.926473</td>\n",
              "      <td>1.000000</td>\n",
              "    </tr>\n",
              "    <tr>\n",
              "      <th>2</th>\n",
              "      <td>157.0</td>\n",
              "      <td>0.771518</td>\n",
              "      <td>0.046058</td>\n",
              "      <td>0.657314</td>\n",
              "      <td>0.740367</td>\n",
              "      <td>0.766720</td>\n",
              "      <td>0.800598</td>\n",
              "      <td>0.910417</td>\n",
              "    </tr>\n",
              "    <tr>\n",
              "      <th>3</th>\n",
              "      <td>147.0</td>\n",
              "      <td>0.328800</td>\n",
              "      <td>0.045224</td>\n",
              "      <td>0.203140</td>\n",
              "      <td>0.301502</td>\n",
              "      <td>0.324719</td>\n",
              "      <td>0.357267</td>\n",
              "      <td>0.473550</td>\n",
              "    </tr>\n",
              "    <tr>\n",
              "      <th>4</th>\n",
              "      <td>25.0</td>\n",
              "      <td>0.068378</td>\n",
              "      <td>0.039744</td>\n",
              "      <td>0.000000</td>\n",
              "      <td>0.036795</td>\n",
              "      <td>0.063273</td>\n",
              "      <td>0.082723</td>\n",
              "      <td>0.155694</td>\n",
              "    </tr>\n",
              "    <tr>\n",
              "      <th>5</th>\n",
              "      <td>126.0</td>\n",
              "      <td>0.309926</td>\n",
              "      <td>0.045513</td>\n",
              "      <td>0.174120</td>\n",
              "      <td>0.281237</td>\n",
              "      <td>0.309479</td>\n",
              "      <td>0.341096</td>\n",
              "      <td>0.411112</td>\n",
              "    </tr>\n",
              "  </tbody>\n",
              "</table>\n",
              "</div>\n",
              "      <button class=\"colab-df-convert\" onclick=\"convertToInteractive('df-c9f74d4e-9099-4fcd-b366-556af121e62a')\"\n",
              "              title=\"Convert this dataframe to an interactive table.\"\n",
              "              style=\"display:none;\">\n",
              "        \n",
              "  <svg xmlns=\"http://www.w3.org/2000/svg\" height=\"24px\"viewBox=\"0 0 24 24\"\n",
              "       width=\"24px\">\n",
              "    <path d=\"M0 0h24v24H0V0z\" fill=\"none\"/>\n",
              "    <path d=\"M18.56 5.44l.94 2.06.94-2.06 2.06-.94-2.06-.94-.94-2.06-.94 2.06-2.06.94zm-11 1L8.5 8.5l.94-2.06 2.06-.94-2.06-.94L8.5 2.5l-.94 2.06-2.06.94zm10 10l.94 2.06.94-2.06 2.06-.94-2.06-.94-.94-2.06-.94 2.06-2.06.94z\"/><path d=\"M17.41 7.96l-1.37-1.37c-.4-.4-.92-.59-1.43-.59-.52 0-1.04.2-1.43.59L10.3 9.45l-7.72 7.72c-.78.78-.78 2.05 0 2.83L4 21.41c.39.39.9.59 1.41.59.51 0 1.02-.2 1.41-.59l7.78-7.78 2.81-2.81c.8-.78.8-2.07 0-2.86zM5.41 20L4 18.59l7.72-7.72 1.47 1.35L5.41 20z\"/>\n",
              "  </svg>\n",
              "      </button>\n",
              "      \n",
              "  <style>\n",
              "    .colab-df-container {\n",
              "      display:flex;\n",
              "      flex-wrap:wrap;\n",
              "      gap: 12px;\n",
              "    }\n",
              "\n",
              "    .colab-df-convert {\n",
              "      background-color: #E8F0FE;\n",
              "      border: none;\n",
              "      border-radius: 50%;\n",
              "      cursor: pointer;\n",
              "      display: none;\n",
              "      fill: #1967D2;\n",
              "      height: 32px;\n",
              "      padding: 0 0 0 0;\n",
              "      width: 32px;\n",
              "    }\n",
              "\n",
              "    .colab-df-convert:hover {\n",
              "      background-color: #E2EBFA;\n",
              "      box-shadow: 0px 1px 2px rgba(60, 64, 67, 0.3), 0px 1px 3px 1px rgba(60, 64, 67, 0.15);\n",
              "      fill: #174EA6;\n",
              "    }\n",
              "\n",
              "    [theme=dark] .colab-df-convert {\n",
              "      background-color: #3B4455;\n",
              "      fill: #D2E3FC;\n",
              "    }\n",
              "\n",
              "    [theme=dark] .colab-df-convert:hover {\n",
              "      background-color: #434B5C;\n",
              "      box-shadow: 0px 1px 3px 1px rgba(0, 0, 0, 0.15);\n",
              "      filter: drop-shadow(0px 1px 2px rgba(0, 0, 0, 0.3));\n",
              "      fill: #FFFFFF;\n",
              "    }\n",
              "  </style>\n",
              "\n",
              "      <script>\n",
              "        const buttonEl =\n",
              "          document.querySelector('#df-c9f74d4e-9099-4fcd-b366-556af121e62a button.colab-df-convert');\n",
              "        buttonEl.style.display =\n",
              "          google.colab.kernel.accessAllowed ? 'block' : 'none';\n",
              "\n",
              "        async function convertToInteractive(key) {\n",
              "          const element = document.querySelector('#df-c9f74d4e-9099-4fcd-b366-556af121e62a');\n",
              "          const dataTable =\n",
              "            await google.colab.kernel.invokeFunction('convertToInteractive',\n",
              "                                                     [key], {});\n",
              "          if (!dataTable) return;\n",
              "\n",
              "          const docLinkHtml = 'Like what you see? Visit the ' +\n",
              "            '<a target=\"_blank\" href=https://colab.research.google.com/notebooks/data_table.ipynb>data table notebook</a>'\n",
              "            + ' to learn more about interactive tables.';\n",
              "          element.innerHTML = '';\n",
              "          dataTable['output_type'] = 'display_data';\n",
              "          await google.colab.output.renderOutput(dataTable, element);\n",
              "          const docLink = document.createElement('div');\n",
              "          docLink.innerHTML = docLinkHtml;\n",
              "          element.appendChild(docLink);\n",
              "        }\n",
              "      </script>\n",
              "    </div>\n",
              "  </div>\n",
              "  "
            ]
          },
          "metadata": {},
          "execution_count": 44
        }
      ]
    },
    {
      "cell_type": "code",
      "source": [
        "c2_group['Savings']"
      ],
      "metadata": {
        "colab": {
          "base_uri": "https://localhost:8080/",
          "height": 238
        },
        "id": "F_DtO8GAaxIg",
        "outputId": "8b69e4b6-acc5-45e1-c037-7e7515d4f5fd"
      },
      "execution_count": 45,
      "outputs": [
        {
          "output_type": "execute_result",
          "data": {
            "text/plain": [
              "         count          mean          std           min           25%  \\\n",
              "Cluster                                                                 \n",
              "1         50.0   4087.520309  1277.754801      0.000000   3275.320193   \n",
              "2        157.0   6889.972190  1052.276354   4077.658657   6225.376082   \n",
              "3        147.0  16659.261445  1183.850178  13470.970605  15957.282919   \n",
              "4         25.0  14808.683793  1159.339639  12554.692742  14047.388986   \n",
              "5        126.0  14962.778066  1061.734017  12207.526078  14223.787562   \n",
              "\n",
              "                  50%           75%           max  \n",
              "Cluster                                            \n",
              "1         4361.967019   4986.863329   6089.478323  \n",
              "2         6845.056822   7497.231607  10547.775368  \n",
              "3        16711.067980  17433.126684  20000.000000  \n",
              "4        14773.407206  15391.952192  17833.093470  \n",
              "5        14976.943192  15682.288845  17968.553929  "
            ],
            "text/html": [
              "\n",
              "  <div id=\"df-19c9c092-1301-4e38-81bf-7784203d0abd\">\n",
              "    <div class=\"colab-df-container\">\n",
              "      <div>\n",
              "<style scoped>\n",
              "    .dataframe tbody tr th:only-of-type {\n",
              "        vertical-align: middle;\n",
              "    }\n",
              "\n",
              "    .dataframe tbody tr th {\n",
              "        vertical-align: top;\n",
              "    }\n",
              "\n",
              "    .dataframe thead th {\n",
              "        text-align: right;\n",
              "    }\n",
              "</style>\n",
              "<table border=\"1\" class=\"dataframe\">\n",
              "  <thead>\n",
              "    <tr style=\"text-align: right;\">\n",
              "      <th></th>\n",
              "      <th>count</th>\n",
              "      <th>mean</th>\n",
              "      <th>std</th>\n",
              "      <th>min</th>\n",
              "      <th>25%</th>\n",
              "      <th>50%</th>\n",
              "      <th>75%</th>\n",
              "      <th>max</th>\n",
              "    </tr>\n",
              "    <tr>\n",
              "      <th>Cluster</th>\n",
              "      <th></th>\n",
              "      <th></th>\n",
              "      <th></th>\n",
              "      <th></th>\n",
              "      <th></th>\n",
              "      <th></th>\n",
              "      <th></th>\n",
              "      <th></th>\n",
              "    </tr>\n",
              "  </thead>\n",
              "  <tbody>\n",
              "    <tr>\n",
              "      <th>1</th>\n",
              "      <td>50.0</td>\n",
              "      <td>4087.520309</td>\n",
              "      <td>1277.754801</td>\n",
              "      <td>0.000000</td>\n",
              "      <td>3275.320193</td>\n",
              "      <td>4361.967019</td>\n",
              "      <td>4986.863329</td>\n",
              "      <td>6089.478323</td>\n",
              "    </tr>\n",
              "    <tr>\n",
              "      <th>2</th>\n",
              "      <td>157.0</td>\n",
              "      <td>6889.972190</td>\n",
              "      <td>1052.276354</td>\n",
              "      <td>4077.658657</td>\n",
              "      <td>6225.376082</td>\n",
              "      <td>6845.056822</td>\n",
              "      <td>7497.231607</td>\n",
              "      <td>10547.775368</td>\n",
              "    </tr>\n",
              "    <tr>\n",
              "      <th>3</th>\n",
              "      <td>147.0</td>\n",
              "      <td>16659.261445</td>\n",
              "      <td>1183.850178</td>\n",
              "      <td>13470.970605</td>\n",
              "      <td>15957.282919</td>\n",
              "      <td>16711.067980</td>\n",
              "      <td>17433.126684</td>\n",
              "      <td>20000.000000</td>\n",
              "    </tr>\n",
              "    <tr>\n",
              "      <th>4</th>\n",
              "      <td>25.0</td>\n",
              "      <td>14808.683793</td>\n",
              "      <td>1159.339639</td>\n",
              "      <td>12554.692742</td>\n",
              "      <td>14047.388986</td>\n",
              "      <td>14773.407206</td>\n",
              "      <td>15391.952192</td>\n",
              "      <td>17833.093470</td>\n",
              "    </tr>\n",
              "    <tr>\n",
              "      <th>5</th>\n",
              "      <td>126.0</td>\n",
              "      <td>14962.778066</td>\n",
              "      <td>1061.734017</td>\n",
              "      <td>12207.526078</td>\n",
              "      <td>14223.787562</td>\n",
              "      <td>14976.943192</td>\n",
              "      <td>15682.288845</td>\n",
              "      <td>17968.553929</td>\n",
              "    </tr>\n",
              "  </tbody>\n",
              "</table>\n",
              "</div>\n",
              "      <button class=\"colab-df-convert\" onclick=\"convertToInteractive('df-19c9c092-1301-4e38-81bf-7784203d0abd')\"\n",
              "              title=\"Convert this dataframe to an interactive table.\"\n",
              "              style=\"display:none;\">\n",
              "        \n",
              "  <svg xmlns=\"http://www.w3.org/2000/svg\" height=\"24px\"viewBox=\"0 0 24 24\"\n",
              "       width=\"24px\">\n",
              "    <path d=\"M0 0h24v24H0V0z\" fill=\"none\"/>\n",
              "    <path d=\"M18.56 5.44l.94 2.06.94-2.06 2.06-.94-2.06-.94-.94-2.06-.94 2.06-2.06.94zm-11 1L8.5 8.5l.94-2.06 2.06-.94-2.06-.94L8.5 2.5l-.94 2.06-2.06.94zm10 10l.94 2.06.94-2.06 2.06-.94-2.06-.94-.94-2.06-.94 2.06-2.06.94z\"/><path d=\"M17.41 7.96l-1.37-1.37c-.4-.4-.92-.59-1.43-.59-.52 0-1.04.2-1.43.59L10.3 9.45l-7.72 7.72c-.78.78-.78 2.05 0 2.83L4 21.41c.39.39.9.59 1.41.59.51 0 1.02-.2 1.41-.59l7.78-7.78 2.81-2.81c.8-.78.8-2.07 0-2.86zM5.41 20L4 18.59l7.72-7.72 1.47 1.35L5.41 20z\"/>\n",
              "  </svg>\n",
              "      </button>\n",
              "      \n",
              "  <style>\n",
              "    .colab-df-container {\n",
              "      display:flex;\n",
              "      flex-wrap:wrap;\n",
              "      gap: 12px;\n",
              "    }\n",
              "\n",
              "    .colab-df-convert {\n",
              "      background-color: #E8F0FE;\n",
              "      border: none;\n",
              "      border-radius: 50%;\n",
              "      cursor: pointer;\n",
              "      display: none;\n",
              "      fill: #1967D2;\n",
              "      height: 32px;\n",
              "      padding: 0 0 0 0;\n",
              "      width: 32px;\n",
              "    }\n",
              "\n",
              "    .colab-df-convert:hover {\n",
              "      background-color: #E2EBFA;\n",
              "      box-shadow: 0px 1px 2px rgba(60, 64, 67, 0.3), 0px 1px 3px 1px rgba(60, 64, 67, 0.15);\n",
              "      fill: #174EA6;\n",
              "    }\n",
              "\n",
              "    [theme=dark] .colab-df-convert {\n",
              "      background-color: #3B4455;\n",
              "      fill: #D2E3FC;\n",
              "    }\n",
              "\n",
              "    [theme=dark] .colab-df-convert:hover {\n",
              "      background-color: #434B5C;\n",
              "      box-shadow: 0px 1px 3px 1px rgba(0, 0, 0, 0.15);\n",
              "      filter: drop-shadow(0px 1px 2px rgba(0, 0, 0, 0.3));\n",
              "      fill: #FFFFFF;\n",
              "    }\n",
              "  </style>\n",
              "\n",
              "      <script>\n",
              "        const buttonEl =\n",
              "          document.querySelector('#df-19c9c092-1301-4e38-81bf-7784203d0abd button.colab-df-convert');\n",
              "        buttonEl.style.display =\n",
              "          google.colab.kernel.accessAllowed ? 'block' : 'none';\n",
              "\n",
              "        async function convertToInteractive(key) {\n",
              "          const element = document.querySelector('#df-19c9c092-1301-4e38-81bf-7784203d0abd');\n",
              "          const dataTable =\n",
              "            await google.colab.kernel.invokeFunction('convertToInteractive',\n",
              "                                                     [key], {});\n",
              "          if (!dataTable) return;\n",
              "\n",
              "          const docLinkHtml = 'Like what you see? Visit the ' +\n",
              "            '<a target=\"_blank\" href=https://colab.research.google.com/notebooks/data_table.ipynb>data table notebook</a>'\n",
              "            + ' to learn more about interactive tables.';\n",
              "          element.innerHTML = '';\n",
              "          dataTable['output_type'] = 'display_data';\n",
              "          await google.colab.output.renderOutput(dataTable, element);\n",
              "          const docLink = document.createElement('div');\n",
              "          docLink.innerHTML = docLinkHtml;\n",
              "          element.appendChild(docLink);\n",
              "        }\n",
              "      </script>\n",
              "    </div>\n",
              "  </div>\n",
              "  "
            ]
          },
          "metadata": {},
          "execution_count": 45
        }
      ]
    },
    {
      "cell_type": "markdown",
      "source": [
        "# Results "
      ],
      "metadata": {
        "id": "Qk1Ur1mDSs2w"
      }
    },
    {
      "cell_type": "markdown",
      "source": [
        "**Cluster 1**\n",
        "\n",
        "Number of Instances: 50\n",
        "\n",
        "|         | Mean           | Min | Max  |\n",
        "| ------------- |------------| ------------| -----:|\n",
        "| **Age**      |24.2 | 17 | 31\n",
        "| **Income**   | \\$128,029 | \\$117,108| \\$142,000\n",
        "| **Spending Score**   | 0.89 | 0.80| 1\n",
        "| **Savings**   | \\$4,087 | \\$0| \\$6,089"
      ],
      "metadata": {
        "id": "v9IL6SulSZgJ"
      }
    },
    {
      "cell_type": "markdown",
      "source": [
        "**Cluster 2**\n",
        "\n",
        "Number of Instances: 157\n",
        "\n",
        "|         | Mean           | Min | Max  |\n",
        "| ------------- |------------| ------------|  -----:|\n",
        "| **Age**      |59.9 | 51 | 68\n",
        "| **Income**   | \\$72,448 | \\$56,321| \\$90,422\n",
        "| **Spending Score**   | 0.77 | 0.65| 0.91\n",
        "| **Savings**   | \\$6,889 | \\$4,077| \\$10,547"
      ],
      "metadata": {
        "id": "YXsZtsDZSv8y"
      }
    },
    {
      "cell_type": "markdown",
      "source": [
        "**Cluster 3**\n",
        "\n",
        "Number of Instances: 147\n",
        "\n",
        "|         | Mean           | Min | Max  |\n",
        "| ------------- |------------| ------------|  -----:|\n",
        "| **Age**      | 87.8 | 79 | 97\n",
        "| **Income**   | \\$27,866 | \\$12,000| \\$46,977\n",
        "| **Spending Score**   | 0.33 | 0.20| 0.47\n",
        "| **Savings**   | \\$16,659 | \\$13,470| \\$20,000"
      ],
      "metadata": {
        "id": "I0xNxoMeSvxB"
      }
    },
    {
      "cell_type": "markdown",
      "source": [
        "**Cluster 4**\n",
        "\n",
        "Number of Instances: 25\n",
        "\n",
        "|         | Mean           | Min | Max  |\n",
        "| ------------- |------------| ------------|  -----:|\n",
        "| **Age**      | 86 | 77| 93\n",
        "| **Income**   | \\$119,944 | \\$110,582| \\$128,596\n",
        "| **Spending Score**   | 0.06 | 0.00| 0.16\n",
        "| **Savings**   | \\$14,808 | \\$12,554| \\$17,833"
      ],
      "metadata": {
        "id": "wnmdTyHiSvpZ"
      }
    },
    {
      "cell_type": "markdown",
      "source": [
        "**Cluster 5**\n",
        "\n",
        "Number of Instances: 126\n",
        "\n",
        "|         | Mean           | Min | Max  |\n",
        "| ------------- |------------| ------------|  -----:|\n",
        "| **Age**      |32.8 | 22| 44\n",
        "| **Income**   | \\$\t105,265 | \\$89,598| \\$119,877\n",
        "| **Spending Score**   | 0.31 | 0.17| 0.41\n",
        "| **Savings**   | \\$14,962 | \\$12,207| \\$17,968"
      ],
      "metadata": {
        "id": "HvjyjU1-S78q"
      }
    }
  ]
}
